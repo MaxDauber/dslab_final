{
 "cells": [
  {
   "cell_type": "code",
   "execution_count": null,
   "metadata": {},
   "outputs": [],
   "source": [
    "import json\n",
    "import pandas as pd\n",
    "import numpy as np\n",
    "import seaborn as sns\n",
    "import xgboost as xgb\n",
    "import matplotlib.pyplot as plt\n",
    "import matplotlib.ticker as mtick\n",
    "from scipy.stats import skew\n",
    "from sklearn.svm import SVC\n",
    "from sklearn.ensemble import RandomForestClassifier, AdaBoostClassifier, GradientBoostingClassifier, ExtraTreesClassifier, GradientBoostingRegressor\n",
    "from sklearn.linear_model import Ridge, RidgeCV, ElasticNet, LassoCV, LassoLarsCV, LogisticRegression, LogisticRegressionCV\n",
    "from sklearn.tree import DecisionTreeRegressor\n",
    "from sklearn.model_selection import StratifiedShuffleSplit, StratifiedKFold, validation_curve, cross_val_score, train_test_split, KFold\n",
    "from sklearn.metrics import accuracy_score, log_loss, roc_auc_score, average_precision_score, mean_squared_error\n",
    "from sklearn.preprocessing import StandardScaler\n",
    "from datetime import datetime\n",
    "from tqdm import tqdm\n",
    "# from google.colab import files\n",
    "import warnings\n",
    "warnings.filterwarnings('ignore')\n",
    "\n",
    "# !wandb login bba1e1fa6dcd5919bf34e3094e5632c056b0c4d6\n",
    "# import wandb\n",
    "# from wandb.xgboost import wandb_callback\n",
    "# wandb.init(project=\"dslab-kaggle\")\n",
    "\n",
    "%matplotlib inline"
   ]
  },
  {
   "cell_type": "markdown",
   "metadata": {},
   "source": [
    "# County Predictions for 2020 Election (Covid)\n",
    "\n",
    "### Load Data and explore"
   ]
  },
  {
   "cell_type": "code",
   "execution_count": null,
   "metadata": {},
   "outputs": [],
   "source": [
    "df = pd.read_csv('data/county_statistics.csv', index_col=0)\n",
    "df.head()"
   ]
  },
  {
   "cell_type": "code",
   "execution_count": null,
   "metadata": {},
   "outputs": [],
   "source": [
    "df.describe()"
   ]
  },
  {
   "cell_type": "code",
   "execution_count": null,
   "metadata": {},
   "outputs": [],
   "source": [
    "plt.figure(figsize=(12,8))\n",
    "corrs = df[list(df.columns[15:]) + [\"votes20_Donald_Trump\", \"votes20_Joe_Biden\", \"votes16_Donald_Trump\", \"votes16_Hillary_Clinton\"]].corr()\n",
    "corrs = corrs[[\"votes20_Donald_Trump\", \"votes20_Joe_Biden\", \"votes16_Donald_Trump\", \"votes16_Hillary_Clinton\"]]\n",
    "hm = sns.heatmap(corrs, annot = True)\n",
    "plt.title('Relations between votes in 2020 and 2016 to non voting data')\n",
    "plt.show()"
   ]
  },
  {
   "cell_type": "code",
   "execution_count": null,
   "metadata": {},
   "outputs": [],
   "source": [
    "trump_win_counties_16 = df.loc[df['votes16_Donald_Trump'] >= df['votes16_Hillary_Clinton']]['county']\n",
    "trump_win_counties_20 = df.loc[df['votes20_Donald_Trump'] >= df['votes20_Joe_Biden']]['county']\n",
    "hillary_win_counties_16 = df.loc[df['votes16_Donald_Trump'] < df['votes16_Hillary_Clinton']]['county']\n",
    "biden_win_counties_20 = df.loc[df['votes20_Donald_Trump'] < df['votes20_Joe_Biden']]['county']"
   ]
  },
  {
   "cell_type": "markdown",
   "metadata": {},
   "source": [
    "### 2020 Democratic Votes"
   ]
  },
  {
   "cell_type": "code",
   "execution_count": null,
   "metadata": {},
   "outputs": [],
   "source": [
    "hc_jb = df.loc[(df['votes20_Donald_Trump'] < df['votes20_Joe_Biden']) & (df['votes16_Donald_Trump'] < df['votes16_Hillary_Clinton'])]\n",
    "hc_dt = df.loc[(df['votes20_Donald_Trump'] > df['votes20_Joe_Biden']) & (df['votes16_Donald_Trump'] < df['votes16_Hillary_Clinton'])]\n",
    "plt.bar([\"JB\", \"DT\"], [len(hc_jb.index), len(hc_dt.index)],color=[\"blue\",\"red\"])\n",
    "[len(hc_jb.index), len(hc_dt.index)]\n",
    "plt.title(\"Candidate voted by counties that voted HC in 2016\")\n",
    "plt.xlabel(\"Candidate\")\n",
    "plt.ylabel(\"Number of counties\")\n",
    "plt.show()\n",
    "print(\"Number of counties that shifted to from HC to DT: {}\".format(len(hc_dt.index)))\n",
    "print(\"Percentage of counties that shifted to from HC to DT: {:%}\".format((len(hc_dt.index)/len(df.index))))"
   ]
  },
  {
   "cell_type": "code",
   "execution_count": null,
   "metadata": {},
   "outputs": [],
   "source": [
    "hc_dt.head()"
   ]
  },
  {
   "cell_type": "markdown",
   "metadata": {},
   "source": [
    "### 2020 Republican Votes"
   ]
  },
  {
   "cell_type": "code",
   "execution_count": null,
   "metadata": {},
   "outputs": [],
   "source": [
    "dt_jb = df.loc[(df['votes20_Donald_Trump'] < df['votes20_Joe_Biden']) & (df['votes16_Donald_Trump'] > df['votes16_Hillary_Clinton'])]\n",
    "dt_dt = df.loc[(df['votes20_Donald_Trump'] > df['votes20_Joe_Biden']) & (df['votes16_Donald_Trump'] > df['votes16_Hillary_Clinton'])]\n",
    "plt.bar([\"JB\", \"DT\"], [len(dt_jb.index), len(dt_dt.index)],color=[\"blue\",\"red\"])\n",
    "[len(dt_jb.index), len(dt_dt.index)]\n",
    "plt.title(\"Candidate voted by counties that voted DT in 2016\")\n",
    "plt.xlabel(\"Candidate\")\n",
    "plt.ylabel(\"Number of counties\")\n",
    "plt.show()\n",
    "print(\"Number of counties that shifted to from DT to JB: {}\".format(len(dt_jb.index)))\n",
    "print(\"Percentage of counties that shifted to from DT to JB: {:%}\".format((len(dt_jb.index)/len(df.index))))"
   ]
  },
  {
   "cell_type": "code",
   "execution_count": null,
   "metadata": {},
   "outputs": [],
   "source": [
    "dt_jb.head()"
   ]
  },
  {
   "cell_type": "markdown",
   "metadata": {},
   "source": [
    "### Adding Binary Columns"
   ]
  },
  {
   "cell_type": "code",
   "execution_count": null,
   "metadata": {},
   "outputs": [],
   "source": [
    "df['flipped_rep'] = np.where((df['votes20_Donald_Trump'] > df['votes20_Joe_Biden']) & (df['votes16_Donald_Trump'] < df['votes16_Hillary_Clinton']), 1, 0)\n",
    "df['flipped_dem'] = np.where((df['votes20_Donald_Trump'] < df['votes20_Joe_Biden']) & (df['votes16_Donald_Trump'] > df['votes16_Hillary_Clinton']), 1, 0)\n",
    "df = df.iloc[0:3111]\n",
    "df"
   ]
  },
  {
   "cell_type": "markdown",
   "metadata": {},
   "source": [
    "### Looking at wider range of flip values"
   ]
  },
  {
   "cell_type": "code",
   "execution_count": null,
   "metadata": {},
   "outputs": [],
   "source": [
    "flip_threshold = 0.1\n",
    "rep_shift = df.loc[(df['percentage20_Donald_Trump'] >= df['percentage16_Donald_Trump'] + flip_threshold)]\n",
    "dem_shift = df.loc[(df['percentage20_Joe_Biden'] >= df['percentage16_Hillary_Clinton'] + flip_threshold)]\n",
    "dem_shift.head()"
   ]
  },
  {
   "cell_type": "code",
   "execution_count": null,
   "metadata": {},
   "outputs": [],
   "source": [
    "rep_shift_threshold = []\n",
    "dem_shift_threshold = []\n",
    "threshold_values = np.linspace(0.35,0,35,endpoint=False)\n",
    "for flip_threshold in threshold_values:\n",
    "    rep_shift = df.loc[(df['percentage20_Donald_Trump'] >= df['percentage16_Donald_Trump'] + flip_threshold) & (df['percentage20_Donald_Trump'] < df['percentage16_Donald_Trump'] + flip_threshold + 0.01)]\n",
    "    dem_shift = df.loc[(df['percentage20_Joe_Biden'] >= df['percentage16_Hillary_Clinton'] + flip_threshold) & (df['percentage20_Joe_Biden'] < df['percentage16_Hillary_Clinton'] + flip_threshold + 0.01)]\n",
    "    rep_shift_threshold.append(len(rep_shift.index))\n",
    "    dem_shift_threshold.append(len(dem_shift.index))"
   ]
  },
  {
   "cell_type": "code",
   "execution_count": null,
   "metadata": {},
   "outputs": [],
   "source": [
    "threshold_values = np.flip(threshold_values) * 100\n",
    "fig = plt.figure(1, (7,4))\n",
    "ax = fig.add_subplot(1,1,1)\n",
    "ax.plot(threshold_values, np.flip(rep_shift_threshold), label = \"Shifted Rep\", color=\"red\")\n",
    "ax.plot(threshold_values, np.flip(dem_shift_threshold), label = \"Shifted Dem\", color=\"blue\")\n",
    "plt.xlabel('Increment of shift')\n",
    "plt.ylabel('# Counties')\n",
    "plt.title('Number of Counties by Voting Shift %')\n",
    "plt.legend()\n",
    "# plt.yscale(\"log\")\n",
    "fmt = '%.0f%%'\n",
    "xticks = mtick.FormatStrFormatter(fmt)\n",
    "ax.xaxis.set_major_formatter(xticks)\n",
    "plt.show()\n",
    "fig.savefig('counties_shift.jpg')"
   ]
  },
  {
   "cell_type": "markdown",
   "metadata": {},
   "source": [
    "### Try percentile bucket -> Petersen Index"
   ]
  },
  {
   "cell_type": "code",
   "execution_count": null,
   "metadata": {},
   "outputs": [],
   "source": [
    "df"
   ]
  },
  {
   "cell_type": "code",
   "execution_count": null,
   "metadata": {},
   "outputs": [],
   "source": [
    "rep_shift_threshold = pd.DataFrame()\n",
    "dem_shift_threshold = pd.DataFrame()\n",
    "threshold_values = np.linspace(0.35,0,35,endpoint=False)\n",
    "rep_shift_threshold"
   ]
  },
  {
   "cell_type": "code",
   "execution_count": null,
   "metadata": {},
   "outputs": [],
   "source": [
    "for flip_threshold in threshold_values:\n",
    "    rep_shift = df.loc[(df['percentage20_Donald_Trump'] >= df['percentage16_Donald_Trump'] + flip_threshold) & (df['percentage20_Donald_Trump'] < df['percentage16_Donald_Trump'] + flip_threshold + 0.01)]\n",
    "    dem_shift = df.loc[(df['percentage20_Joe_Biden'] >= df['percentage16_Hillary_Clinton'] + flip_threshold) & (df['percentage20_Joe_Biden'] < df['percentage16_Hillary_Clinton'] + flip_threshold + 0.01)]\n",
    "    print(dem_shift.head())\n",
    "    title_r = str(round(flip_threshold, 2)) + \"_rep\"\n",
    "    title_d = str(round(flip_threshold, 2)) + \"_dem\"\n",
    "    rep_shift_threshold[title_r] = rep_shift.index\n",
    "    dem_shift_threshold[title_d] = dem_shift.index"
   ]
  },
  {
   "cell_type": "markdown",
   "metadata": {},
   "source": [
    "# Historical Scores - Volatility"
   ]
  },
  {
   "cell_type": "code",
   "execution_count": null,
   "metadata": {},
   "outputs": [],
   "source": [
    "df = pd.read_csv('data/countypres_2000-2016.csv', index_col=0)\n",
    "county_scores = pd.DataFrame({'volatility_score': 0}, index=df.FIPS.unique())\n",
    "\n",
    "df.head()"
   ]
  },
  {
   "cell_type": "code",
   "execution_count": null,
   "metadata": {},
   "outputs": [],
   "source": [
    "# general cleaning\n",
    "df = df[df['party'].isin(['democrat', 'republican'])]\n",
    "df = df.drop(['state', 'office', 'candidate', 'version'],  axis=1)\n",
    "df.head()"
   ]
  },
  {
   "cell_type": "code",
   "execution_count": null,
   "metadata": {},
   "outputs": [],
   "source": [
    "# transform votes into percentages for better scoring\n",
    "df['percentage_dem'] = np.where(df['party']=='democrat', df['candidatevotes'] / df['totalvotes'], 0)\n",
    "df['percentage_rep'] = np.where(df['party']=='republican', df['candidatevotes'] / df['totalvotes'], 0)\n",
    "df = df.drop(['candidatevotes', 'totalvotes', 'party'], axis=1)\n",
    "df = df.groupby(by=['year', 'FIPS']).aggregate({'county': 'first', 'state_po': 'first', 'percentage_dem': 'sum','percentage_rep': 'sum'})\n",
    "df"
   ]
  },
  {
   "cell_type": "code",
   "execution_count": null,
   "metadata": {},
   "outputs": [],
   "source": [
    "# sort by fips, and by year\n",
    "for fips, fips_df in tqdm(df.groupby(level=1)):\n",
    "    # (can use percentage or variance)\n",
    "    rep_var = np.average([abs(j-i) for i,j in zip(list(fips_df['percentage_rep']), list(fips_df['percentage_rep'][1:]))])\n",
    "    dem_var = np.average([abs(j-i) for i,j in zip(list(fips_df['percentage_dem']), list(fips_df['percentage_dem'][1:]))])\n",
    "    # rep_var = fips_df.var(axis=0)['percentage_rep']\n",
    "    # dem_var = fips_df.var(axis=0)['percentage_dem']\n",
    "    county_scores.at[fips] = (rep_var + dem_var) / 2\n",
    "    "
   ]
  },
  {
   "cell_type": "code",
   "execution_count": null,
   "metadata": {},
   "outputs": [],
   "source": [
    "# Print county scores\n",
    "county_scores"
   ]
  },
  {
   "cell_type": "code",
   "execution_count": null,
   "metadata": {},
   "outputs": [],
   "source": []
  },
  {
   "cell_type": "markdown",
   "metadata": {},
   "source": [
    "### Model Training\n",
    "\n",
    "#### Clean Data"
   ]
  },
  {
   "cell_type": "code",
   "execution_count": null,
   "metadata": {},
   "outputs": [],
   "source": [
    "df = df.drop(['percentage16_Donald_Trump', 'percentage16_Hillary_Clinton', 'total_votes16', 'votes16_Donald_Trump', 'votes16_Hillary_Clinton'],  axis=1)\n",
    "df = df.drop('county', axis=1)\n",
    "df = df.dropna(how='any', subset=['percentage20_Donald_Trump'])\n",
    "df = df.dropna(how='any', subset=['lat'])"
   ]
  },
  {
   "cell_type": "code",
   "execution_count": null,
   "metadata": {},
   "outputs": [],
   "source": [
    "trump_target = df['percentage20_Donald_Trump']\n",
    "df = df.drop(['percentage20_Donald_Trump', 'percentage20_Joe_Biden', 'votes20_Donald_Trump', 'votes20_Joe_Biden'],  axis=1)\n",
    "one_hot = pd.get_dummies(df['state'])\n",
    "df = df.drop('state',axis = 1)\n",
    "df = df.join(one_hot)"
   ]
  },
  {
   "cell_type": "code",
   "execution_count": null,
   "metadata": {},
   "outputs": [],
   "source": [
    "df.head()"
   ]
  },
  {
   "cell_type": "markdown",
   "metadata": {},
   "source": [
    "#### Train Model"
   ]
  },
  {
   "cell_type": "code",
   "execution_count": null,
   "metadata": {},
   "outputs": [],
   "source": [
    "X_train, X_test, y_train, y_test = train_test_split(df, trump_target, test_size=0.33)\n",
    "gb = GradientBoostingRegressor()\n",
    "gb.fit(X_train, y_train)"
   ]
  },
  {
   "cell_type": "code",
   "execution_count": null,
   "metadata": {},
   "outputs": [],
   "source": [
    "preds = gb.predict(X_test)\n",
    "mean_squared_error(y_test,preds)"
   ]
  },
  {
   "cell_type": "code",
   "execution_count": null,
   "metadata": {},
   "outputs": [],
   "source": [
    "df[\"cases_per_pop\"] = df['cases'] / df['TotalPop'] \n",
    "df['death_per_pop'] = df['deaths'] / df['TotalPop']\n",
    "\n",
    "subset_data = df.drop(['cases_per_pop'], axis=1)\n",
    "scores = cross_val_score(gb, subset_data, trump_target, cv=10, scoring=\"neg_mean_absolute_error\")\n",
    "\n",
    "print(\"Accuracy: %0.5f (+/- %0.5f)\" % (scores.mean(), scores.std()))"
   ]
  },
  {
   "cell_type": "code",
   "execution_count": null,
   "metadata": {},
   "outputs": [],
   "source": []
  },
  {
   "cell_type": "code",
   "execution_count": null,
   "metadata": {},
   "outputs": [],
   "source": []
  },
  {
   "cell_type": "code",
   "execution_count": null,
   "metadata": {},
   "outputs": [],
   "source": []
  },
  {
   "cell_type": "code",
   "execution_count": null,
   "metadata": {},
   "outputs": [],
   "source": []
  },
  {
   "cell_type": "code",
   "execution_count": null,
   "metadata": {},
   "outputs": [],
   "source": []
  },
  {
   "cell_type": "code",
   "execution_count": null,
   "metadata": {},
   "outputs": [],
   "source": []
  }
 ],
 "metadata": {
  "kernelspec": {
   "display_name": "Python 3",
   "language": "python",
   "name": "python3"
  },
  "language_info": {
   "codemirror_mode": {
    "name": "ipython",
    "version": 3
   },
   "file_extension": ".py",
   "mimetype": "text/x-python",
   "name": "python",
   "nbconvert_exporter": "python",
   "pygments_lexer": "ipython3",
   "version": "3.7.7"
  }
 },
 "nbformat": 4,
 "nbformat_minor": 4
}
