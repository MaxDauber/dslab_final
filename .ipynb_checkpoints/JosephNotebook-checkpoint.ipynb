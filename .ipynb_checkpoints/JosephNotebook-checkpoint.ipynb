{
 "cells": [
  {
   "cell_type": "code",
   "execution_count": 3,
   "metadata": {
    "colab": {
     "base_uri": "https://localhost:8080/"
    },
    "executionInfo": {
     "elapsed": 63754,
     "status": "ok",
     "timestamp": 1607234512732,
     "user": {
      "displayName": "Joseph Dieciedue",
      "photoUrl": "",
      "userId": "02343380692441435709"
     },
     "user_tz": 360
    },
    "id": "VQ2pmkc3hejL",
    "outputId": "b68347a1-b647-4142-8455-a74d7e673fa6"
   },
   "outputs": [
    {
     "name": "stdout",
     "output_type": "stream",
     "text": [
      "Collecting optuna\n",
      "\u001b[?25l  Downloading https://files.pythonhosted.org/packages/87/10/06b58f4120f26b603d905a594650440ea1fd74476b8b360dbf01e111469b/optuna-2.3.0.tar.gz (258kB)\n",
      "\r",
      "\u001b[K     |█▎                              | 10kB 17.3MB/s eta 0:00:01\r",
      "\u001b[K     |██▌                             | 20kB 22.1MB/s eta 0:00:01\r",
      "\u001b[K     |███▉                            | 30kB 17.4MB/s eta 0:00:01\r",
      "\u001b[K     |█████                           | 40kB 11.6MB/s eta 0:00:01\r",
      "\u001b[K     |██████▍                         | 51kB 8.8MB/s eta 0:00:01\r",
      "\u001b[K     |███████▋                        | 61kB 8.1MB/s eta 0:00:01\r",
      "\u001b[K     |████████▉                       | 71kB 8.4MB/s eta 0:00:01\r",
      "\u001b[K     |██████████▏                     | 81kB 8.7MB/s eta 0:00:01\r",
      "\u001b[K     |███████████▍                    | 92kB 8.3MB/s eta 0:00:01\r",
      "\u001b[K     |████████████▊                   | 102kB 8.6MB/s eta 0:00:01\r",
      "\u001b[K     |██████████████                  | 112kB 8.6MB/s eta 0:00:01\r",
      "\u001b[K     |███████████████▏                | 122kB 8.6MB/s eta 0:00:01\r",
      "\u001b[K     |████████████████▌               | 133kB 8.6MB/s eta 0:00:01\r",
      "\u001b[K     |█████████████████▊              | 143kB 8.6MB/s eta 0:00:01\r",
      "\u001b[K     |███████████████████             | 153kB 8.6MB/s eta 0:00:01\r",
      "\u001b[K     |████████████████████▎           | 163kB 8.6MB/s eta 0:00:01\r",
      "\u001b[K     |█████████████████████▌          | 174kB 8.6MB/s eta 0:00:01\r",
      "\u001b[K     |██████████████████████▉         | 184kB 8.6MB/s eta 0:00:01\r",
      "\u001b[K     |████████████████████████        | 194kB 8.6MB/s eta 0:00:01\r",
      "\u001b[K     |█████████████████████████▍      | 204kB 8.6MB/s eta 0:00:01\r",
      "\u001b[K     |██████████████████████████▋     | 215kB 8.6MB/s eta 0:00:01\r",
      "\u001b[K     |███████████████████████████▉    | 225kB 8.6MB/s eta 0:00:01\r",
      "\u001b[K     |█████████████████████████████▏  | 235kB 8.6MB/s eta 0:00:01\r",
      "\u001b[K     |██████████████████████████████▍ | 245kB 8.6MB/s eta 0:00:01\r",
      "\u001b[K     |███████████████████████████████▊| 256kB 8.6MB/s eta 0:00:01\r",
      "\u001b[K     |████████████████████████████████| 266kB 8.6MB/s \n",
      "\u001b[?25h  Installing build dependencies ... \u001b[?25l\u001b[?25hdone\n",
      "  Getting requirements to build wheel ... \u001b[?25l\u001b[?25hdone\n",
      "    Preparing wheel metadata ... \u001b[?25l\u001b[?25hdone\n",
      "Collecting cliff\n",
      "\u001b[?25l  Downloading https://files.pythonhosted.org/packages/8a/61/5b64d73b01c1218f55c894b5ec0fb89b32c6960b7f7b3ad9f5ac0c373b9d/cliff-3.5.0-py3-none-any.whl (81kB)\n",
      "\u001b[K     |████████████████████████████████| 81kB 5.8MB/s \n",
      "\u001b[?25hRequirement already satisfied: packaging>=20.0 in /usr/local/lib/python3.6/dist-packages (from optuna) (20.4)\n",
      "Requirement already satisfied: numpy in /usr/local/lib/python3.6/dist-packages (from optuna) (1.18.5)\n",
      "Requirement already satisfied: joblib in /usr/local/lib/python3.6/dist-packages (from optuna) (0.17.0)\n",
      "Requirement already satisfied: scipy!=1.4.0 in /usr/local/lib/python3.6/dist-packages (from optuna) (1.4.1)\n",
      "Requirement already satisfied: sqlalchemy>=1.1.0 in /usr/local/lib/python3.6/dist-packages (from optuna) (1.3.20)\n",
      "Collecting colorlog\n",
      "  Downloading https://files.pythonhosted.org/packages/4e/c8/c16d30bbed11a1722060014c246d124582d1f781b26f5859d8dacc3e08e1/colorlog-4.6.2-py2.py3-none-any.whl\n",
      "Collecting alembic\n",
      "\u001b[?25l  Downloading https://files.pythonhosted.org/packages/12/aa/c261dfd7f4ba6ce4701846a2689a46e2a172e012171de4378fc2926e3bf0/alembic-1.4.3-py2.py3-none-any.whl (159kB)\n",
      "\u001b[K     |████████████████████████████████| 163kB 12.2MB/s \n",
      "\u001b[?25hRequirement already satisfied: tqdm in /usr/local/lib/python3.6/dist-packages (from optuna) (4.41.1)\n",
      "Collecting cmaes>=0.6.0\n",
      "  Downloading https://files.pythonhosted.org/packages/8d/3c/06c76ec8b54b9b1fad7f35e903fd25010fe3e0d41bd94cea5e6f12e0d651/cmaes-0.7.0-py3-none-any.whl\n",
      "Requirement already satisfied: PyYAML>=3.12 in /usr/local/lib/python3.6/dist-packages (from cliff->optuna) (3.13)\n",
      "Requirement already satisfied: pyparsing>=2.1.0 in /usr/local/lib/python3.6/dist-packages (from cliff->optuna) (2.4.7)\n",
      "Collecting pbr!=2.1.0,>=2.0.0\n",
      "\u001b[?25l  Downloading https://files.pythonhosted.org/packages/fb/48/69046506f6ac61c1eaa9a0d42d22d54673b69e176d30ca98e3f61513e980/pbr-5.5.1-py2.py3-none-any.whl (106kB)\n",
      "\u001b[K     |████████████████████████████████| 112kB 14.9MB/s \n",
      "\u001b[?25hCollecting cmd2!=0.8.3,>=0.8.0\n",
      "\u001b[?25l  Downloading https://files.pythonhosted.org/packages/27/54/af6e2703f064485d717cb311d3f9440cd302a823ba6d80a020b59eae166d/cmd2-1.4.0-py3-none-any.whl (133kB)\n",
      "\u001b[K     |████████████████████████████████| 133kB 13.1MB/s \n",
      "\u001b[?25hCollecting PrettyTable<0.8,>=0.7.2\n",
      "  Downloading https://files.pythonhosted.org/packages/ef/30/4b0746848746ed5941f052479e7c23d2b56d174b82f4fd34a25e389831f5/prettytable-0.7.2.tar.bz2\n",
      "Collecting stevedore>=2.0.1\n",
      "\u001b[?25l  Downloading https://files.pythonhosted.org/packages/d4/49/b602307aeac3df3384ff1fcd05da9c0376c622a6c48bb5325f28ab165b57/stevedore-3.3.0-py3-none-any.whl (49kB)\n",
      "\u001b[K     |████████████████████████████████| 51kB 5.9MB/s \n",
      "\u001b[?25hRequirement already satisfied: six>=1.10.0 in /usr/local/lib/python3.6/dist-packages (from cliff->optuna) (1.15.0)\n",
      "Requirement already satisfied: python-dateutil in /usr/local/lib/python3.6/dist-packages (from alembic->optuna) (2.8.1)\n",
      "Collecting python-editor>=0.3\n",
      "  Downloading https://files.pythonhosted.org/packages/c6/d3/201fc3abe391bbae6606e6f1d598c15d367033332bd54352b12f35513717/python_editor-1.0.4-py3-none-any.whl\n",
      "Collecting Mako\n",
      "\u001b[?25l  Downloading https://files.pythonhosted.org/packages/a6/37/0e706200d22172eb8fa17d68a7ae22dec7631a0a92266634fb518a88a5b2/Mako-1.1.3-py2.py3-none-any.whl (75kB)\n",
      "\u001b[K     |████████████████████████████████| 81kB 7.9MB/s \n",
      "\u001b[?25hRequirement already satisfied: importlib-metadata>=1.6.0; python_version < \"3.8\" in /usr/local/lib/python3.6/dist-packages (from cmd2!=0.8.3,>=0.8.0->cliff->optuna) (2.0.0)\n",
      "Collecting pyperclip>=1.6\n",
      "  Downloading https://files.pythonhosted.org/packages/6f/4c/0b1d507ad7e8bc31d690d04b4f475e74c2002d060f7994ce8c09612df707/pyperclip-1.8.1.tar.gz\n",
      "Requirement already satisfied: wcwidth>=0.1.7 in /usr/local/lib/python3.6/dist-packages (from cmd2!=0.8.3,>=0.8.0->cliff->optuna) (0.2.5)\n",
      "Collecting colorama>=0.3.7\n",
      "  Downloading https://files.pythonhosted.org/packages/44/98/5b86278fbbf250d239ae0ecb724f8572af1c91f4a11edf4d36a206189440/colorama-0.4.4-py2.py3-none-any.whl\n",
      "Requirement already satisfied: attrs>=16.3.0 in /usr/local/lib/python3.6/dist-packages (from cmd2!=0.8.3,>=0.8.0->cliff->optuna) (20.3.0)\n",
      "Requirement already satisfied: MarkupSafe>=0.9.2 in /usr/local/lib/python3.6/dist-packages (from Mako->alembic->optuna) (1.1.1)\n",
      "Requirement already satisfied: zipp>=0.5 in /usr/local/lib/python3.6/dist-packages (from importlib-metadata>=1.6.0; python_version < \"3.8\"->cmd2!=0.8.3,>=0.8.0->cliff->optuna) (3.4.0)\n",
      "Building wheels for collected packages: optuna\n",
      "  Building wheel for optuna (PEP 517) ... \u001b[?25l\u001b[?25hdone\n",
      "  Created wheel for optuna: filename=optuna-2.3.0-cp36-none-any.whl size=359761 sha256=a2526afa7962fcc768bdaefb0c81a5042c5f893072909d892147faeab3639509\n",
      "  Stored in directory: /root/.cache/pip/wheels/fa/91/19/64b0ec6b964f89c0695a9dc6db6f851d0b54c5381a5c9cadfb\n",
      "Successfully built optuna\n",
      "Building wheels for collected packages: PrettyTable, pyperclip\n",
      "  Building wheel for PrettyTable (setup.py) ... \u001b[?25l\u001b[?25hdone\n",
      "  Created wheel for PrettyTable: filename=prettytable-0.7.2-cp36-none-any.whl size=13700 sha256=d2caa5d1253aa60fc1534a6d8dcd120294ca78c2e5f0bd52b4019beded22035f\n",
      "  Stored in directory: /root/.cache/pip/wheels/80/34/1c/3967380d9676d162cb59513bd9dc862d0584e045a162095606\n",
      "  Building wheel for pyperclip (setup.py) ... \u001b[?25l\u001b[?25hdone\n",
      "  Created wheel for pyperclip: filename=pyperclip-1.8.1-cp36-none-any.whl size=11119 sha256=9df85254b2401c0b140574240261d6b9d75f8dfe1b9ab61d76feee9b621564f1\n",
      "  Stored in directory: /root/.cache/pip/wheels/44/10/3a/c830e9bb3db2c93274ea1f213a41fabde0d8cf3794251fad0c\n",
      "Successfully built PrettyTable pyperclip\n",
      "Installing collected packages: pbr, pyperclip, colorama, cmd2, PrettyTable, stevedore, cliff, colorlog, python-editor, Mako, alembic, cmaes, optuna\n",
      "  Found existing installation: prettytable 2.0.0\n",
      "    Uninstalling prettytable-2.0.0:\n",
      "      Successfully uninstalled prettytable-2.0.0\n",
      "Successfully installed Mako-1.1.3 PrettyTable-0.7.2 alembic-1.4.3 cliff-3.5.0 cmaes-0.7.0 cmd2-1.4.0 colorama-0.4.4 colorlog-4.6.2 optuna-2.3.0 pbr-5.5.1 pyperclip-1.8.1 python-editor-1.0.4 stevedore-3.3.0\n",
      "Requirement already satisfied: plotly in /usr/local/lib/python3.6/dist-packages (4.4.1)\n",
      "Collecting plotly-geo\n",
      "\u001b[?25l  Downloading https://files.pythonhosted.org/packages/be/c6/be7d476e8c14c318c7b80329317d5dd5d1b876c393c9f8c0363b0dd188b8/plotly_geo-1.0.0-py3-none-any.whl (23.7MB)\n",
      "\u001b[K     |████████████████████████████████| 23.7MB 1.5MB/s \n",
      "\u001b[?25hRequirement already satisfied: retrying>=1.3.3 in /usr/local/lib/python3.6/dist-packages (from plotly) (1.3.3)\n",
      "Requirement already satisfied: six in /usr/local/lib/python3.6/dist-packages (from plotly) (1.15.0)\n",
      "Installing collected packages: plotly-geo\n",
      "Successfully installed plotly-geo-1.0.0\n",
      "Collecting geopandas==0.3.0\n",
      "\u001b[?25l  Downloading https://files.pythonhosted.org/packages/0a/0e/8ae74743ed7915ddb7d70cc8dfa8fc0b9b9cc81205c6e288a01915a46192/geopandas-0.3.0-py2.py3-none-any.whl (888kB)\n",
      "\u001b[K     |████████████████████████████████| 890kB 8.6MB/s \n",
      "\u001b[?25hCollecting pyproj\n",
      "\u001b[?25l  Downloading https://files.pythonhosted.org/packages/e4/ab/280e80a67cfc109d15428c0ec56391fc03a65857b7727cf4e6e6f99a4204/pyproj-3.0.0.post1-cp36-cp36m-manylinux2010_x86_64.whl (6.4MB)\n",
      "\u001b[K     |████████████████████████████████| 6.5MB 10.5MB/s \n",
      "\u001b[?25hRequirement already satisfied: shapely in /usr/local/lib/python3.6/dist-packages (from geopandas==0.3.0) (1.7.1)\n",
      "Collecting fiona\n",
      "\u001b[?25l  Downloading https://files.pythonhosted.org/packages/37/94/4910fd55246c1d963727b03885ead6ef1cd3748a465f7b0239ab25dfc9a3/Fiona-1.8.18-cp36-cp36m-manylinux1_x86_64.whl (14.8MB)\n",
      "\u001b[K     |████████████████████████████████| 14.8MB 333kB/s \n",
      "\u001b[?25hRequirement already satisfied: pandas in /usr/local/lib/python3.6/dist-packages (from geopandas==0.3.0) (1.1.4)\n",
      "Requirement already satisfied: descartes in /usr/local/lib/python3.6/dist-packages (from geopandas==0.3.0) (1.1.0)\n",
      "Requirement already satisfied: certifi in /usr/local/lib/python3.6/dist-packages (from pyproj->geopandas==0.3.0) (2020.11.8)\n",
      "Collecting cligj>=0.5\n",
      "  Downloading https://files.pythonhosted.org/packages/42/1e/947eadf10d6804bf276eb8a038bd5307996dceaaa41cfd21b7a15ec62f5d/cligj-0.7.1-py3-none-any.whl\n",
      "Requirement already satisfied: six>=1.7 in /usr/local/lib/python3.6/dist-packages (from fiona->geopandas==0.3.0) (1.15.0)\n",
      "Requirement already satisfied: click<8,>=4.0 in /usr/local/lib/python3.6/dist-packages (from fiona->geopandas==0.3.0) (7.1.2)\n",
      "Collecting click-plugins>=1.0\n",
      "  Downloading https://files.pythonhosted.org/packages/e9/da/824b92d9942f4e472702488857914bdd50f73021efea15b4cad9aca8ecef/click_plugins-1.1.1-py2.py3-none-any.whl\n",
      "Requirement already satisfied: attrs>=17 in /usr/local/lib/python3.6/dist-packages (from fiona->geopandas==0.3.0) (20.3.0)\n",
      "Collecting munch\n",
      "  Downloading https://files.pythonhosted.org/packages/cc/ab/85d8da5c9a45e072301beb37ad7f833cd344e04c817d97e0cc75681d248f/munch-2.5.0-py2.py3-none-any.whl\n",
      "Requirement already satisfied: python-dateutil>=2.7.3 in /usr/local/lib/python3.6/dist-packages (from pandas->geopandas==0.3.0) (2.8.1)\n",
      "Requirement already satisfied: numpy>=1.15.4 in /usr/local/lib/python3.6/dist-packages (from pandas->geopandas==0.3.0) (1.18.5)\n",
      "Requirement already satisfied: pytz>=2017.2 in /usr/local/lib/python3.6/dist-packages (from pandas->geopandas==0.3.0) (2018.9)\n",
      "Requirement already satisfied: matplotlib in /usr/local/lib/python3.6/dist-packages (from descartes->geopandas==0.3.0) (3.2.2)\n",
      "Requirement already satisfied: pyparsing!=2.0.4,!=2.1.2,!=2.1.6,>=2.0.1 in /usr/local/lib/python3.6/dist-packages (from matplotlib->descartes->geopandas==0.3.0) (2.4.7)\n",
      "Requirement already satisfied: cycler>=0.10 in /usr/local/lib/python3.6/dist-packages (from matplotlib->descartes->geopandas==0.3.0) (0.10.0)\n",
      "Requirement already satisfied: kiwisolver>=1.0.1 in /usr/local/lib/python3.6/dist-packages (from matplotlib->descartes->geopandas==0.3.0) (1.3.1)\n",
      "Installing collected packages: pyproj, cligj, click-plugins, munch, fiona, geopandas\n",
      "Successfully installed click-plugins-1.1.1 cligj-0.7.1 fiona-1.8.18 geopandas-0.3.0 munch-2.5.0 pyproj-3.0.0.post1\n",
      "Collecting pyshp==1.2.10\n",
      "\u001b[?25l  Downloading https://files.pythonhosted.org/packages/c2/cc/1851049f2740d09c7bd8e4b464b1b78638723f6173e71d44aea12deca1f8/pyshp-1.2.10.tar.gz (176kB)\n",
      "\u001b[K     |████████████████████████████████| 184kB 9.7MB/s \n",
      "\u001b[?25hBuilding wheels for collected packages: pyshp\n",
      "  Building wheel for pyshp (setup.py) ... \u001b[?25l\u001b[?25hdone\n",
      "  Created wheel for pyshp: filename=pyshp-1.2.10-cp36-none-any.whl size=20467 sha256=5d7493fc9e5ed694f843e6ac0a4ed4ecc7b3108c2730f67bd31368a9f9fb7d86\n",
      "  Stored in directory: /root/.cache/pip/wheels/ba/1a/67/6a12977f362c33a15edc753daf92c6f01879dbf4db76faf0dd\n",
      "Successfully built pyshp\n",
      "Installing collected packages: pyshp\n",
      "Successfully installed pyshp-1.2.10\n",
      "Collecting shapely==1.6.3\n",
      "\u001b[?25l  Downloading https://files.pythonhosted.org/packages/70/89/15016679ee1a327a798aacb3b9de709bfdeef679c10fc3e786202256049c/Shapely-1.6.3-cp36-cp36m-manylinux1_x86_64.whl (1.5MB)\n",
      "\u001b[K     |████████████████████████████████| 1.5MB 8.8MB/s \n",
      "\u001b[31mERROR: albumentations 0.1.12 has requirement imgaug<0.2.7,>=0.2.5, but you'll have imgaug 0.2.9 which is incompatible.\u001b[0m\n",
      "\u001b[?25hInstalling collected packages: shapely\n",
      "  Found existing installation: Shapely 1.7.1\n",
      "    Uninstalling Shapely-1.7.1:\n",
      "      Successfully uninstalled Shapely-1.7.1\n",
      "Successfully installed shapely-1.6.3\n",
      "Reading package lists... Done\n",
      "Building dependency tree       \n",
      "Reading state information... Done\n",
      "gdal-bin is already the newest version (2.2.3+dfsg-2).\n",
      "python-gdal is already the newest version (2.2.3+dfsg-2).\n",
      "python3-gdal is already the newest version (2.2.3+dfsg-2).\n",
      "0 upgraded, 0 newly installed, 0 to remove and 14 not upgraded.\n",
      "Reading package lists... Done\n",
      "Building dependency tree       \n",
      "Reading state information... Done\n",
      "The following additional packages will be installed:\n",
      "  libspatialindex-c4v5 libspatialindex-dev libspatialindex4v5\n",
      "  python3-pkg-resources\n",
      "Suggested packages:\n",
      "  python3-setuptools\n",
      "The following NEW packages will be installed:\n",
      "  libspatialindex-c4v5 libspatialindex-dev libspatialindex4v5\n",
      "  python3-pkg-resources python3-rtree\n",
      "0 upgraded, 5 newly installed, 0 to remove and 14 not upgraded.\n",
      "Need to get 671 kB of archives.\n",
      "After this operation, 3,948 kB of additional disk space will be used.\n",
      "Get:1 http://archive.ubuntu.com/ubuntu bionic/universe amd64 libspatialindex4v5 amd64 1.8.5-5 [219 kB]\n",
      "Get:2 http://archive.ubuntu.com/ubuntu bionic/universe amd64 libspatialindex-c4v5 amd64 1.8.5-5 [51.7 kB]\n",
      "Get:3 http://archive.ubuntu.com/ubuntu bionic/main amd64 python3-pkg-resources all 39.0.1-2 [98.8 kB]\n",
      "Get:4 http://archive.ubuntu.com/ubuntu bionic/universe amd64 libspatialindex-dev amd64 1.8.5-5 [285 kB]\n",
      "Get:5 http://archive.ubuntu.com/ubuntu bionic/universe amd64 python3-rtree all 0.8.3+ds-1 [16.9 kB]\n",
      "Fetched 671 kB in 1s (554 kB/s)\n",
      "Selecting previously unselected package libspatialindex4v5:amd64.\n",
      "(Reading database ... 144865 files and directories currently installed.)\n",
      "Preparing to unpack .../libspatialindex4v5_1.8.5-5_amd64.deb ...\n",
      "Unpacking libspatialindex4v5:amd64 (1.8.5-5) ...\n",
      "Selecting previously unselected package libspatialindex-c4v5:amd64.\n",
      "Preparing to unpack .../libspatialindex-c4v5_1.8.5-5_amd64.deb ...\n",
      "Unpacking libspatialindex-c4v5:amd64 (1.8.5-5) ...\n",
      "Selecting previously unselected package python3-pkg-resources.\n",
      "Preparing to unpack .../python3-pkg-resources_39.0.1-2_all.deb ...\n",
      "Unpacking python3-pkg-resources (39.0.1-2) ...\n",
      "Selecting previously unselected package libspatialindex-dev:amd64.\n",
      "Preparing to unpack .../libspatialindex-dev_1.8.5-5_amd64.deb ...\n",
      "Unpacking libspatialindex-dev:amd64 (1.8.5-5) ...\n",
      "Selecting previously unselected package python3-rtree.\n",
      "Preparing to unpack .../python3-rtree_0.8.3+ds-1_all.deb ...\n",
      "Unpacking python3-rtree (0.8.3+ds-1) ...\n",
      "Setting up libspatialindex4v5:amd64 (1.8.5-5) ...\n",
      "Setting up python3-pkg-resources (39.0.1-2) ...\n",
      "Setting up libspatialindex-c4v5:amd64 (1.8.5-5) ...\n",
      "Setting up libspatialindex-dev:amd64 (1.8.5-5) ...\n",
      "Setting up python3-rtree (0.8.3+ds-1) ...\n",
      "Processing triggers for libc-bin (2.27-3ubuntu1.2) ...\n",
      "/sbin/ldconfig.real: /usr/local/lib/python3.6/dist-packages/ideep4py/lib/libmkldnn.so.0 is not a symbolic link\n",
      "\n",
      "Collecting git+git://github.com/geopandas/geopandas.git\n",
      "  Cloning git://github.com/geopandas/geopandas.git to /tmp/pip-req-build-jr66razn\n",
      "  Running command git clone -q git://github.com/geopandas/geopandas.git /tmp/pip-req-build-jr66razn\n",
      "Requirement already satisfied: pandas>=0.24.0 in /usr/local/lib/python3.6/dist-packages (from geopandas==0.8.0+71.g5096498) (1.1.4)\n",
      "Requirement already satisfied: shapely>=1.6 in /usr/local/lib/python3.6/dist-packages (from geopandas==0.8.0+71.g5096498) (1.6.3)\n",
      "Requirement already satisfied: fiona>=1.8 in /usr/local/lib/python3.6/dist-packages (from geopandas==0.8.0+71.g5096498) (1.8.18)\n",
      "Requirement already satisfied: pyproj>=2.2.0 in /usr/local/lib/python3.6/dist-packages (from geopandas==0.8.0+71.g5096498) (3.0.0.post1)\n",
      "Requirement already satisfied: python-dateutil>=2.7.3 in /usr/local/lib/python3.6/dist-packages (from pandas>=0.24.0->geopandas==0.8.0+71.g5096498) (2.8.1)\n",
      "Requirement already satisfied: numpy>=1.15.4 in /usr/local/lib/python3.6/dist-packages (from pandas>=0.24.0->geopandas==0.8.0+71.g5096498) (1.18.5)\n",
      "Requirement already satisfied: pytz>=2017.2 in /usr/local/lib/python3.6/dist-packages (from pandas>=0.24.0->geopandas==0.8.0+71.g5096498) (2018.9)\n",
      "Requirement already satisfied: click-plugins>=1.0 in /usr/local/lib/python3.6/dist-packages (from fiona>=1.8->geopandas==0.8.0+71.g5096498) (1.1.1)\n",
      "Requirement already satisfied: six>=1.7 in /usr/local/lib/python3.6/dist-packages (from fiona>=1.8->geopandas==0.8.0+71.g5096498) (1.15.0)\n",
      "Requirement already satisfied: attrs>=17 in /usr/local/lib/python3.6/dist-packages (from fiona>=1.8->geopandas==0.8.0+71.g5096498) (20.3.0)\n",
      "Requirement already satisfied: munch in /usr/local/lib/python3.6/dist-packages (from fiona>=1.8->geopandas==0.8.0+71.g5096498) (2.5.0)\n",
      "Requirement already satisfied: cligj>=0.5 in /usr/local/lib/python3.6/dist-packages (from fiona>=1.8->geopandas==0.8.0+71.g5096498) (0.7.1)\n",
      "Requirement already satisfied: certifi in /usr/local/lib/python3.6/dist-packages (from fiona>=1.8->geopandas==0.8.0+71.g5096498) (2020.11.8)\n",
      "Requirement already satisfied: click<8,>=4.0 in /usr/local/lib/python3.6/dist-packages (from fiona>=1.8->geopandas==0.8.0+71.g5096498) (7.1.2)\n",
      "Building wheels for collected packages: geopandas\n",
      "  Building wheel for geopandas (setup.py) ... \u001b[?25l\u001b[?25hdone\n",
      "  Created wheel for geopandas: filename=geopandas-0.8.0+71.g5096498-py2.py3-none-any.whl size=973056 sha256=ba566051ff486923842ecc2005c40b9f0fd6026d2f8a14918e352d478711fba2\n",
      "  Stored in directory: /tmp/pip-ephem-wheel-cache-0borp34v/wheels/91/24/71/376c9c67192694168352afcccc2d264248f7e2cc6192997186\n",
      "Successfully built geopandas\n",
      "Installing collected packages: geopandas\n",
      "  Found existing installation: geopandas 0.3.0\n",
      "    Uninstalling geopandas-0.3.0:\n",
      "      Successfully uninstalled geopandas-0.3.0\n",
      "Successfully installed geopandas-0.8.0+71.g5096498\n",
      "Requirement already satisfied: descartes in /usr/local/lib/python3.6/dist-packages (1.1.0)\n",
      "Requirement already satisfied: matplotlib in /usr/local/lib/python3.6/dist-packages (from descartes) (3.2.2)\n",
      "Requirement already satisfied: pyparsing!=2.0.4,!=2.1.2,!=2.1.6,>=2.0.1 in /usr/local/lib/python3.6/dist-packages (from matplotlib->descartes) (2.4.7)\n",
      "Requirement already satisfied: kiwisolver>=1.0.1 in /usr/local/lib/python3.6/dist-packages (from matplotlib->descartes) (1.3.1)\n",
      "Requirement already satisfied: cycler>=0.10 in /usr/local/lib/python3.6/dist-packages (from matplotlib->descartes) (0.10.0)\n",
      "Requirement already satisfied: numpy>=1.11 in /usr/local/lib/python3.6/dist-packages (from matplotlib->descartes) (1.18.5)\n",
      "Requirement already satisfied: python-dateutil>=2.1 in /usr/local/lib/python3.6/dist-packages (from matplotlib->descartes) (2.8.1)\n",
      "Requirement already satisfied: six in /usr/local/lib/python3.6/dist-packages (from cycler>=0.10->matplotlib->descartes) (1.15.0)\n",
      "Requirement already satisfied: folium in /usr/local/lib/python3.6/dist-packages (0.8.3)\n",
      "Requirement already satisfied: jinja2 in /usr/local/lib/python3.6/dist-packages (from folium) (2.11.2)\n",
      "Requirement already satisfied: six in /usr/local/lib/python3.6/dist-packages (from folium) (1.15.0)\n",
      "Requirement already satisfied: requests in /usr/local/lib/python3.6/dist-packages (from folium) (2.23.0)\n",
      "Requirement already satisfied: numpy in /usr/local/lib/python3.6/dist-packages (from folium) (1.18.5)\n",
      "Requirement already satisfied: branca>=0.3.0 in /usr/local/lib/python3.6/dist-packages (from folium) (0.4.1)\n",
      "Requirement already satisfied: MarkupSafe>=0.23 in /usr/local/lib/python3.6/dist-packages (from jinja2->folium) (1.1.1)\n",
      "Requirement already satisfied: chardet<4,>=3.0.2 in /usr/local/lib/python3.6/dist-packages (from requests->folium) (3.0.4)\n",
      "Requirement already satisfied: certifi>=2017.4.17 in /usr/local/lib/python3.6/dist-packages (from requests->folium) (2020.11.8)\n",
      "Requirement already satisfied: idna<3,>=2.5 in /usr/local/lib/python3.6/dist-packages (from requests->folium) (2.10)\n",
      "Requirement already satisfied: urllib3!=1.25.0,!=1.25.1,<1.26,>=1.21.1 in /usr/local/lib/python3.6/dist-packages (from requests->folium) (1.24.3)\n",
      "Collecting plotly_express\n",
      "  Downloading https://files.pythonhosted.org/packages/d4/d6/8a2906f51e073a4be80cab35cfa10e7a34853e60f3ed5304ac470852a08d/plotly_express-0.4.1-py2.py3-none-any.whl\n",
      "Requirement already satisfied: scipy>=0.18 in /usr/local/lib/python3.6/dist-packages (from plotly_express) (1.4.1)\n",
      "Requirement already satisfied: numpy>=1.11 in /usr/local/lib/python3.6/dist-packages (from plotly_express) (1.18.5)\n",
      "Requirement already satisfied: pandas>=0.20.0 in /usr/local/lib/python3.6/dist-packages (from plotly_express) (1.1.4)\n",
      "Requirement already satisfied: plotly>=4.1.0 in /usr/local/lib/python3.6/dist-packages (from plotly_express) (4.4.1)\n",
      "Requirement already satisfied: statsmodels>=0.9.0 in /usr/local/lib/python3.6/dist-packages (from plotly_express) (0.10.2)\n",
      "Requirement already satisfied: patsy>=0.5 in /usr/local/lib/python3.6/dist-packages (from plotly_express) (0.5.1)\n",
      "Requirement already satisfied: python-dateutil>=2.7.3 in /usr/local/lib/python3.6/dist-packages (from pandas>=0.20.0->plotly_express) (2.8.1)\n",
      "Requirement already satisfied: pytz>=2017.2 in /usr/local/lib/python3.6/dist-packages (from pandas>=0.20.0->plotly_express) (2018.9)\n",
      "Requirement already satisfied: retrying>=1.3.3 in /usr/local/lib/python3.6/dist-packages (from plotly>=4.1.0->plotly_express) (1.3.3)\n",
      "Requirement already satisfied: six in /usr/local/lib/python3.6/dist-packages (from plotly>=4.1.0->plotly_express) (1.15.0)\n",
      "Installing collected packages: plotly-express\n",
      "Successfully installed plotly-express-0.4.1\n"
     ]
    }
   ],
   "source": [
    "!pip install optuna\n",
    "!pip install plotly plotly-geo\n",
    "!pip install geopandas==0.3.0\n",
    "!pip install pyshp==1.2.10\n",
    "!pip install shapely==1.6.3\n",
    "\n",
    "# Important library for many geopython libraries\n",
    "!apt install gdal-bin python-gdal python3-gdal \n",
    "# Install rtree - Geopandas requirment\n",
    "!apt install python3-rtree \n",
    "# Install Geopandas\n",
    "!pip install git+git://github.com/geopandas/geopandas.git\n",
    "# Install descartes - Geopandas requirment\n",
    "!pip install descartes \n",
    "# Install Folium for Geographic data visualization\n",
    "!pip install folium\n",
    "# Install plotlyExpress\n",
    "!pip install plotly_express"
   ]
  },
  {
   "cell_type": "code",
   "execution_count": 72,
   "metadata": {
    "executionInfo": {
     "elapsed": 307,
     "status": "ok",
     "timestamp": 1607238272670,
     "user": {
      "displayName": "Joseph Dieciedue",
      "photoUrl": "",
      "userId": "02343380692441435709"
     },
     "user_tz": 360
    },
    "id": "6pRNyxwzVv1c"
   },
   "outputs": [],
   "source": [
    "import pandas as pd\n",
    "import matplotlib.pyplot as plt\n",
    "import xgboost as xgb\n",
    "import lightgbm as lgbm\n",
    "import numpy as np\n",
    "import optuna as opt\n",
    "import plotly.figure_factory as ff\n",
    "import gc\n",
    "import sklearn\n",
    "\n",
    "from sklearn.model_selection import train_test_split, KFold, StratifiedKFold\n",
    "from sklearn.pipeline import Pipeline\n",
    "from sklearn.metrics import roc_curve, auc, explained_variance_score, mean_absolute_error, roc_auc_score\n",
    "from scipy.stats import pearsonr\n",
    "from xgboost import XGBClassifier, XGBRegressor\n",
    "from optuna import Trial\n",
    "from optuna.samplers import TPESampler\n",
    "\n",
    "import geopandas\n",
    "import shapely\n",
    "import shapefile\n",
    "import plotly\n",
    "from plotly.figure_factory._county_choropleth import create_choropleth"
   ]
  },
  {
   "cell_type": "code",
   "execution_count": 6,
   "metadata": {
    "executionInfo": {
     "elapsed": 600,
     "status": "ok",
     "timestamp": 1607234599947,
     "user": {
      "displayName": "Joseph Dieciedue",
      "photoUrl": "",
      "userId": "02343380692441435709"
     },
     "user_tz": 360
    },
    "id": "70XWULjbXcDu"
   },
   "outputs": [],
   "source": [
    "df = pd.read_csv('https://raw.githubusercontent.com/jdieciedue/DataScienceLabFiles/main/county_statistics.csv?token=AHQQ3CUVPB3SYQJ4A3KNEAC7ZR2FC', index_col=0)"
   ]
  },
  {
   "cell_type": "code",
   "execution_count": 7,
   "metadata": {
    "colab": {
     "base_uri": "https://localhost:8080/",
     "height": 211
    },
    "executionInfo": {
     "elapsed": 355,
     "status": "ok",
     "timestamp": 1607234603106,
     "user": {
      "displayName": "Joseph Dieciedue",
      "photoUrl": "",
      "userId": "02343380692441435709"
     },
     "user_tz": 360
    },
    "id": "RkgNNJrsXlXn",
    "outputId": "dfe716a2-1d3d-40b8-bc49-2514edf780af"
   },
   "outputs": [
    {
     "data": {
      "text/html": [
       "<div>\n",
       "<style scoped>\n",
       "    .dataframe tbody tr th:only-of-type {\n",
       "        vertical-align: middle;\n",
       "    }\n",
       "\n",
       "    .dataframe tbody tr th {\n",
       "        vertical-align: top;\n",
       "    }\n",
       "\n",
       "    .dataframe thead th {\n",
       "        text-align: right;\n",
       "    }\n",
       "</style>\n",
       "<table border=\"1\" class=\"dataframe\">\n",
       "  <thead>\n",
       "    <tr style=\"text-align: right;\">\n",
       "      <th></th>\n",
       "      <th>county</th>\n",
       "      <th>state</th>\n",
       "      <th>percentage16_Donald_Trump</th>\n",
       "      <th>percentage16_Hillary_Clinton</th>\n",
       "      <th>total_votes16</th>\n",
       "      <th>votes16_Donald_Trump</th>\n",
       "      <th>votes16_Hillary_Clinton</th>\n",
       "      <th>percentage20_Donald_Trump</th>\n",
       "      <th>percentage20_Joe_Biden</th>\n",
       "      <th>total_votes20</th>\n",
       "      <th>votes20_Donald_Trump</th>\n",
       "      <th>votes20_Joe_Biden</th>\n",
       "      <th>lat</th>\n",
       "      <th>long</th>\n",
       "      <th>cases</th>\n",
       "      <th>deaths</th>\n",
       "      <th>TotalPop</th>\n",
       "      <th>Men</th>\n",
       "      <th>Women</th>\n",
       "      <th>Hispanic</th>\n",
       "      <th>White</th>\n",
       "      <th>Black</th>\n",
       "      <th>Native</th>\n",
       "      <th>Asian</th>\n",
       "      <th>Pacific</th>\n",
       "      <th>VotingAgeCitizen</th>\n",
       "      <th>Income</th>\n",
       "      <th>IncomeErr</th>\n",
       "      <th>IncomePerCap</th>\n",
       "      <th>IncomePerCapErr</th>\n",
       "      <th>Poverty</th>\n",
       "      <th>ChildPoverty</th>\n",
       "      <th>Professional</th>\n",
       "      <th>Service</th>\n",
       "      <th>Office</th>\n",
       "      <th>Construction</th>\n",
       "      <th>Production</th>\n",
       "      <th>Drive</th>\n",
       "      <th>Carpool</th>\n",
       "      <th>Transit</th>\n",
       "      <th>Walk</th>\n",
       "      <th>OtherTransp</th>\n",
       "      <th>WorkAtHome</th>\n",
       "      <th>MeanCommute</th>\n",
       "      <th>Employed</th>\n",
       "      <th>PrivateWork</th>\n",
       "      <th>PublicWork</th>\n",
       "      <th>SelfEmployed</th>\n",
       "      <th>FamilyWork</th>\n",
       "      <th>Unemployment</th>\n",
       "    </tr>\n",
       "  </thead>\n",
       "  <tbody>\n",
       "    <tr>\n",
       "      <th>0</th>\n",
       "      <td>Abbeville</td>\n",
       "      <td>SC</td>\n",
       "      <td>0.629</td>\n",
       "      <td>0.346</td>\n",
       "      <td>10724.0</td>\n",
       "      <td>6742.0</td>\n",
       "      <td>3712.0</td>\n",
       "      <td>0.661</td>\n",
       "      <td>0.330</td>\n",
       "      <td>12433.0</td>\n",
       "      <td>8215.0</td>\n",
       "      <td>4101.0</td>\n",
       "      <td>34.223334</td>\n",
       "      <td>-82.461707</td>\n",
       "      <td>805.0</td>\n",
       "      <td>17.0</td>\n",
       "      <td>24788.0</td>\n",
       "      <td>12044.0</td>\n",
       "      <td>12744.0</td>\n",
       "      <td>1.3</td>\n",
       "      <td>68.9</td>\n",
       "      <td>27.6</td>\n",
       "      <td>0.1</td>\n",
       "      <td>0.3</td>\n",
       "      <td>0.0</td>\n",
       "      <td>19452.0</td>\n",
       "      <td>35254.0</td>\n",
       "      <td>2259.0</td>\n",
       "      <td>19234.0</td>\n",
       "      <td>799.0</td>\n",
       "      <td>22.7</td>\n",
       "      <td>32.1</td>\n",
       "      <td>27.2</td>\n",
       "      <td>20.7</td>\n",
       "      <td>20.8</td>\n",
       "      <td>10.6</td>\n",
       "      <td>20.7</td>\n",
       "      <td>78.3</td>\n",
       "      <td>11.1</td>\n",
       "      <td>0.5</td>\n",
       "      <td>1.8</td>\n",
       "      <td>1.8</td>\n",
       "      <td>6.5</td>\n",
       "      <td>25.8</td>\n",
       "      <td>9505.0</td>\n",
       "      <td>78.8</td>\n",
       "      <td>13.3</td>\n",
       "      <td>7.8</td>\n",
       "      <td>0.1</td>\n",
       "      <td>9.4</td>\n",
       "    </tr>\n",
       "    <tr>\n",
       "      <th>1</th>\n",
       "      <td>Acadia</td>\n",
       "      <td>LA</td>\n",
       "      <td>0.773</td>\n",
       "      <td>0.206</td>\n",
       "      <td>27386.0</td>\n",
       "      <td>21159.0</td>\n",
       "      <td>5638.0</td>\n",
       "      <td>0.795</td>\n",
       "      <td>0.191</td>\n",
       "      <td>28425.0</td>\n",
       "      <td>22596.0</td>\n",
       "      <td>5443.0</td>\n",
       "      <td>30.295065</td>\n",
       "      <td>-92.414197</td>\n",
       "      <td>3182.0</td>\n",
       "      <td>102.0</td>\n",
       "      <td>62607.0</td>\n",
       "      <td>30433.0</td>\n",
       "      <td>32174.0</td>\n",
       "      <td>2.4</td>\n",
       "      <td>77.5</td>\n",
       "      <td>17.6</td>\n",
       "      <td>0.1</td>\n",
       "      <td>0.1</td>\n",
       "      <td>0.0</td>\n",
       "      <td>45197.0</td>\n",
       "      <td>40492.0</td>\n",
       "      <td>2544.0</td>\n",
       "      <td>21591.0</td>\n",
       "      <td>1002.0</td>\n",
       "      <td>21.5</td>\n",
       "      <td>27.6</td>\n",
       "      <td>27.6</td>\n",
       "      <td>16.9</td>\n",
       "      <td>25.7</td>\n",
       "      <td>15.0</td>\n",
       "      <td>14.8</td>\n",
       "      <td>83.2</td>\n",
       "      <td>10.3</td>\n",
       "      <td>0.2</td>\n",
       "      <td>1.6</td>\n",
       "      <td>2.2</td>\n",
       "      <td>2.5</td>\n",
       "      <td>27.6</td>\n",
       "      <td>24982.0</td>\n",
       "      <td>80.0</td>\n",
       "      <td>12.1</td>\n",
       "      <td>7.6</td>\n",
       "      <td>0.3</td>\n",
       "      <td>8.9</td>\n",
       "    </tr>\n",
       "    <tr>\n",
       "      <th>2</th>\n",
       "      <td>Accomack</td>\n",
       "      <td>VA</td>\n",
       "      <td>0.545</td>\n",
       "      <td>0.428</td>\n",
       "      <td>15755.0</td>\n",
       "      <td>8582.0</td>\n",
       "      <td>6737.0</td>\n",
       "      <td>0.542</td>\n",
       "      <td>0.447</td>\n",
       "      <td>16938.0</td>\n",
       "      <td>9172.0</td>\n",
       "      <td>7578.0</td>\n",
       "      <td>37.767072</td>\n",
       "      <td>-75.632346</td>\n",
       "      <td>1227.0</td>\n",
       "      <td>19.0</td>\n",
       "      <td>32840.0</td>\n",
       "      <td>16079.0</td>\n",
       "      <td>16761.0</td>\n",
       "      <td>8.8</td>\n",
       "      <td>60.3</td>\n",
       "      <td>28.3</td>\n",
       "      <td>0.3</td>\n",
       "      <td>0.7</td>\n",
       "      <td>0.0</td>\n",
       "      <td>24408.0</td>\n",
       "      <td>42260.0</td>\n",
       "      <td>2253.0</td>\n",
       "      <td>24266.0</td>\n",
       "      <td>1564.0</td>\n",
       "      <td>19.8</td>\n",
       "      <td>31.8</td>\n",
       "      <td>31.1</td>\n",
       "      <td>17.7</td>\n",
       "      <td>18.8</td>\n",
       "      <td>15.1</td>\n",
       "      <td>17.3</td>\n",
       "      <td>80.0</td>\n",
       "      <td>10.6</td>\n",
       "      <td>0.5</td>\n",
       "      <td>2.6</td>\n",
       "      <td>1.8</td>\n",
       "      <td>4.5</td>\n",
       "      <td>22.0</td>\n",
       "      <td>13837.0</td>\n",
       "      <td>74.6</td>\n",
       "      <td>18.1</td>\n",
       "      <td>7.1</td>\n",
       "      <td>0.2</td>\n",
       "      <td>5.4</td>\n",
       "    </tr>\n",
       "    <tr>\n",
       "      <th>3</th>\n",
       "      <td>Ada</td>\n",
       "      <td>ID</td>\n",
       "      <td>0.479</td>\n",
       "      <td>0.387</td>\n",
       "      <td>195587.0</td>\n",
       "      <td>93748.0</td>\n",
       "      <td>75676.0</td>\n",
       "      <td>0.504</td>\n",
       "      <td>0.465</td>\n",
       "      <td>259389.0</td>\n",
       "      <td>130699.0</td>\n",
       "      <td>120539.0</td>\n",
       "      <td>43.452658</td>\n",
       "      <td>-116.241552</td>\n",
       "      <td>17451.0</td>\n",
       "      <td>181.0</td>\n",
       "      <td>435117.0</td>\n",
       "      <td>217999.0</td>\n",
       "      <td>217118.0</td>\n",
       "      <td>7.9</td>\n",
       "      <td>85.2</td>\n",
       "      <td>1.2</td>\n",
       "      <td>0.4</td>\n",
       "      <td>2.6</td>\n",
       "      <td>0.1</td>\n",
       "      <td>316189.0</td>\n",
       "      <td>60151.0</td>\n",
       "      <td>1294.0</td>\n",
       "      <td>31642.0</td>\n",
       "      <td>725.0</td>\n",
       "      <td>11.8</td>\n",
       "      <td>13.1</td>\n",
       "      <td>43.0</td>\n",
       "      <td>16.6</td>\n",
       "      <td>25.0</td>\n",
       "      <td>6.9</td>\n",
       "      <td>8.4</td>\n",
       "      <td>80.7</td>\n",
       "      <td>7.7</td>\n",
       "      <td>0.5</td>\n",
       "      <td>1.5</td>\n",
       "      <td>2.8</td>\n",
       "      <td>6.9</td>\n",
       "      <td>20.4</td>\n",
       "      <td>214984.0</td>\n",
       "      <td>78.3</td>\n",
       "      <td>15.0</td>\n",
       "      <td>6.6</td>\n",
       "      <td>0.1</td>\n",
       "      <td>4.3</td>\n",
       "    </tr>\n",
       "    <tr>\n",
       "      <th>4</th>\n",
       "      <td>Adair</td>\n",
       "      <td>IA</td>\n",
       "      <td>0.653</td>\n",
       "      <td>0.300</td>\n",
       "      <td>3759.0</td>\n",
       "      <td>2456.0</td>\n",
       "      <td>1127.0</td>\n",
       "      <td>0.697</td>\n",
       "      <td>0.286</td>\n",
       "      <td>4183.0</td>\n",
       "      <td>2917.0</td>\n",
       "      <td>1197.0</td>\n",
       "      <td>41.330756</td>\n",
       "      <td>-94.471059</td>\n",
       "      <td>222.0</td>\n",
       "      <td>1.0</td>\n",
       "      <td>7192.0</td>\n",
       "      <td>3552.0</td>\n",
       "      <td>3640.0</td>\n",
       "      <td>1.7</td>\n",
       "      <td>96.6</td>\n",
       "      <td>0.3</td>\n",
       "      <td>0.0</td>\n",
       "      <td>0.4</td>\n",
       "      <td>0.0</td>\n",
       "      <td>5572.0</td>\n",
       "      <td>49477.0</td>\n",
       "      <td>2633.0</td>\n",
       "      <td>28861.0</td>\n",
       "      <td>2055.0</td>\n",
       "      <td>9.5</td>\n",
       "      <td>12.1</td>\n",
       "      <td>28.2</td>\n",
       "      <td>16.9</td>\n",
       "      <td>20.0</td>\n",
       "      <td>17.3</td>\n",
       "      <td>17.6</td>\n",
       "      <td>77.9</td>\n",
       "      <td>12.4</td>\n",
       "      <td>0.3</td>\n",
       "      <td>2.8</td>\n",
       "      <td>0.4</td>\n",
       "      <td>6.2</td>\n",
       "      <td>22.3</td>\n",
       "      <td>3680.0</td>\n",
       "      <td>73.8</td>\n",
       "      <td>15.3</td>\n",
       "      <td>10.4</td>\n",
       "      <td>0.5</td>\n",
       "      <td>3.0</td>\n",
       "    </tr>\n",
       "  </tbody>\n",
       "</table>\n",
       "</div>"
      ],
      "text/plain": [
       "      county state  ...  FamilyWork  Unemployment\n",
       "0  Abbeville    SC  ...         0.1           9.4\n",
       "1     Acadia    LA  ...         0.3           8.9\n",
       "2   Accomack    VA  ...         0.2           5.4\n",
       "3        Ada    ID  ...         0.1           4.3\n",
       "4      Adair    IA  ...         0.5           3.0\n",
       "\n",
       "[5 rows x 50 columns]"
      ]
     },
     "execution_count": 7,
     "metadata": {
      "tags": []
     },
     "output_type": "execute_result"
    }
   ],
   "source": [
    "df.head()"
   ]
  },
  {
   "cell_type": "code",
   "execution_count": 8,
   "metadata": {
    "colab": {
     "base_uri": "https://localhost:8080/",
     "height": 211
    },
    "executionInfo": {
     "elapsed": 249,
     "status": "ok",
     "timestamp": 1607234604328,
     "user": {
      "displayName": "Joseph Dieciedue",
      "photoUrl": "",
      "userId": "02343380692441435709"
     },
     "user_tz": 360
    },
    "id": "XAQOEHQ8Zdin",
    "outputId": "b8f5e5c5-3146-42d9-fdcc-5c1d7ba50c4d"
   },
   "outputs": [
    {
     "data": {
      "text/html": [
       "<div>\n",
       "<style scoped>\n",
       "    .dataframe tbody tr th:only-of-type {\n",
       "        vertical-align: middle;\n",
       "    }\n",
       "\n",
       "    .dataframe tbody tr th {\n",
       "        vertical-align: top;\n",
       "    }\n",
       "\n",
       "    .dataframe thead th {\n",
       "        text-align: right;\n",
       "    }\n",
       "</style>\n",
       "<table border=\"1\" class=\"dataframe\">\n",
       "  <thead>\n",
       "    <tr style=\"text-align: right;\">\n",
       "      <th></th>\n",
       "      <th>lat</th>\n",
       "      <th>long</th>\n",
       "      <th>cases</th>\n",
       "      <th>deaths</th>\n",
       "      <th>TotalPop</th>\n",
       "      <th>Men</th>\n",
       "      <th>Women</th>\n",
       "      <th>Hispanic</th>\n",
       "      <th>White</th>\n",
       "      <th>Black</th>\n",
       "      <th>Native</th>\n",
       "      <th>Asian</th>\n",
       "      <th>Pacific</th>\n",
       "      <th>VotingAgeCitizen</th>\n",
       "      <th>Income</th>\n",
       "      <th>IncomeErr</th>\n",
       "      <th>IncomePerCap</th>\n",
       "      <th>IncomePerCapErr</th>\n",
       "      <th>Poverty</th>\n",
       "      <th>ChildPoverty</th>\n",
       "      <th>Professional</th>\n",
       "      <th>Service</th>\n",
       "      <th>Office</th>\n",
       "      <th>Construction</th>\n",
       "      <th>Production</th>\n",
       "      <th>Drive</th>\n",
       "      <th>Carpool</th>\n",
       "      <th>Transit</th>\n",
       "      <th>Walk</th>\n",
       "      <th>OtherTransp</th>\n",
       "      <th>WorkAtHome</th>\n",
       "      <th>MeanCommute</th>\n",
       "      <th>Employed</th>\n",
       "      <th>PrivateWork</th>\n",
       "      <th>PublicWork</th>\n",
       "      <th>SelfEmployed</th>\n",
       "      <th>FamilyWork</th>\n",
       "      <th>Unemployment</th>\n",
       "    </tr>\n",
       "  </thead>\n",
       "  <tbody>\n",
       "    <tr>\n",
       "      <th>0</th>\n",
       "      <td>34.223334</td>\n",
       "      <td>-82.461707</td>\n",
       "      <td>805.0</td>\n",
       "      <td>17.0</td>\n",
       "      <td>24788.0</td>\n",
       "      <td>12044.0</td>\n",
       "      <td>12744.0</td>\n",
       "      <td>1.3</td>\n",
       "      <td>68.9</td>\n",
       "      <td>27.6</td>\n",
       "      <td>0.1</td>\n",
       "      <td>0.3</td>\n",
       "      <td>0.0</td>\n",
       "      <td>19452.0</td>\n",
       "      <td>35254.0</td>\n",
       "      <td>2259.0</td>\n",
       "      <td>19234.0</td>\n",
       "      <td>799.0</td>\n",
       "      <td>22.7</td>\n",
       "      <td>32.1</td>\n",
       "      <td>27.2</td>\n",
       "      <td>20.7</td>\n",
       "      <td>20.8</td>\n",
       "      <td>10.6</td>\n",
       "      <td>20.7</td>\n",
       "      <td>78.3</td>\n",
       "      <td>11.1</td>\n",
       "      <td>0.5</td>\n",
       "      <td>1.8</td>\n",
       "      <td>1.8</td>\n",
       "      <td>6.5</td>\n",
       "      <td>25.8</td>\n",
       "      <td>9505.0</td>\n",
       "      <td>78.8</td>\n",
       "      <td>13.3</td>\n",
       "      <td>7.8</td>\n",
       "      <td>0.1</td>\n",
       "      <td>9.4</td>\n",
       "    </tr>\n",
       "    <tr>\n",
       "      <th>1</th>\n",
       "      <td>30.295065</td>\n",
       "      <td>-92.414197</td>\n",
       "      <td>3182.0</td>\n",
       "      <td>102.0</td>\n",
       "      <td>62607.0</td>\n",
       "      <td>30433.0</td>\n",
       "      <td>32174.0</td>\n",
       "      <td>2.4</td>\n",
       "      <td>77.5</td>\n",
       "      <td>17.6</td>\n",
       "      <td>0.1</td>\n",
       "      <td>0.1</td>\n",
       "      <td>0.0</td>\n",
       "      <td>45197.0</td>\n",
       "      <td>40492.0</td>\n",
       "      <td>2544.0</td>\n",
       "      <td>21591.0</td>\n",
       "      <td>1002.0</td>\n",
       "      <td>21.5</td>\n",
       "      <td>27.6</td>\n",
       "      <td>27.6</td>\n",
       "      <td>16.9</td>\n",
       "      <td>25.7</td>\n",
       "      <td>15.0</td>\n",
       "      <td>14.8</td>\n",
       "      <td>83.2</td>\n",
       "      <td>10.3</td>\n",
       "      <td>0.2</td>\n",
       "      <td>1.6</td>\n",
       "      <td>2.2</td>\n",
       "      <td>2.5</td>\n",
       "      <td>27.6</td>\n",
       "      <td>24982.0</td>\n",
       "      <td>80.0</td>\n",
       "      <td>12.1</td>\n",
       "      <td>7.6</td>\n",
       "      <td>0.3</td>\n",
       "      <td>8.9</td>\n",
       "    </tr>\n",
       "    <tr>\n",
       "      <th>2</th>\n",
       "      <td>37.767072</td>\n",
       "      <td>-75.632346</td>\n",
       "      <td>1227.0</td>\n",
       "      <td>19.0</td>\n",
       "      <td>32840.0</td>\n",
       "      <td>16079.0</td>\n",
       "      <td>16761.0</td>\n",
       "      <td>8.8</td>\n",
       "      <td>60.3</td>\n",
       "      <td>28.3</td>\n",
       "      <td>0.3</td>\n",
       "      <td>0.7</td>\n",
       "      <td>0.0</td>\n",
       "      <td>24408.0</td>\n",
       "      <td>42260.0</td>\n",
       "      <td>2253.0</td>\n",
       "      <td>24266.0</td>\n",
       "      <td>1564.0</td>\n",
       "      <td>19.8</td>\n",
       "      <td>31.8</td>\n",
       "      <td>31.1</td>\n",
       "      <td>17.7</td>\n",
       "      <td>18.8</td>\n",
       "      <td>15.1</td>\n",
       "      <td>17.3</td>\n",
       "      <td>80.0</td>\n",
       "      <td>10.6</td>\n",
       "      <td>0.5</td>\n",
       "      <td>2.6</td>\n",
       "      <td>1.8</td>\n",
       "      <td>4.5</td>\n",
       "      <td>22.0</td>\n",
       "      <td>13837.0</td>\n",
       "      <td>74.6</td>\n",
       "      <td>18.1</td>\n",
       "      <td>7.1</td>\n",
       "      <td>0.2</td>\n",
       "      <td>5.4</td>\n",
       "    </tr>\n",
       "    <tr>\n",
       "      <th>3</th>\n",
       "      <td>43.452658</td>\n",
       "      <td>-116.241552</td>\n",
       "      <td>17451.0</td>\n",
       "      <td>181.0</td>\n",
       "      <td>435117.0</td>\n",
       "      <td>217999.0</td>\n",
       "      <td>217118.0</td>\n",
       "      <td>7.9</td>\n",
       "      <td>85.2</td>\n",
       "      <td>1.2</td>\n",
       "      <td>0.4</td>\n",
       "      <td>2.6</td>\n",
       "      <td>0.1</td>\n",
       "      <td>316189.0</td>\n",
       "      <td>60151.0</td>\n",
       "      <td>1294.0</td>\n",
       "      <td>31642.0</td>\n",
       "      <td>725.0</td>\n",
       "      <td>11.8</td>\n",
       "      <td>13.1</td>\n",
       "      <td>43.0</td>\n",
       "      <td>16.6</td>\n",
       "      <td>25.0</td>\n",
       "      <td>6.9</td>\n",
       "      <td>8.4</td>\n",
       "      <td>80.7</td>\n",
       "      <td>7.7</td>\n",
       "      <td>0.5</td>\n",
       "      <td>1.5</td>\n",
       "      <td>2.8</td>\n",
       "      <td>6.9</td>\n",
       "      <td>20.4</td>\n",
       "      <td>214984.0</td>\n",
       "      <td>78.3</td>\n",
       "      <td>15.0</td>\n",
       "      <td>6.6</td>\n",
       "      <td>0.1</td>\n",
       "      <td>4.3</td>\n",
       "    </tr>\n",
       "    <tr>\n",
       "      <th>4</th>\n",
       "      <td>41.330756</td>\n",
       "      <td>-94.471059</td>\n",
       "      <td>222.0</td>\n",
       "      <td>1.0</td>\n",
       "      <td>7192.0</td>\n",
       "      <td>3552.0</td>\n",
       "      <td>3640.0</td>\n",
       "      <td>1.7</td>\n",
       "      <td>96.6</td>\n",
       "      <td>0.3</td>\n",
       "      <td>0.0</td>\n",
       "      <td>0.4</td>\n",
       "      <td>0.0</td>\n",
       "      <td>5572.0</td>\n",
       "      <td>49477.0</td>\n",
       "      <td>2633.0</td>\n",
       "      <td>28861.0</td>\n",
       "      <td>2055.0</td>\n",
       "      <td>9.5</td>\n",
       "      <td>12.1</td>\n",
       "      <td>28.2</td>\n",
       "      <td>16.9</td>\n",
       "      <td>20.0</td>\n",
       "      <td>17.3</td>\n",
       "      <td>17.6</td>\n",
       "      <td>77.9</td>\n",
       "      <td>12.4</td>\n",
       "      <td>0.3</td>\n",
       "      <td>2.8</td>\n",
       "      <td>0.4</td>\n",
       "      <td>6.2</td>\n",
       "      <td>22.3</td>\n",
       "      <td>3680.0</td>\n",
       "      <td>73.8</td>\n",
       "      <td>15.3</td>\n",
       "      <td>10.4</td>\n",
       "      <td>0.5</td>\n",
       "      <td>3.0</td>\n",
       "    </tr>\n",
       "  </tbody>\n",
       "</table>\n",
       "</div>"
      ],
      "text/plain": [
       "         lat        long    cases  ...  SelfEmployed  FamilyWork  Unemployment\n",
       "0  34.223334  -82.461707    805.0  ...           7.8         0.1           9.4\n",
       "1  30.295065  -92.414197   3182.0  ...           7.6         0.3           8.9\n",
       "2  37.767072  -75.632346   1227.0  ...           7.1         0.2           5.4\n",
       "3  43.452658 -116.241552  17451.0  ...           6.6         0.1           4.3\n",
       "4  41.330756  -94.471059    222.0  ...          10.4         0.5           3.0\n",
       "\n",
       "[5 rows x 38 columns]"
      ]
     },
     "execution_count": 8,
     "metadata": {
      "tags": []
     },
     "output_type": "execute_result"
    }
   ],
   "source": [
    "dropped = df.drop(['county', 'state', 'percentage16_Donald_Trump', 'percentage16_Hillary_Clinton', 'votes16_Donald_Trump', 'votes16_Hillary_Clinton', 'percentage20_Donald_Trump', 'percentage20_Joe_Biden', 'votes20_Donald_Trump', 'votes20_Joe_Biden'], axis=1)\n",
    "dropped = dropped.dropna()\n",
    "dropped = dropped.reset_index(drop=True)\n",
    "\n",
    "data = dropped.drop(['total_votes16', 'total_votes20'], axis=1)\n",
    "target = dropped['total_votes20'] - dropped['total_votes16']\n",
    "data.head()"
   ]
  },
  {
   "cell_type": "code",
   "execution_count": 9,
   "metadata": {
    "colab": {
     "base_uri": "https://localhost:8080/"
    },
    "executionInfo": {
     "elapsed": 266,
     "status": "ok",
     "timestamp": 1607234606500,
     "user": {
      "displayName": "Joseph Dieciedue",
      "photoUrl": "",
      "userId": "02343380692441435709"
     },
     "user_tz": 360
    },
    "id": "xTzJXi0feoH4",
    "outputId": "7ec1be67-2be7-4650-98e0-a6b87b9d8ffc"
   },
   "outputs": [
    {
     "data": {
      "text/plain": [
       "count    3.047000e+03\n",
       "mean     6.424238e+03\n",
       "std      5.042245e+04\n",
       "min     -3.748650e+05\n",
       "25%      3.125000e+02\n",
       "50%      1.053000e+03\n",
       "75%      3.646000e+03\n",
       "max      1.825620e+06\n",
       "dtype: float64"
      ]
     },
     "execution_count": 9,
     "metadata": {
      "tags": []
     },
     "output_type": "execute_result"
    }
   ],
   "source": [
    "target.describe()"
   ]
  },
  {
   "cell_type": "code",
   "execution_count": 10,
   "metadata": {
    "colab": {
     "base_uri": "https://localhost:8080/",
     "height": 297
    },
    "executionInfo": {
     "elapsed": 407,
     "status": "ok",
     "timestamp": 1607234608004,
     "user": {
      "displayName": "Joseph Dieciedue",
      "photoUrl": "",
      "userId": "02343380692441435709"
     },
     "user_tz": 360
    },
    "id": "-IsnqCMJfskt",
    "outputId": "0cbba197-69f4-447f-8e3f-e53641ced834"
   },
   "outputs": [
    {
     "data": {
      "text/html": [
       "<div>\n",
       "<style scoped>\n",
       "    .dataframe tbody tr th:only-of-type {\n",
       "        vertical-align: middle;\n",
       "    }\n",
       "\n",
       "    .dataframe tbody tr th {\n",
       "        vertical-align: top;\n",
       "    }\n",
       "\n",
       "    .dataframe thead th {\n",
       "        text-align: right;\n",
       "    }\n",
       "</style>\n",
       "<table border=\"1\" class=\"dataframe\">\n",
       "  <thead>\n",
       "    <tr style=\"text-align: right;\">\n",
       "      <th></th>\n",
       "      <th>lat</th>\n",
       "      <th>long</th>\n",
       "      <th>cases</th>\n",
       "      <th>deaths</th>\n",
       "      <th>TotalPop</th>\n",
       "      <th>Men</th>\n",
       "      <th>Women</th>\n",
       "      <th>Hispanic</th>\n",
       "      <th>White</th>\n",
       "      <th>Black</th>\n",
       "      <th>Native</th>\n",
       "      <th>Asian</th>\n",
       "      <th>Pacific</th>\n",
       "      <th>VotingAgeCitizen</th>\n",
       "      <th>Income</th>\n",
       "      <th>IncomeErr</th>\n",
       "      <th>IncomePerCap</th>\n",
       "      <th>IncomePerCapErr</th>\n",
       "      <th>Poverty</th>\n",
       "      <th>ChildPoverty</th>\n",
       "      <th>Professional</th>\n",
       "      <th>Service</th>\n",
       "      <th>Office</th>\n",
       "      <th>Construction</th>\n",
       "      <th>Production</th>\n",
       "      <th>Drive</th>\n",
       "      <th>Carpool</th>\n",
       "      <th>Transit</th>\n",
       "      <th>Walk</th>\n",
       "      <th>OtherTransp</th>\n",
       "      <th>WorkAtHome</th>\n",
       "      <th>MeanCommute</th>\n",
       "      <th>Employed</th>\n",
       "      <th>PrivateWork</th>\n",
       "      <th>PublicWork</th>\n",
       "      <th>SelfEmployed</th>\n",
       "      <th>FamilyWork</th>\n",
       "      <th>Unemployment</th>\n",
       "    </tr>\n",
       "  </thead>\n",
       "  <tbody>\n",
       "    <tr>\n",
       "      <th>count</th>\n",
       "      <td>3047.000000</td>\n",
       "      <td>3047.000000</td>\n",
       "      <td>3047.000000</td>\n",
       "      <td>3047.000000</td>\n",
       "      <td>3.047000e+03</td>\n",
       "      <td>3.047000e+03</td>\n",
       "      <td>3.047000e+03</td>\n",
       "      <td>3047.000000</td>\n",
       "      <td>3047.000000</td>\n",
       "      <td>3047.000000</td>\n",
       "      <td>3047.000000</td>\n",
       "      <td>3047.000000</td>\n",
       "      <td>3047.000000</td>\n",
       "      <td>3.047000e+03</td>\n",
       "      <td>3047.000000</td>\n",
       "      <td>3047.000000</td>\n",
       "      <td>3047.000000</td>\n",
       "      <td>3047.000000</td>\n",
       "      <td>3047.000000</td>\n",
       "      <td>3047.000000</td>\n",
       "      <td>3047.000000</td>\n",
       "      <td>3047.000000</td>\n",
       "      <td>3047.000000</td>\n",
       "      <td>3047.000000</td>\n",
       "      <td>3047.000000</td>\n",
       "      <td>3047.000000</td>\n",
       "      <td>3047.000000</td>\n",
       "      <td>3047.000000</td>\n",
       "      <td>3047.000000</td>\n",
       "      <td>3047.000000</td>\n",
       "      <td>3047.000000</td>\n",
       "      <td>3047.000000</td>\n",
       "      <td>3.047000e+03</td>\n",
       "      <td>3047.000000</td>\n",
       "      <td>3047.000000</td>\n",
       "      <td>3047.000000</td>\n",
       "      <td>3047.000000</td>\n",
       "      <td>3047.000000</td>\n",
       "    </tr>\n",
       "    <tr>\n",
       "      <th>mean</th>\n",
       "      <td>38.231844</td>\n",
       "      <td>-92.062167</td>\n",
       "      <td>2901.527404</td>\n",
       "      <td>72.709222</td>\n",
       "      <td>1.023671e+05</td>\n",
       "      <td>5.040257e+04</td>\n",
       "      <td>5.196448e+04</td>\n",
       "      <td>9.199606</td>\n",
       "      <td>77.226223</td>\n",
       "      <td>8.797013</td>\n",
       "      <td>1.532032</td>\n",
       "      <td>1.235084</td>\n",
       "      <td>0.071250</td>\n",
       "      <td>7.227581e+04</td>\n",
       "      <td>49504.142435</td>\n",
       "      <td>3155.957991</td>\n",
       "      <td>25912.977683</td>\n",
       "      <td>1525.797506</td>\n",
       "      <td>15.991598</td>\n",
       "      <td>22.137086</td>\n",
       "      <td>31.419691</td>\n",
       "      <td>18.078864</td>\n",
       "      <td>21.774040</td>\n",
       "      <td>12.702068</td>\n",
       "      <td>16.026748</td>\n",
       "      <td>79.903577</td>\n",
       "      <td>9.901378</td>\n",
       "      <td>0.885067</td>\n",
       "      <td>2.989596</td>\n",
       "      <td>1.516771</td>\n",
       "      <td>4.805120</td>\n",
       "      <td>23.470791</td>\n",
       "      <td>4.793695e+04</td>\n",
       "      <td>75.218182</td>\n",
       "      <td>16.689925</td>\n",
       "      <td>7.808763</td>\n",
       "      <td>0.284280</td>\n",
       "      <td>6.320315</td>\n",
       "    </tr>\n",
       "    <tr>\n",
       "      <th>std</th>\n",
       "      <td>4.898168</td>\n",
       "      <td>11.597131</td>\n",
       "      <td>10815.859057</td>\n",
       "      <td>342.008363</td>\n",
       "      <td>3.314234e+05</td>\n",
       "      <td>1.627391e+05</td>\n",
       "      <td>1.687222e+05</td>\n",
       "      <td>13.829304</td>\n",
       "      <td>19.727050</td>\n",
       "      <td>14.309894</td>\n",
       "      <td>6.277896</td>\n",
       "      <td>2.525999</td>\n",
       "      <td>0.391825</td>\n",
       "      <td>2.150914e+05</td>\n",
       "      <td>12866.379295</td>\n",
       "      <td>2386.170371</td>\n",
       "      <td>6115.881679</td>\n",
       "      <td>1155.818796</td>\n",
       "      <td>6.497109</td>\n",
       "      <td>10.276993</td>\n",
       "      <td>6.428773</td>\n",
       "      <td>3.657783</td>\n",
       "      <td>3.031301</td>\n",
       "      <td>4.120138</td>\n",
       "      <td>5.771179</td>\n",
       "      <td>6.643742</td>\n",
       "      <td>2.896431</td>\n",
       "      <td>3.007358</td>\n",
       "      <td>2.800245</td>\n",
       "      <td>1.142777</td>\n",
       "      <td>3.098045</td>\n",
       "      <td>5.507253</td>\n",
       "      <td>1.589227e+05</td>\n",
       "      <td>7.328785</td>\n",
       "      <td>5.908701</td>\n",
       "      <td>3.872761</td>\n",
       "      <td>0.453677</td>\n",
       "      <td>2.985207</td>\n",
       "    </tr>\n",
       "    <tr>\n",
       "      <th>min</th>\n",
       "      <td>19.601212</td>\n",
       "      <td>-159.596679</td>\n",
       "      <td>0.000000</td>\n",
       "      <td>0.000000</td>\n",
       "      <td>7.400000e+01</td>\n",
       "      <td>3.900000e+01</td>\n",
       "      <td>3.500000e+01</td>\n",
       "      <td>0.000000</td>\n",
       "      <td>0.600000</td>\n",
       "      <td>0.000000</td>\n",
       "      <td>0.000000</td>\n",
       "      <td>0.000000</td>\n",
       "      <td>0.000000</td>\n",
       "      <td>5.900000e+01</td>\n",
       "      <td>19264.000000</td>\n",
       "      <td>262.000000</td>\n",
       "      <td>10960.000000</td>\n",
       "      <td>129.000000</td>\n",
       "      <td>2.400000</td>\n",
       "      <td>0.000000</td>\n",
       "      <td>11.400000</td>\n",
       "      <td>0.000000</td>\n",
       "      <td>4.800000</td>\n",
       "      <td>2.200000</td>\n",
       "      <td>0.000000</td>\n",
       "      <td>6.000000</td>\n",
       "      <td>0.000000</td>\n",
       "      <td>0.000000</td>\n",
       "      <td>0.000000</td>\n",
       "      <td>0.000000</td>\n",
       "      <td>0.000000</td>\n",
       "      <td>7.700000</td>\n",
       "      <td>3.900000e+01</td>\n",
       "      <td>32.100000</td>\n",
       "      <td>4.400000</td>\n",
       "      <td>0.000000</td>\n",
       "      <td>0.000000</td>\n",
       "      <td>0.000000</td>\n",
       "    </tr>\n",
       "    <tr>\n",
       "      <th>25%</th>\n",
       "      <td>34.582369</td>\n",
       "      <td>-98.195153</td>\n",
       "      <td>241.000000</td>\n",
       "      <td>3.000000</td>\n",
       "      <td>1.101100e+04</td>\n",
       "      <td>5.541500e+03</td>\n",
       "      <td>5.492500e+03</td>\n",
       "      <td>2.000000</td>\n",
       "      <td>65.700000</td>\n",
       "      <td>0.600000</td>\n",
       "      <td>0.100000</td>\n",
       "      <td>0.300000</td>\n",
       "      <td>0.000000</td>\n",
       "      <td>8.326500e+03</td>\n",
       "      <td>41114.000000</td>\n",
       "      <td>1764.500000</td>\n",
       "      <td>21780.500000</td>\n",
       "      <td>850.000000</td>\n",
       "      <td>11.400000</td>\n",
       "      <td>14.900000</td>\n",
       "      <td>27.200000</td>\n",
       "      <td>15.700000</td>\n",
       "      <td>19.800000</td>\n",
       "      <td>9.900000</td>\n",
       "      <td>11.800000</td>\n",
       "      <td>77.400000</td>\n",
       "      <td>8.100000</td>\n",
       "      <td>0.100000</td>\n",
       "      <td>1.300000</td>\n",
       "      <td>0.800000</td>\n",
       "      <td>2.900000</td>\n",
       "      <td>19.600000</td>\n",
       "      <td>4.569000e+03</td>\n",
       "      <td>71.800000</td>\n",
       "      <td>12.600000</td>\n",
       "      <td>5.300000</td>\n",
       "      <td>0.100000</td>\n",
       "      <td>4.400000</td>\n",
       "    </tr>\n",
       "    <tr>\n",
       "      <th>50%</th>\n",
       "      <td>38.326086</td>\n",
       "      <td>-90.500440</td>\n",
       "      <td>654.000000</td>\n",
       "      <td>11.000000</td>\n",
       "      <td>2.576300e+04</td>\n",
       "      <td>1.281900e+04</td>\n",
       "      <td>1.288700e+04</td>\n",
       "      <td>3.900000</td>\n",
       "      <td>84.500000</td>\n",
       "      <td>2.100000</td>\n",
       "      <td>0.300000</td>\n",
       "      <td>0.600000</td>\n",
       "      <td>0.000000</td>\n",
       "      <td>1.951600e+04</td>\n",
       "      <td>47921.000000</td>\n",
       "      <td>2615.000000</td>\n",
       "      <td>25211.000000</td>\n",
       "      <td>1239.000000</td>\n",
       "      <td>15.200000</td>\n",
       "      <td>21.200000</td>\n",
       "      <td>30.500000</td>\n",
       "      <td>17.700000</td>\n",
       "      <td>22.000000</td>\n",
       "      <td>12.200000</td>\n",
       "      <td>15.700000</td>\n",
       "      <td>81.000000</td>\n",
       "      <td>9.500000</td>\n",
       "      <td>0.300000</td>\n",
       "      <td>2.200000</td>\n",
       "      <td>1.300000</td>\n",
       "      <td>4.100000</td>\n",
       "      <td>23.200000</td>\n",
       "      <td>1.067800e+04</td>\n",
       "      <td>76.400000</td>\n",
       "      <td>15.600000</td>\n",
       "      <td>6.800000</td>\n",
       "      <td>0.200000</td>\n",
       "      <td>6.000000</td>\n",
       "    </tr>\n",
       "    <tr>\n",
       "      <th>75%</th>\n",
       "      <td>41.685682</td>\n",
       "      <td>-83.713469</td>\n",
       "      <td>1794.500000</td>\n",
       "      <td>36.000000</td>\n",
       "      <td>6.676200e+04</td>\n",
       "      <td>3.322950e+04</td>\n",
       "      <td>3.371150e+04</td>\n",
       "      <td>9.400000</td>\n",
       "      <td>93.000000</td>\n",
       "      <td>9.800000</td>\n",
       "      <td>0.600000</td>\n",
       "      <td>1.200000</td>\n",
       "      <td>0.100000</td>\n",
       "      <td>5.046500e+04</td>\n",
       "      <td>55432.500000</td>\n",
       "      <td>3820.500000</td>\n",
       "      <td>28931.500000</td>\n",
       "      <td>1813.500000</td>\n",
       "      <td>19.300000</td>\n",
       "      <td>27.800000</td>\n",
       "      <td>34.800000</td>\n",
       "      <td>20.000000</td>\n",
       "      <td>23.800000</td>\n",
       "      <td>14.900000</td>\n",
       "      <td>19.700000</td>\n",
       "      <td>84.100000</td>\n",
       "      <td>11.300000</td>\n",
       "      <td>0.700000</td>\n",
       "      <td>3.750000</td>\n",
       "      <td>1.900000</td>\n",
       "      <td>5.800000</td>\n",
       "      <td>26.900000</td>\n",
       "      <td>2.919750e+04</td>\n",
       "      <td>80.300000</td>\n",
       "      <td>19.300000</td>\n",
       "      <td>9.200000</td>\n",
       "      <td>0.300000</td>\n",
       "      <td>7.800000</td>\n",
       "    </tr>\n",
       "    <tr>\n",
       "      <th>max</th>\n",
       "      <td>48.822280</td>\n",
       "      <td>-67.628135</td>\n",
       "      <td>309190.000000</td>\n",
       "      <td>7404.000000</td>\n",
       "      <td>1.010572e+07</td>\n",
       "      <td>4.979641e+06</td>\n",
       "      <td>5.126081e+06</td>\n",
       "      <td>99.200000</td>\n",
       "      <td>100.000000</td>\n",
       "      <td>86.900000</td>\n",
       "      <td>82.200000</td>\n",
       "      <td>41.800000</td>\n",
       "      <td>11.400000</td>\n",
       "      <td>6.218279e+06</td>\n",
       "      <td>129588.000000</td>\n",
       "      <td>41001.000000</td>\n",
       "      <td>69529.000000</td>\n",
       "      <td>16145.000000</td>\n",
       "      <td>52.000000</td>\n",
       "      <td>76.500000</td>\n",
       "      <td>69.000000</td>\n",
       "      <td>46.400000</td>\n",
       "      <td>37.200000</td>\n",
       "      <td>36.400000</td>\n",
       "      <td>48.700000</td>\n",
       "      <td>97.200000</td>\n",
       "      <td>29.300000</td>\n",
       "      <td>61.800000</td>\n",
       "      <td>42.400000</td>\n",
       "      <td>13.800000</td>\n",
       "      <td>33.000000</td>\n",
       "      <td>45.100000</td>\n",
       "      <td>4.805817e+06</td>\n",
       "      <td>88.800000</td>\n",
       "      <td>62.300000</td>\n",
       "      <td>38.000000</td>\n",
       "      <td>8.000000</td>\n",
       "      <td>28.700000</td>\n",
       "    </tr>\n",
       "  </tbody>\n",
       "</table>\n",
       "</div>"
      ],
      "text/plain": [
       "               lat         long  ...   FamilyWork  Unemployment\n",
       "count  3047.000000  3047.000000  ...  3047.000000   3047.000000\n",
       "mean     38.231844   -92.062167  ...     0.284280      6.320315\n",
       "std       4.898168    11.597131  ...     0.453677      2.985207\n",
       "min      19.601212  -159.596679  ...     0.000000      0.000000\n",
       "25%      34.582369   -98.195153  ...     0.100000      4.400000\n",
       "50%      38.326086   -90.500440  ...     0.200000      6.000000\n",
       "75%      41.685682   -83.713469  ...     0.300000      7.800000\n",
       "max      48.822280   -67.628135  ...     8.000000     28.700000\n",
       "\n",
       "[8 rows x 38 columns]"
      ]
     },
     "execution_count": 10,
     "metadata": {
      "tags": []
     },
     "output_type": "execute_result"
    }
   ],
   "source": [
    "data.describe()"
   ]
  },
  {
   "cell_type": "code",
   "execution_count": 11,
   "metadata": {
    "colab": {
     "base_uri": "https://localhost:8080/"
    },
    "executionInfo": {
     "elapsed": 258,
     "status": "ok",
     "timestamp": 1607234609388,
     "user": {
      "displayName": "Joseph Dieciedue",
      "photoUrl": "",
      "userId": "02343380692441435709"
     },
     "user_tz": 360
    },
    "id": "zO-Vp0ESiVQ0",
    "outputId": "8e581745-9469-44e3-cbf1-9ac3549838eb"
   },
   "outputs": [
    {
     "data": {
      "text/plain": [
       "(3047,)"
      ]
     },
     "execution_count": 11,
     "metadata": {
      "tags": []
     },
     "output_type": "execute_result"
    }
   ],
   "source": [
    "target.shape"
   ]
  },
  {
   "cell_type": "code",
   "execution_count": 12,
   "metadata": {
    "executionInfo": {
     "elapsed": 298,
     "status": "ok",
     "timestamp": 1607234610765,
     "user": {
      "displayName": "Joseph Dieciedue",
      "photoUrl": "",
      "userId": "02343380692441435709"
     },
     "user_tz": 360
    },
    "id": "tDAEitMMgCVO"
   },
   "outputs": [],
   "source": [
    "data = data.fillna(0)\n",
    "target = target.fillna(0)"
   ]
  },
  {
   "cell_type": "code",
   "execution_count": 13,
   "metadata": {
    "colab": {
     "base_uri": "https://localhost:8080/"
    },
    "executionInfo": {
     "elapsed": 322,
     "status": "ok",
     "timestamp": 1607234611747,
     "user": {
      "displayName": "Joseph Dieciedue",
      "photoUrl": "",
      "userId": "02343380692441435709"
     },
     "user_tz": 360
    },
    "id": "H_lG4D1V_w6R",
    "outputId": "6bf99fa2-e59a-4e25-d4b8-712b15dc3067"
   },
   "outputs": [
    {
     "data": {
      "text/plain": [
       "array([1., 0.])"
      ]
     },
     "execution_count": 13,
     "metadata": {
      "tags": []
     },
     "output_type": "execute_result"
    }
   ],
   "source": [
    "increased = np.sign(target)\n",
    "increased = (increased + 1)/2\n",
    "increased = increased.apply(lambda row: 1 if row == 0.5 else row)\n",
    "increased.unique()"
   ]
  },
  {
   "cell_type": "code",
   "execution_count": 14,
   "metadata": {
    "colab": {
     "base_uri": "https://localhost:8080/"
    },
    "executionInfo": {
     "elapsed": 297,
     "status": "ok",
     "timestamp": 1607234612645,
     "user": {
      "displayName": "Joseph Dieciedue",
      "photoUrl": "",
      "userId": "02343380692441435709"
     },
     "user_tz": 360
    },
    "id": "fDkUCQEFBrpR",
    "outputId": "f2264cac-3c0b-4c66-b4c5-ff5f425bbf3b"
   },
   "outputs": [
    {
     "data": {
      "text/plain": [
       "count    3047.000000\n",
       "mean        0.933049\n",
       "std         0.249978\n",
       "min         0.000000\n",
       "25%         1.000000\n",
       "50%         1.000000\n",
       "75%         1.000000\n",
       "max         1.000000\n",
       "dtype: float64"
      ]
     },
     "execution_count": 14,
     "metadata": {
      "tags": []
     },
     "output_type": "execute_result"
    }
   ],
   "source": [
    "increased.describe()"
   ]
  },
  {
   "cell_type": "code",
   "execution_count": 78,
   "metadata": {
    "colab": {
     "base_uri": "https://localhost:8080/",
     "height": 211
    },
    "executionInfo": {
     "elapsed": 297,
     "status": "ok",
     "timestamp": 1607238635145,
     "user": {
      "displayName": "Joseph Dieciedue",
      "photoUrl": "",
      "userId": "02343380692441435709"
     },
     "user_tz": 360
    },
    "id": "ma6A_E67R4Ot",
    "outputId": "768a5383-63ab-4adf-d084-a89558bf6371"
   },
   "outputs": [
    {
     "data": {
      "text/html": [
       "<div>\n",
       "<style scoped>\n",
       "    .dataframe tbody tr th:only-of-type {\n",
       "        vertical-align: middle;\n",
       "    }\n",
       "\n",
       "    .dataframe tbody tr th {\n",
       "        vertical-align: top;\n",
       "    }\n",
       "\n",
       "    .dataframe thead th {\n",
       "        text-align: right;\n",
       "    }\n",
       "</style>\n",
       "<table border=\"1\" class=\"dataframe\">\n",
       "  <thead>\n",
       "    <tr style=\"text-align: right;\">\n",
       "      <th></th>\n",
       "      <th>lat</th>\n",
       "      <th>long</th>\n",
       "      <th>TotalPop</th>\n",
       "      <th>Men</th>\n",
       "      <th>Women</th>\n",
       "      <th>Hispanic</th>\n",
       "      <th>White</th>\n",
       "      <th>Black</th>\n",
       "      <th>Native</th>\n",
       "      <th>Asian</th>\n",
       "      <th>Pacific</th>\n",
       "      <th>VotingAgeCitizen</th>\n",
       "      <th>Income</th>\n",
       "      <th>IncomeErr</th>\n",
       "      <th>IncomePerCap</th>\n",
       "      <th>IncomePerCapErr</th>\n",
       "      <th>Poverty</th>\n",
       "      <th>ChildPoverty</th>\n",
       "      <th>Professional</th>\n",
       "      <th>Service</th>\n",
       "      <th>Office</th>\n",
       "      <th>Construction</th>\n",
       "      <th>Production</th>\n",
       "      <th>Drive</th>\n",
       "      <th>Carpool</th>\n",
       "      <th>Transit</th>\n",
       "      <th>Walk</th>\n",
       "      <th>OtherTransp</th>\n",
       "      <th>WorkAtHome</th>\n",
       "      <th>MeanCommute</th>\n",
       "      <th>Employed</th>\n",
       "      <th>PrivateWork</th>\n",
       "      <th>PublicWork</th>\n",
       "      <th>SelfEmployed</th>\n",
       "      <th>FamilyWork</th>\n",
       "      <th>Unemployment</th>\n",
       "    </tr>\n",
       "  </thead>\n",
       "  <tbody>\n",
       "    <tr>\n",
       "      <th>0</th>\n",
       "      <td>34.223334</td>\n",
       "      <td>-82.461707</td>\n",
       "      <td>24788.0</td>\n",
       "      <td>12044.0</td>\n",
       "      <td>12744.0</td>\n",
       "      <td>1.3</td>\n",
       "      <td>68.9</td>\n",
       "      <td>27.6</td>\n",
       "      <td>0.1</td>\n",
       "      <td>0.3</td>\n",
       "      <td>0.0</td>\n",
       "      <td>19452.0</td>\n",
       "      <td>35254.0</td>\n",
       "      <td>2259.0</td>\n",
       "      <td>19234.0</td>\n",
       "      <td>799.0</td>\n",
       "      <td>22.7</td>\n",
       "      <td>32.1</td>\n",
       "      <td>27.2</td>\n",
       "      <td>20.7</td>\n",
       "      <td>20.8</td>\n",
       "      <td>10.6</td>\n",
       "      <td>20.7</td>\n",
       "      <td>78.3</td>\n",
       "      <td>11.1</td>\n",
       "      <td>0.5</td>\n",
       "      <td>1.8</td>\n",
       "      <td>1.8</td>\n",
       "      <td>6.5</td>\n",
       "      <td>25.8</td>\n",
       "      <td>9505.0</td>\n",
       "      <td>78.8</td>\n",
       "      <td>13.3</td>\n",
       "      <td>7.8</td>\n",
       "      <td>0.1</td>\n",
       "      <td>9.4</td>\n",
       "    </tr>\n",
       "    <tr>\n",
       "      <th>1</th>\n",
       "      <td>30.295065</td>\n",
       "      <td>-92.414197</td>\n",
       "      <td>62607.0</td>\n",
       "      <td>30433.0</td>\n",
       "      <td>32174.0</td>\n",
       "      <td>2.4</td>\n",
       "      <td>77.5</td>\n",
       "      <td>17.6</td>\n",
       "      <td>0.1</td>\n",
       "      <td>0.1</td>\n",
       "      <td>0.0</td>\n",
       "      <td>45197.0</td>\n",
       "      <td>40492.0</td>\n",
       "      <td>2544.0</td>\n",
       "      <td>21591.0</td>\n",
       "      <td>1002.0</td>\n",
       "      <td>21.5</td>\n",
       "      <td>27.6</td>\n",
       "      <td>27.6</td>\n",
       "      <td>16.9</td>\n",
       "      <td>25.7</td>\n",
       "      <td>15.0</td>\n",
       "      <td>14.8</td>\n",
       "      <td>83.2</td>\n",
       "      <td>10.3</td>\n",
       "      <td>0.2</td>\n",
       "      <td>1.6</td>\n",
       "      <td>2.2</td>\n",
       "      <td>2.5</td>\n",
       "      <td>27.6</td>\n",
       "      <td>24982.0</td>\n",
       "      <td>80.0</td>\n",
       "      <td>12.1</td>\n",
       "      <td>7.6</td>\n",
       "      <td>0.3</td>\n",
       "      <td>8.9</td>\n",
       "    </tr>\n",
       "    <tr>\n",
       "      <th>2</th>\n",
       "      <td>37.767072</td>\n",
       "      <td>-75.632346</td>\n",
       "      <td>32840.0</td>\n",
       "      <td>16079.0</td>\n",
       "      <td>16761.0</td>\n",
       "      <td>8.8</td>\n",
       "      <td>60.3</td>\n",
       "      <td>28.3</td>\n",
       "      <td>0.3</td>\n",
       "      <td>0.7</td>\n",
       "      <td>0.0</td>\n",
       "      <td>24408.0</td>\n",
       "      <td>42260.0</td>\n",
       "      <td>2253.0</td>\n",
       "      <td>24266.0</td>\n",
       "      <td>1564.0</td>\n",
       "      <td>19.8</td>\n",
       "      <td>31.8</td>\n",
       "      <td>31.1</td>\n",
       "      <td>17.7</td>\n",
       "      <td>18.8</td>\n",
       "      <td>15.1</td>\n",
       "      <td>17.3</td>\n",
       "      <td>80.0</td>\n",
       "      <td>10.6</td>\n",
       "      <td>0.5</td>\n",
       "      <td>2.6</td>\n",
       "      <td>1.8</td>\n",
       "      <td>4.5</td>\n",
       "      <td>22.0</td>\n",
       "      <td>13837.0</td>\n",
       "      <td>74.6</td>\n",
       "      <td>18.1</td>\n",
       "      <td>7.1</td>\n",
       "      <td>0.2</td>\n",
       "      <td>5.4</td>\n",
       "    </tr>\n",
       "    <tr>\n",
       "      <th>3</th>\n",
       "      <td>43.452658</td>\n",
       "      <td>-116.241552</td>\n",
       "      <td>435117.0</td>\n",
       "      <td>217999.0</td>\n",
       "      <td>217118.0</td>\n",
       "      <td>7.9</td>\n",
       "      <td>85.2</td>\n",
       "      <td>1.2</td>\n",
       "      <td>0.4</td>\n",
       "      <td>2.6</td>\n",
       "      <td>0.1</td>\n",
       "      <td>316189.0</td>\n",
       "      <td>60151.0</td>\n",
       "      <td>1294.0</td>\n",
       "      <td>31642.0</td>\n",
       "      <td>725.0</td>\n",
       "      <td>11.8</td>\n",
       "      <td>13.1</td>\n",
       "      <td>43.0</td>\n",
       "      <td>16.6</td>\n",
       "      <td>25.0</td>\n",
       "      <td>6.9</td>\n",
       "      <td>8.4</td>\n",
       "      <td>80.7</td>\n",
       "      <td>7.7</td>\n",
       "      <td>0.5</td>\n",
       "      <td>1.5</td>\n",
       "      <td>2.8</td>\n",
       "      <td>6.9</td>\n",
       "      <td>20.4</td>\n",
       "      <td>214984.0</td>\n",
       "      <td>78.3</td>\n",
       "      <td>15.0</td>\n",
       "      <td>6.6</td>\n",
       "      <td>0.1</td>\n",
       "      <td>4.3</td>\n",
       "    </tr>\n",
       "    <tr>\n",
       "      <th>4</th>\n",
       "      <td>41.330756</td>\n",
       "      <td>-94.471059</td>\n",
       "      <td>7192.0</td>\n",
       "      <td>3552.0</td>\n",
       "      <td>3640.0</td>\n",
       "      <td>1.7</td>\n",
       "      <td>96.6</td>\n",
       "      <td>0.3</td>\n",
       "      <td>0.0</td>\n",
       "      <td>0.4</td>\n",
       "      <td>0.0</td>\n",
       "      <td>5572.0</td>\n",
       "      <td>49477.0</td>\n",
       "      <td>2633.0</td>\n",
       "      <td>28861.0</td>\n",
       "      <td>2055.0</td>\n",
       "      <td>9.5</td>\n",
       "      <td>12.1</td>\n",
       "      <td>28.2</td>\n",
       "      <td>16.9</td>\n",
       "      <td>20.0</td>\n",
       "      <td>17.3</td>\n",
       "      <td>17.6</td>\n",
       "      <td>77.9</td>\n",
       "      <td>12.4</td>\n",
       "      <td>0.3</td>\n",
       "      <td>2.8</td>\n",
       "      <td>0.4</td>\n",
       "      <td>6.2</td>\n",
       "      <td>22.3</td>\n",
       "      <td>3680.0</td>\n",
       "      <td>73.8</td>\n",
       "      <td>15.3</td>\n",
       "      <td>10.4</td>\n",
       "      <td>0.5</td>\n",
       "      <td>3.0</td>\n",
       "    </tr>\n",
       "  </tbody>\n",
       "</table>\n",
       "</div>"
      ],
      "text/plain": [
       "         lat        long  TotalPop  ...  SelfEmployed  FamilyWork  Unemployment\n",
       "0  34.223334  -82.461707   24788.0  ...           7.8         0.1           9.4\n",
       "1  30.295065  -92.414197   62607.0  ...           7.6         0.3           8.9\n",
       "2  37.767072  -75.632346   32840.0  ...           7.1         0.2           5.4\n",
       "3  43.452658 -116.241552  435117.0  ...           6.6         0.1           4.3\n",
       "4  41.330756  -94.471059    7192.0  ...          10.4         0.5           3.0\n",
       "\n",
       "[5 rows x 36 columns]"
      ]
     },
     "execution_count": 78,
     "metadata": {
      "tags": []
     },
     "output_type": "execute_result"
    }
   ],
   "source": [
    "removing = data.copy()\n",
    "removing = removing.drop(['cases', 'deaths'], axis=1)\n",
    "removing.head()"
   ]
  },
  {
   "cell_type": "code",
   "execution_count": 42,
   "metadata": {
    "colab": {
     "base_uri": "https://localhost:8080/",
     "height": 295
    },
    "executionInfo": {
     "elapsed": 1170,
     "status": "ok",
     "timestamp": 1607235465717,
     "user": {
      "displayName": "Joseph Dieciedue",
      "photoUrl": "",
      "userId": "02343380692441435709"
     },
     "user_tz": 360
    },
    "id": "rG6gsXzTQJ_k",
    "outputId": "69c06368-f732-4d54-cf14-da706593cbef"
   },
   "outputs": [
    {
     "data": {
      "image/png": "[encoded data removed]",
      "text/plain": [
       "<Figure size 432x288 with 1 Axes>"
      ]
     },
     "metadata": {
      "needs_background": "light",
      "tags": []
     },
     "output_type": "display_data"
    }
   ],
   "source": [
    "X_train, X_test, y_train, y_test = train_test_split(data, increased, test_size=0.33)\n",
    "\n",
    "model = xgb.XGBClassifier()\n",
    "model.fit(X_train,y_train)\n",
    "xgb.plot_importance(model)\n",
    "plt.show()\n",
    "\n",
    "# re run with auc"
   ]
  },
  {
   "cell_type": "code",
   "execution_count": 45,
   "metadata": {
    "colab": {
     "base_uri": "https://localhost:8080/",
     "height": 311
    },
    "executionInfo": {
     "elapsed": 479,
     "status": "ok",
     "timestamp": 1607235482579,
     "user": {
      "displayName": "Joseph Dieciedue",
      "photoUrl": "",
      "userId": "02343380692441435709"
     },
     "user_tz": 360
    },
    "id": "yQNtTZMjRoc1",
    "outputId": "2a2deaab-1b0e-4cde-b8a0-798e127d99de"
   },
   "outputs": [
    {
     "name": "stdout",
     "output_type": "stream",
     "text": [
      "0.05666003976143141\n"
     ]
    },
    {
     "data": {
      "image/png": "[encoded data removed]",
      "text/plain": [
       "<Figure size 432x288 with 1 Axes>"
      ]
     },
     "metadata": {
      "needs_background": "light",
      "tags": []
     },
     "output_type": "display_data"
    }
   ],
   "source": [
    "predictions = model.predict(X_test)\n",
    "print(mean_absolute_error(y_test, predictions))\n",
    "predictions = model.predict_proba(X_test)[:,1]\n",
    "plot_auc(y_test, predictions)"
   ]
  },
  {
   "cell_type": "code",
   "execution_count": 30,
   "metadata": {
    "executionInfo": {
     "elapsed": 328,
     "status": "ok",
     "timestamp": 1607235188595,
     "user": {
      "displayName": "Joseph Dieciedue",
      "photoUrl": "",
      "userId": "02343380692441435709"
     },
     "user_tz": 360
    },
    "id": "UvEydDxUj2zB"
   },
   "outputs": [],
   "source": [
    "def plot_auc(test, pred):\n",
    "  fpr, tpr, _ = roc_curve(test.values, pred)\n",
    "  roc_auc = auc(fpr, tpr)\n",
    "\n",
    "  plt.figure()\n",
    "  lw = 2\n",
    "  plt.plot(fpr, tpr, color='darkorange',\n",
    "            lw=lw, label='ROC curve (area = %0.2f)' % roc_auc)\n",
    "  plt.plot([0, 1], [0, 1], color='navy', lw=lw, linestyle='--')\n",
    "  plt.xlim([-0.02, 1.0])\n",
    "  plt.ylim([0.0, 1.05])\n",
    "  plt.xlabel('False Positive Rate')\n",
    "  plt.ylabel('True Positive Rate')\n",
    "  plt.title('ROC curve')\n",
    "  plt.legend(loc=\"lower right\")\n",
    "  plt.show()"
   ]
  },
  {
   "cell_type": "code",
   "execution_count": 76,
   "metadata": {
    "colab": {
     "base_uri": "https://localhost:8080/",
     "height": 311
    },
    "executionInfo": {
     "elapsed": 1290,
     "status": "ok",
     "timestamp": 1607238628439,
     "user": {
      "displayName": "Joseph Dieciedue",
      "photoUrl": "",
      "userId": "02343380692441435709"
     },
     "user_tz": 360
    },
    "id": "VmWZkDkJTLJQ",
    "outputId": "b9b4b466-0c60-4310-95fe-e8cb3cc43493"
   },
   "outputs": [
    {
     "name": "stdout",
     "output_type": "stream",
     "text": [
      "[07:10:27] WARNING: /workspace/src/objective/regression_obj.cu:152: reg:linear is now deprecated in favor of reg:squarederror.\n"
     ]
    },
    {
     "data": {
      "image/png": "[encoded data removed]",
      "text/plain": [
       "<Figure size 432x288 with 1 Axes>"
      ]
     },
     "metadata": {
      "needs_background": "light",
      "tags": []
     },
     "output_type": "display_data"
    }
   ],
   "source": [
    "X_train, X_test, y_train, y_test = train_test_split(data, target, test_size=0.33)\n",
    "\n",
    "model = xgb.XGBRegressor()\n",
    "model.fit(X_train,y_train)\n",
    "xgb.plot_importance(model)\n",
    "plt.show()"
   ]
  },
  {
   "cell_type": "code",
   "execution_count": 77,
   "metadata": {
    "colab": {
     "base_uri": "https://localhost:8080/"
    },
    "executionInfo": {
     "elapsed": 263,
     "status": "ok",
     "timestamp": 1607238629162,
     "user": {
      "displayName": "Joseph Dieciedue",
      "photoUrl": "",
      "userId": "02343380692441435709"
     },
     "user_tz": 360
    },
    "id": "Jg76TSrdTQ1Y",
    "outputId": "d3774c02-4b1b-4660-82cf-5dce966ccce0"
   },
   "outputs": [
    {
     "data": {
      "text/plain": [
       "5078.623423032211"
      ]
     },
     "execution_count": 77,
     "metadata": {
      "tags": []
     },
     "output_type": "execute_result"
    }
   ],
   "source": [
    "predictions = model.predict(X_test)\n",
    "mean_absolute_error(y_test, predictions)"
   ]
  },
  {
   "cell_type": "code",
   "execution_count": 74,
   "metadata": {
    "executionInfo": {
     "elapsed": 327,
     "status": "ok",
     "timestamp": 1607238623575,
     "user": {
      "displayName": "Joseph Dieciedue",
      "photoUrl": "",
      "userId": "02343380692441435709"
     },
     "user_tz": 360
    },
    "id": "TKbjqWYLAUHo"
   },
   "outputs": [],
   "source": [
    "def mae(y_actual, y_pred):\n",
    "    return mean_absolute_error(np.expm1(y_actual), np.expm1(y_pred))"
   ]
  },
  {
   "cell_type": "code",
   "execution_count": 23,
   "metadata": {
    "colab": {
     "base_uri": "https://localhost:8080/"
    },
    "executionInfo": {
     "elapsed": 50278,
     "status": "ok",
     "timestamp": 1607234748459,
     "user": {
      "displayName": "Joseph Dieciedue",
      "photoUrl": "",
      "userId": "02343380692441435709"
     },
     "user_tz": 360
    },
    "id": "SWQP1KGwA8pS",
    "outputId": "16fe505f-044e-48cb-932c-1b8bd6e4eaff"
   },
   "outputs": [
    {
     "name": "stderr",
     "output_type": "stream",
     "text": [
      "\u001b[32m[I 2020-12-06 06:04:58,448]\u001b[0m A new study created in memory with name: no-name-f4143ace-bba4-48ae-8345-e895077d4a6f\u001b[0m\n",
      "\u001b[32m[I 2020-12-06 06:05:08,312]\u001b[0m Trial 0 finished with value: 0.21357304770437724 and parameters: {'lambda_l1': 0.08747537025773001, 'lambda_l2': 1.537331564587801e-08, 'num_leaves': 322, 'n_estimators': 1880, 'feature_fraction': 0.6991042073815543, 'bagging_fraction': 0.5348779873185086, 'bagging_freq': 2, 'min_child_samples': 13}. Best is trial 0 with value: 0.21357304770437724.\u001b[0m\n",
      "\u001b[32m[I 2020-12-06 06:05:12,979]\u001b[0m Trial 1 finished with value: 0.2574741277483743 and parameters: {'lambda_l1': 2.4552467279949516e-06, 'lambda_l2': 2.3573583942260753e-06, 'num_leaves': 504, 'n_estimators': 2252, 'feature_fraction': 0.8899611011324, 'bagging_fraction': 0.6016429506787311, 'bagging_freq': 1, 'min_child_samples': 67}. Best is trial 0 with value: 0.21357304770437724.\u001b[0m\n",
      "\u001b[32m[I 2020-12-06 06:05:18,214]\u001b[0m Trial 2 finished with value: 0.19161034550197664 and parameters: {'lambda_l1': 1.8860355948710983e-08, 'lambda_l2': 0.7916522657454635, 'num_leaves': 179, 'n_estimators': 777, 'feature_fraction': 0.47887489144151374, 'bagging_fraction': 0.6482004246510716, 'bagging_freq': 7, 'min_child_samples': 18}. Best is trial 2 with value: 0.19161034550197664.\u001b[0m\n",
      "\u001b[32m[I 2020-12-06 06:05:25,498]\u001b[0m Trial 3 finished with value: 0.2393185993939469 and parameters: {'lambda_l1': 0.001799336090092687, 'lambda_l2': 4.4023333697952007e-07, 'num_leaves': 91, 'n_estimators': 2528, 'feature_fraction': 0.439337959812867, 'bagging_fraction': 0.4338665124820424, 'bagging_freq': 7, 'min_child_samples': 28}. Best is trial 2 with value: 0.19161034550197664.\u001b[0m\n",
      "\u001b[32m[I 2020-12-06 06:05:28,676]\u001b[0m Trial 4 finished with value: 0.2537972263203438 and parameters: {'lambda_l1': 1.2767100129345944e-08, 'lambda_l2': 0.0032172889695974236, 'num_leaves': 76, 'n_estimators': 1940, 'feature_fraction': 0.7357890192737848, 'bagging_fraction': 0.601299787911922, 'bagging_freq': 7, 'min_child_samples': 76}. Best is trial 2 with value: 0.19161034550197664.\u001b[0m\n",
      "\u001b[32m[I 2020-12-06 06:05:33,861]\u001b[0m Trial 5 finished with value: 0.2221138990153991 and parameters: {'lambda_l1': 4.9169921588150913e-08, 'lambda_l2': 0.4757588906948674, 'num_leaves': 137, 'n_estimators': 1496, 'feature_fraction': 0.7285516935515461, 'bagging_fraction': 0.8915721974020412, 'bagging_freq': 1, 'min_child_samples': 49}. Best is trial 2 with value: 0.19161034550197664.\u001b[0m\n",
      "\u001b[32m[I 2020-12-06 06:05:38,288]\u001b[0m Trial 6 finished with value: 0.25972670308607265 and parameters: {'lambda_l1': 0.5148168134404182, 'lambda_l2': 1.4617521957829217e-05, 'num_leaves': 346, 'n_estimators': 2542, 'feature_fraction': 0.5775770241278072, 'bagging_fraction': 0.9303618877367118, 'bagging_freq': 6, 'min_child_samples': 93}. Best is trial 2 with value: 0.19161034550197664.\u001b[0m\n",
      "\u001b[32m[I 2020-12-06 06:05:43,302]\u001b[0m Trial 7 finished with value: 0.24703147787175847 and parameters: {'lambda_l1': 0.7615535600340646, 'lambda_l2': 4.619748038901812e-06, 'num_leaves': 87, 'n_estimators': 2247, 'feature_fraction': 0.7954217823629728, 'bagging_fraction': 0.7572637629997463, 'bagging_freq': 7, 'min_child_samples': 62}. Best is trial 2 with value: 0.19161034550197664.\u001b[0m\n",
      "\u001b[32m[I 2020-12-06 06:05:46,616]\u001b[0m Trial 8 finished with value: 0.24830794348091043 and parameters: {'lambda_l1': 0.00012786183233975197, 'lambda_l2': 0.27233633875662455, 'num_leaves': 44, 'n_estimators': 1447, 'feature_fraction': 0.9416990561989764, 'bagging_fraction': 0.720734769281089, 'bagging_freq': 2, 'min_child_samples': 78}. Best is trial 2 with value: 0.19161034550197664.\u001b[0m\n",
      "\u001b[32m[I 2020-12-06 06:05:48,411]\u001b[0m Trial 9 finished with value: 0.1929442484465742 and parameters: {'lambda_l1': 2.2570225857344917e-08, 'lambda_l2': 1.6392146534756105e-05, 'num_leaves': 5, 'n_estimators': 2062, 'feature_fraction': 0.7959789683244987, 'bagging_fraction': 0.5289719151256645, 'bagging_freq': 4, 'min_child_samples': 22}. Best is trial 2 with value: 0.19161034550197664.\u001b[0m\n"
     ]
    },
    {
     "data": {
      "text/plain": [
       "FrozenTrial(number=2, value=0.19161034550197664, datetime_start=datetime.datetime(2020, 12, 6, 6, 5, 12, 984150), datetime_complete=datetime.datetime(2020, 12, 6, 6, 5, 18, 213561), params={'lambda_l1': 1.8860355948710983e-08, 'lambda_l2': 0.7916522657454635, 'num_leaves': 179, 'n_estimators': 777, 'feature_fraction': 0.47887489144151374, 'bagging_fraction': 0.6482004246510716, 'bagging_freq': 7, 'min_child_samples': 18}, distributions={'lambda_l1': LogUniformDistribution(high=10.0, low=1e-08), 'lambda_l2': LogUniformDistribution(high=10.0, low=1e-08), 'num_leaves': IntUniformDistribution(high=512, low=2, step=1), 'n_estimators': IntUniformDistribution(high=3000, low=700, step=1), 'feature_fraction': UniformDistribution(high=1.0, low=0.4), 'bagging_fraction': UniformDistribution(high=1.0, low=0.4), 'bagging_freq': IntUniformDistribution(high=7, low=1, step=1), 'min_child_samples': IntUniformDistribution(high=100, low=5, step=1)}, user_attrs={}, system_attrs={}, intermediate_values={}, trial_id=2, state=TrialState.COMPLETE)"
      ]
     },
     "execution_count": 23,
     "metadata": {
      "tags": []
     },
     "output_type": "execute_result"
    }
   ],
   "source": [
    "X_train, X_test, y_train, y_test = train_test_split(data, target, test_size=0.33)\n",
    "\n",
    "sampler = TPESampler(seed=10)\n",
    "def objective(trial):\n",
    "    \n",
    "    # dtrain = lgb.Dataset(X_train, label=y_train)\n",
    "    \n",
    "    param = {\n",
    "        'objective': 'regression',\n",
    "        'metric': 'mean_absolute_error',\n",
    "        'verbosity': -1,\n",
    "        'boosting_type': 'gbdt',\n",
    "        # 'early_stopping_rounds': trial.suggest_int('early_stopping_rounds', 10, 2000),\n",
    "        'lambda_l1': trial.suggest_loguniform('lambda_l1', 1e-8, 10.0),\n",
    "        'lambda_l2': trial.suggest_loguniform('lambda_l2', 1e-8, 10.0),\n",
    "        'num_leaves': trial.suggest_int('num_leaves', 2, 512),\n",
    "        # 'learning_rate': trial.suggest_loguniform('learning_rate', 1e-8, 1.0),\n",
    "        'learning_rate': 0.01,\n",
    "        'n_estimators': trial.suggest_int('n_estimators', 700, 3000),\n",
    "        'feature_fraction': trial.suggest_uniform('feature_fraction', 0.4, 1.0),\n",
    "        'bagging_fraction': trial.suggest_uniform('bagging_fraction', 0.4, 1.0),\n",
    "        'bagging_freq': trial.suggest_int('bagging_freq', 1, 7),\n",
    "        'min_child_samples': trial.suggest_int('min_child_samples', 5, 100),\n",
    "    }\n",
    "    lgbm_regr = lgbm.LGBMRegressor(**param)\n",
    "    gbm_2 = lgbm_regr.fit(X_train, y_train, eval_set=[(X_test, y_test)], verbose=False)\n",
    "    return mean_absolute_error(np.expm1(y_test), np.expm1(gbm_2.predict(X_test)))\n",
    "\n",
    "study = opt.create_study(direction='minimize', sampler=sampler)\n",
    "study.optimize(objective, n_trials=10)\n",
    "study.best_trial"
   ]
  },
  {
   "cell_type": "code",
   "execution_count": 80,
   "metadata": {
    "colab": {
     "base_uri": "https://localhost:8080/"
    },
    "executionInfo": {
     "elapsed": 16438,
     "status": "ok",
     "timestamp": 1607238663427,
     "user": {
      "displayName": "Joseph Dieciedue",
      "photoUrl": "",
      "userId": "02343380692441435709"
     },
     "user_tz": 360
    },
    "id": "ZuuHzG2IqkfI",
    "outputId": "4320c540-8949-4006-fd25-46869e04fd47"
   },
   "outputs": [
    {
     "name": "stderr",
     "output_type": "stream",
     "text": [
      "\u001b[32m[I 2020-12-06 07:10:47,251]\u001b[0m A new study created in memory with name: no-name-c21275f3-886f-437c-a4c4-38619a2ea08d\u001b[0m\n",
      "\u001b[32m[I 2020-12-06 07:10:47,601]\u001b[0m Trial 0 finished with value: 0.9514293471936698 and parameters: {'n_estimators': 15, 'max_depth': 14.053535713525001}. Best is trial 0 with value: 0.9514293471936698.\u001b[0m\n",
      "\u001b[32m[I 2020-12-06 07:10:47,653]\u001b[0m Trial 1 finished with value: 0.9314084661831065 and parameters: {'n_estimators': 2, 'max_depth': 2.1676426555986614}. Best is trial 0 with value: 0.9514293471936698.\u001b[0m\n",
      "\u001b[32m[I 2020-12-06 07:10:47,836]\u001b[0m Trial 2 finished with value: 0.9497892504816208 and parameters: {'n_estimators': 9, 'max_depth': 7.347064434509339}. Best is trial 0 with value: 0.9514293471936698.\u001b[0m\n",
      "\u001b[32m[I 2020-12-06 07:10:47,937]\u001b[0m Trial 3 finished with value: 0.9488027358649135 and parameters: {'n_estimators': 5, 'max_depth': 6.672638670572758}. Best is trial 0 with value: 0.9514293471936698.\u001b[0m\n",
      "\u001b[32m[I 2020-12-06 07:10:48,379]\u001b[0m Trial 4 finished with value: 0.949459873550289 and parameters: {'n_estimators': 20, 'max_depth': 13.326944314550293}. Best is trial 0 with value: 0.9514293471936698.\u001b[0m\n",
      "\u001b[32m[I 2020-12-06 07:10:48,637]\u001b[0m Trial 5 finished with value: 0.9488046752776592 and parameters: {'n_estimators': 11, 'max_depth': 17.18330962043936}. Best is trial 0 with value: 0.9514293471936698.\u001b[0m\n",
      "\u001b[32m[I 2020-12-06 07:10:48,923]\u001b[0m Trial 6 finished with value: 0.9507731792146671 and parameters: {'n_estimators': 17, 'max_depth': 7.092424192434692}. Best is trial 0 with value: 0.9514293471936698.\u001b[0m\n",
      "\u001b[32m[I 2020-12-06 07:10:48,975]\u001b[0m Trial 7 finished with value: 0.9330488861306131 and parameters: {'n_estimators': 3, 'max_depth': 1.0214513931831455}. Best is trial 0 with value: 0.9514293471936698.\u001b[0m\n",
      "\u001b[32m[I 2020-12-06 07:10:49,079]\u001b[0m Trial 8 finished with value: 0.9484772377590732 and parameters: {'n_estimators': 5, 'max_depth': 6.749788836837241}. Best is trial 0 with value: 0.9514293471936698.\u001b[0m\n",
      "\u001b[32m[I 2020-12-06 07:10:49,157]\u001b[0m Trial 9 finished with value: 0.9330488861306131 and parameters: {'n_estimators': 7, 'max_depth': 1.2989155208700833}. Best is trial 0 with value: 0.9514293471936698.\u001b[0m\n",
      "\u001b[32m[I 2020-12-06 07:10:49,473]\u001b[0m Trial 10 finished with value: 0.9501157182938339 and parameters: {'n_estimators': 14, 'max_depth': 28.537998310568756}. Best is trial 0 with value: 0.9514293471936698.\u001b[0m\n",
      "\u001b[32m[I 2020-12-06 07:10:49,657]\u001b[0m Trial 11 finished with value: 0.9389566605898402 and parameters: {'n_estimators': 17, 'max_depth': 3.381189678066869}. Best is trial 0 with value: 0.9514293471936698.\u001b[0m\n",
      "\u001b[32m[I 2020-12-06 07:10:50,041]\u001b[0m Trial 12 finished with value: 0.9504457416960811 and parameters: {'n_estimators': 17, 'max_depth': 13.274821365393462}. Best is trial 0 with value: 0.9514293471936698.\u001b[0m\n",
      "\u001b[32m[I 2020-12-06 07:10:50,495]\u001b[0m Trial 13 finished with value: 0.9517587241250016 and parameters: {'n_estimators': 20, 'max_depth': 30.72480849630143}. Best is trial 13 with value: 0.9517587241250016.\u001b[0m\n",
      "\u001b[32m[I 2020-12-06 07:10:50,975]\u001b[0m Trial 14 finished with value: 0.95077414892104 and parameters: {'n_estimators': 20, 'max_depth': 30.80754281602871}. Best is trial 13 with value: 0.9517587241250016.\u001b[0m\n",
      "\u001b[32m[I 2020-12-06 07:10:51,306]\u001b[0m Trial 15 finished with value: 0.9497886040107056 and parameters: {'n_estimators': 14, 'max_depth': 20.7175973228732}. Best is trial 13 with value: 0.9517587241250016.\u001b[0m\n",
      "\u001b[32m[I 2020-12-06 07:10:51,607]\u001b[0m Trial 16 finished with value: 0.9497895737170784 and parameters: {'n_estimators': 14, 'max_depth': 11.86200213658107}. Best is trial 13 with value: 0.9517587241250016.\u001b[0m\n",
      "\u001b[32m[I 2020-12-06 07:10:52,041]\u001b[0m Trial 17 finished with value: 0.9520868081145029 and parameters: {'n_estimators': 19, 'max_depth': 25.11980084502287}. Best is trial 17 with value: 0.9520868081145029.\u001b[0m\n",
      "\u001b[32m[I 2020-12-06 07:10:52,481]\u001b[0m Trial 18 finished with value: 0.9497882807752479 and parameters: {'n_estimators': 20, 'max_depth': 21.927798004083495}. Best is trial 17 with value: 0.9520868081145029.\u001b[0m\n",
      "\u001b[32m[I 2020-12-06 07:10:52,887]\u001b[0m Trial 19 finished with value: 0.9520868081145029 and parameters: {'n_estimators': 18, 'max_depth': 28.64504920893566}. Best is trial 17 with value: 0.9520868081145029.\u001b[0m\n",
      "\u001b[32m[I 2020-12-06 07:10:53,119]\u001b[0m Trial 20 finished with value: 0.9504450952251657 and parameters: {'n_estimators': 11, 'max_depth': 9.384756243422377}. Best is trial 17 with value: 0.9520868081145029.\u001b[0m\n",
      "\u001b[32m[I 2020-12-06 07:10:53,532]\u001b[0m Trial 21 finished with value: 0.9527426528580479 and parameters: {'n_estimators': 18, 'max_depth': 30.689735601383262}. Best is trial 21 with value: 0.9527426528580479.\u001b[0m\n",
      "\u001b[32m[I 2020-12-06 07:10:53,934]\u001b[0m Trial 22 finished with value: 0.948476591288158 and parameters: {'n_estimators': 18, 'max_depth': 24.20029933472001}. Best is trial 21 with value: 0.9527426528580479.\u001b[0m\n",
      "\u001b[32m[I 2020-12-06 07:10:54,361]\u001b[0m Trial 23 finished with value: 0.9527429760935057 and parameters: {'n_estimators': 18, 'max_depth': 29.62001524981216}. Best is trial 23 with value: 0.9527429760935057.\u001b[0m\n",
      "\u001b[32m[I 2020-12-06 07:10:54,533]\u001b[0m Trial 24 finished with value: 0.9360016420361248 and parameters: {'n_estimators': 16, 'max_depth': 3.767077788579508}. Best is trial 23 with value: 0.9527429760935057.\u001b[0m\n",
      "\u001b[32m[I 2020-12-06 07:10:54,844]\u001b[0m Trial 25 finished with value: 0.9497898969525361 and parameters: {'n_estimators': 13, 'max_depth': 17.675380973967915}. Best is trial 23 with value: 0.9527429760935057.\u001b[0m\n",
      "\u001b[32m[I 2020-12-06 07:10:55,261]\u001b[0m Trial 26 finished with value: 0.951758400889544 and parameters: {'n_estimators': 18, 'max_depth': 29.12705337838548}. Best is trial 23 with value: 0.9527429760935057.\u001b[0m\n",
      "\u001b[32m[I 2020-12-06 07:10:55,615]\u001b[0m Trial 27 finished with value: 0.9504447719897082 and parameters: {'n_estimators': 16, 'max_depth': 17.670178029401807}. Best is trial 23 with value: 0.9527429760935057.\u001b[0m\n",
      "\u001b[32m[I 2020-12-06 07:10:55,861]\u001b[0m Trial 28 finished with value: 0.9501153950583764 and parameters: {'n_estimators': 12, 'max_depth': 9.761524027894385}. Best is trial 23 with value: 0.9527429760935057.\u001b[0m\n",
      "\u001b[32m[I 2020-12-06 07:10:56,208]\u001b[0m Trial 29 finished with value: 0.9507735024501248 and parameters: {'n_estimators': 15, 'max_depth': 31.000779655142527}. Best is trial 23 with value: 0.9527429760935057.\u001b[0m\n",
      "\u001b[32m[I 2020-12-06 07:10:56,624]\u001b[0m Trial 30 finished with value: 0.9504450952251657 and parameters: {'n_estimators': 18, 'max_depth': 16.355559768118837}. Best is trial 23 with value: 0.9527429760935057.\u001b[0m\n",
      "\u001b[32m[I 2020-12-06 07:10:57,058]\u001b[0m Trial 31 finished with value: 0.951429993664585 and parameters: {'n_estimators': 19, 'max_depth': 24.35997120804881}. Best is trial 23 with value: 0.9527429760935057.\u001b[0m\n",
      "\u001b[32m[I 2020-12-06 07:10:57,490]\u001b[0m Trial 32 finished with value: 0.9497882807752479 and parameters: {'n_estimators': 19, 'max_depth': 24.40966522093384}. Best is trial 23 with value: 0.9527429760935057.\u001b[0m\n",
      "\u001b[32m[I 2020-12-06 07:10:57,851]\u001b[0m Trial 33 finished with value: 0.9517580776540863 and parameters: {'n_estimators': 16, 'max_depth': 31.445600304065252}. Best is trial 23 with value: 0.9527429760935057.\u001b[0m\n",
      "\u001b[32m[I 2020-12-06 07:10:58,289]\u001b[0m Trial 34 finished with value: 0.9497886040107056 and parameters: {'n_estimators': 19, 'max_depth': 20.911156079842904}. Best is trial 23 with value: 0.9527429760935057.\u001b[0m\n",
      "\u001b[32m[I 2020-12-06 07:10:58,694]\u001b[0m Trial 35 finished with value: 0.9520861616435877 and parameters: {'n_estimators': 18, 'max_depth': 25.8673329131451}. Best is trial 23 with value: 0.9527429760935057.\u001b[0m\n",
      "\u001b[32m[I 2020-12-06 07:10:58,889]\u001b[0m Trial 36 finished with value: 0.9425652612388968 and parameters: {'n_estimators': 15, 'max_depth': 4.996763816460227}. Best is trial 23 with value: 0.9527429760935057.\u001b[0m\n",
      "\u001b[32m[I 2020-12-06 07:10:59,316]\u001b[0m Trial 37 finished with value: 0.9514306401355004 and parameters: {'n_estimators': 19, 'max_depth': 15.182829858022775}. Best is trial 23 with value: 0.9527429760935057.\u001b[0m\n",
      "\u001b[32m[I 2020-12-06 07:10:59,704]\u001b[0m Trial 38 finished with value: 0.9504447719897082 and parameters: {'n_estimators': 17, 'max_depth': 19.78058590962754}. Best is trial 23 with value: 0.9527429760935057.\u001b[0m\n",
      "\u001b[32m[I 2020-12-06 07:10:59,929]\u001b[0m Trial 39 finished with value: 0.9481465678859108 and parameters: {'n_estimators': 9, 'max_depth': 13.072996379605572}. Best is trial 23 with value: 0.9527429760935057.\u001b[0m\n",
      "\u001b[32m[I 2020-12-06 07:11:00,236]\u001b[0m Trial 40 finished with value: 0.9511009399687108 and parameters: {'n_estimators': 16, 'max_depth': 9.994115473900104}. Best is trial 23 with value: 0.9527429760935057.\u001b[0m\n",
      "\u001b[32m[I 2020-12-06 07:11:00,659]\u001b[0m Trial 41 finished with value: 0.9494605200212042 and parameters: {'n_estimators': 18, 'max_depth': 25.83109665083902}. Best is trial 23 with value: 0.9527429760935057.\u001b[0m\n",
      "\u001b[32m[I 2020-12-06 07:11:01,133]\u001b[0m Trial 42 finished with value: 0.9504457416960811 and parameters: {'n_estimators': 20, 'max_depth': 25.878174182516567}. Best is trial 23 with value: 0.9527429760935057.\u001b[0m\n",
      "\u001b[32m[I 2020-12-06 07:11:01,297]\u001b[0m Trial 43 finished with value: 0.9343612220886183 and parameters: {'n_estimators': 18, 'max_depth': 2.0730928038717518}. Best is trial 23 with value: 0.9527429760935057.\u001b[0m\n",
      "\u001b[32m[I 2020-12-06 07:11:01,674]\u001b[0m Trial 44 finished with value: 0.95077414892104 and parameters: {'n_estimators': 17, 'max_depth': 19.41627520953389}. Best is trial 23 with value: 0.9527429760935057.\u001b[0m\n",
      "\u001b[32m[I 2020-12-06 07:11:02,113]\u001b[0m Trial 45 finished with value: 0.9471626391528645 and parameters: {'n_estimators': 19, 'max_depth': 26.584859822368347}. Best is trial 23 with value: 0.9527429760935057.\u001b[0m\n",
      "\u001b[32m[I 2020-12-06 07:11:02,559]\u001b[0m Trial 46 finished with value: 0.9530717065539221 and parameters: {'n_estimators': 20, 'max_depth': 31.594646761177327}. Best is trial 46 with value: 0.9530717065539221.\u001b[0m\n",
      "\u001b[32m[I 2020-12-06 07:11:03,012]\u001b[0m Trial 47 finished with value: 0.9488043520422016 and parameters: {'n_estimators': 20, 'max_depth': 31.57651736656245}. Best is trial 46 with value: 0.9530717065539221.\u001b[0m\n",
      "\u001b[32m[I 2020-12-06 07:11:03,454]\u001b[0m Trial 48 finished with value: 0.9501179809420375 and parameters: {'n_estimators': 20, 'max_depth': 31.609234780889786}. Best is trial 46 with value: 0.9530717065539221.\u001b[0m\n",
      "\u001b[32m[I 2020-12-06 07:11:03,529]\u001b[0m Trial 49 finished with value: 0.8716806950855281 and parameters: {'n_estimators': 2, 'max_depth': 23.080595587629123}. Best is trial 46 with value: 0.9530717065539221.\u001b[0m\n"
     ]
    },
    {
     "name": "stdout",
     "output_type": "stream",
     "text": [
      "Accuracy: 0.9530717065539221\n",
      "Best hyperparameters: {'n_estimators': 20, 'max_depth': 31.594646761177327}\n"
     ]
    }
   ],
   "source": [
    "X_train, X_test, y_train, y_test = train_test_split(data, increased, test_size=0.33)\n",
    "\n",
    "def objective(trial):\n",
    "      n_estimators = trial.suggest_int('n_estimators', 2, 20)\n",
    "      max_depth = int(trial.suggest_loguniform('max_depth', 1, 32))\n",
    "      clf = sklearn.ensemble.RandomForestClassifier(n_estimators=n_estimators, max_depth=max_depth)\n",
    "      return sklearn.model_selection.cross_val_score(clf, data, increased, n_jobs=-1, cv=3).mean()\n",
    "\n",
    "study = opt.create_study(direction='maximize')\n",
    "study.optimize(objective, n_trials=50)\n",
    "trial = study.best_trial\n",
    "print('Accuracy: {}'.format(trial.value))\n",
    "print(\"Best hyperparameters: {}\".format(trial.params))"
   ]
  },
  {
   "cell_type": "code",
   "execution_count": 81,
   "metadata": {
    "colab": {
     "base_uri": "https://localhost:8080/",
     "height": 295
    },
    "executionInfo": {
     "elapsed": 596,
     "status": "ok",
     "timestamp": 1607238667944,
     "user": {
      "displayName": "Joseph Dieciedue",
      "photoUrl": "",
      "userId": "02343380692441435709"
     },
     "user_tz": 360
    },
    "id": "gt4ncvH6r4CS",
    "outputId": "2345bb7e-2fb1-4811-cb72-298af1a85538"
   },
   "outputs": [
    {
     "data": {
      "image/png": "[encoded data removed]",
      "text/plain": [
       "<Figure size 432x288 with 1 Axes>"
      ]
     },
     "metadata": {
      "needs_background": "light",
      "tags": []
     },
     "output_type": "display_data"
    }
   ],
   "source": [
    "clf = sklearn.ensemble.RandomForestClassifier(**trial.params)\n",
    "clf.fit(X_train, y_train)\n",
    "predictions = clf.predict_proba(X_test)[:,1]\n",
    "\n",
    "plot_auc(y_test, predictions)"
   ]
  },
  {
   "cell_type": "code",
   "execution_count": 82,
   "metadata": {
    "colab": {
     "base_uri": "https://localhost:8080/",
     "height": 1000
    },
    "executionInfo": {
     "elapsed": 15792,
     "status": "ok",
     "timestamp": 1607238710274,
     "user": {
      "displayName": "Joseph Dieciedue",
      "photoUrl": "",
      "userId": "02343380692441435709"
     },
     "user_tz": 360
    },
    "id": "cY0Evwq-2ehc",
    "outputId": "28a16390-4f11-4c3a-ea92-782fa16b0a83"
   },
   "outputs": [
    {
     "name": "stderr",
     "output_type": "stream",
     "text": [
      "\u001b[32m[I 2020-12-06 07:11:34,784]\u001b[0m A new study created in memory with name: no-name-4f9d3eb4-b19d-4df2-9a0c-aec97047552c\u001b[0m\n",
      "\u001b[32m[I 2020-12-06 07:11:35,002]\u001b[0m Trial 0 finished with value: 0.9461783871843606 and parameters: {'n_estimators': 11, 'max_depth': 8.807140209139481}. Best is trial 0 with value: 0.9461783871843606.\u001b[0m\n",
      "\u001b[32m[I 2020-12-06 07:11:35,085]\u001b[0m Trial 1 finished with value: 0.9379701459731327 and parameters: {'n_estimators': 4, 'max_depth': 5.405843026035881}. Best is trial 0 with value: 0.9461783871843606.\u001b[0m\n",
      "\u001b[32m[I 2020-12-06 07:11:35,399]\u001b[0m Trial 2 finished with value: 0.9504447719897082 and parameters: {'n_estimators': 16, 'max_depth': 9.625203851278014}. Best is trial 2 with value: 0.9504447719897082.\u001b[0m\n",
      "\u001b[32m[I 2020-12-06 07:11:35,639]\u001b[0m Trial 3 finished with value: 0.9497879575397903 and parameters: {'n_estimators': 17, 'max_depth': 5.714190265426689}. Best is trial 2 with value: 0.9504447719897082.\u001b[0m\n",
      "\u001b[32m[I 2020-12-06 07:11:36,036]\u001b[0m Trial 4 finished with value: 0.9497889272461633 and parameters: {'n_estimators': 17, 'max_depth': 30.58949659772453}. Best is trial 2 with value: 0.9504447719897082.\u001b[0m\n",
      "\u001b[32m[I 2020-12-06 07:11:36,117]\u001b[0m Trial 5 finished with value: 0.9330488861306131 and parameters: {'n_estimators': 8, 'max_depth': 1.9054680270431206}. Best is trial 2 with value: 0.9504447719897082.\u001b[0m\n",
      "\u001b[32m[I 2020-12-06 07:11:36,379]\u001b[0m Trial 6 finished with value: 0.9461758013006994 and parameters: {'n_estimators': 18, 'max_depth': 5.77821103335903}. Best is trial 2 with value: 0.9504447719897082.\u001b[0m\n",
      "\u001b[32m[I 2020-12-06 07:11:36,450]\u001b[0m Trial 7 finished with value: 0.9330488861306131 and parameters: {'n_estimators': 6, 'max_depth': 1.0236231087079108}. Best is trial 2 with value: 0.9504447719897082.\u001b[0m\n",
      "\u001b[32m[I 2020-12-06 07:11:36,514]\u001b[0m Trial 8 finished with value: 0.9353461205280375 and parameters: {'n_estimators': 4, 'max_depth': 2.3528736694257515}. Best is trial 2 with value: 0.9504447719897082.\u001b[0m\n",
      "\u001b[32m[I 2020-12-06 07:11:36,755]\u001b[0m Trial 9 finished with value: 0.9481459214149955 and parameters: {'n_estimators': 14, 'max_depth': 7.849069942341149}. Best is trial 2 with value: 0.9504447719897082.\u001b[0m\n",
      "\u001b[32m[I 2020-12-06 07:11:37,213]\u001b[0m Trial 10 finished with value: 0.9520861616435877 and parameters: {'n_estimators': 20, 'max_depth': 26.522844208857663}. Best is trial 10 with value: 0.9520861616435877.\u001b[0m\n",
      "\u001b[32m[I 2020-12-06 07:11:37,678]\u001b[0m Trial 11 finished with value: 0.9494601967857466 and parameters: {'n_estimators': 20, 'max_depth': 25.878916049203422}. Best is trial 10 with value: 0.9520861616435877.\u001b[0m\n",
      "\u001b[32m[I 2020-12-06 07:11:38,117]\u001b[0m Trial 12 finished with value: 0.9504454184606234 and parameters: {'n_estimators': 20, 'max_depth': 16.734933798280128}. Best is trial 10 with value: 0.9520861616435877.\u001b[0m\n",
      "\u001b[32m[I 2020-12-06 07:11:38,580]\u001b[0m Trial 13 finished with value: 0.9511015864396261 and parameters: {'n_estimators': 20, 'max_depth': 18.496167694496357}. Best is trial 10 with value: 0.9520861616435877.\u001b[0m\n",
      "\u001b[32m[I 2020-12-06 07:11:38,858]\u001b[0m Trial 14 finished with value: 0.9474903999069082 and parameters: {'n_estimators': 12, 'max_depth': 17.65348499948815}. Best is trial 10 with value: 0.9520861616435877.\u001b[0m\n",
      "\u001b[32m[I 2020-12-06 07:11:39,307]\u001b[0m Trial 15 finished with value: 0.9497889272461633 and parameters: {'n_estimators': 20, 'max_depth': 18.652022878444466}. Best is trial 10 with value: 0.9520861616435877.\u001b[0m\n",
      "\u001b[32m[I 2020-12-06 07:11:39,634]\u001b[0m Trial 16 finished with value: 0.9507735024501248 and parameters: {'n_estimators': 14, 'max_depth': 30.326907960553907}. Best is trial 10 with value: 0.9520861616435877.\u001b[0m\n",
      "\u001b[32m[I 2020-12-06 07:11:40,064]\u001b[0m Trial 17 finished with value: 0.948476591288158 and parameters: {'n_estimators': 20, 'max_depth': 13.632658301631901}. Best is trial 10 with value: 0.9520861616435877.\u001b[0m\n",
      "\u001b[32m[I 2020-12-06 07:11:40,403]\u001b[0m Trial 18 finished with value: 0.9491317895607877 and parameters: {'n_estimators': 14, 'max_depth': 22.8941813072859}. Best is trial 10 with value: 0.9520861616435877.\u001b[0m\n",
      "\u001b[32m[I 2020-12-06 07:11:40,606]\u001b[0m Trial 19 finished with value: 0.9471616694464916 and parameters: {'n_estimators': 9, 'max_depth': 11.995697500872053}. Best is trial 10 with value: 0.9520861616435877.\u001b[0m\n",
      "\u001b[32m[I 2020-12-06 07:11:40,800]\u001b[0m Trial 20 finished with value: 0.9425701097707614 and parameters: {'n_estimators': 18, 'max_depth': 3.209255199853484}. Best is trial 10 with value: 0.9520861616435877.\u001b[0m\n",
      "\u001b[32m[I 2020-12-06 07:11:41,123]\u001b[0m Trial 21 finished with value: 0.9507744721564976 and parameters: {'n_estimators': 14, 'max_depth': 31.75304712252334}. Best is trial 10 with value: 0.9520861616435877.\u001b[0m\n",
      "\u001b[32m[I 2020-12-06 07:11:41,478]\u001b[0m Trial 22 finished with value: 0.9494611664921195 and parameters: {'n_estimators': 15, 'max_depth': 31.857459524028005}. Best is trial 10 with value: 0.9520861616435877.\u001b[0m\n",
      "\u001b[32m[I 2020-12-06 07:11:41,896]\u001b[0m Trial 23 finished with value: 0.9491330825026182 and parameters: {'n_estimators': 18, 'max_depth': 23.16822747682931}. Best is trial 10 with value: 0.9520861616435877.\u001b[0m\n",
      "\u001b[32m[I 2020-12-06 07:11:42,172]\u001b[0m Trial 24 finished with value: 0.9491321127962453 and parameters: {'n_estimators': 12, 'max_depth': 13.802041796248862}. Best is trial 10 with value: 0.9520861616435877.\u001b[0m\n",
      "\u001b[32m[I 2020-12-06 07:11:42,611]\u001b[0m Trial 25 finished with value: 0.9517577544186286 and parameters: {'n_estimators': 19, 'max_depth': 21.525253251301642}. Best is trial 10 with value: 0.9520861616435877.\u001b[0m\n",
      "\u001b[32m[I 2020-12-06 07:11:43,030]\u001b[0m Trial 26 finished with value: 0.9507728559792095 and parameters: {'n_estimators': 19, 'max_depth': 21.90402681910171}. Best is trial 10 with value: 0.9520861616435877.\u001b[0m\n",
      "\u001b[32m[I 2020-12-06 07:11:43,103]\u001b[0m Trial 27 finished with value: 0.8900553379103474 and parameters: {'n_estimators': 2, 'max_depth': 11.301831860387347}. Best is trial 10 with value: 0.9520861616435877.\u001b[0m\n",
      "\u001b[32m[I 2020-12-06 07:11:43,483]\u001b[0m Trial 28 finished with value: 0.9511019096750837 and parameters: {'n_estimators': 16, 'max_depth': 16.173746635803397}. Best is trial 10 with value: 0.9520861616435877.\u001b[0m\n",
      "\u001b[32m[I 2020-12-06 07:11:43,769]\u001b[0m Trial 29 finished with value: 0.9455215727344427 and parameters: {'n_estimators': 17, 'max_depth': 7.976152009761147}. Best is trial 10 with value: 0.9520861616435877.\u001b[0m\n",
      "\u001b[32m[I 2020-12-06 07:11:44,197]\u001b[0m Trial 30 finished with value: 0.9507738256855824 and parameters: {'n_estimators': 19, 'max_depth': 15.387591558785852}. Best is trial 10 with value: 0.9520861616435877.\u001b[0m\n",
      "\u001b[32m[I 2020-12-06 07:11:44,641]\u001b[0m Trial 31 finished with value: 0.9507735024501248 and parameters: {'n_estimators': 19, 'max_depth': 20.224706473680943}. Best is trial 10 with value: 0.9520861616435877.\u001b[0m\n",
      "\u001b[32m[I 2020-12-06 07:11:45,014]\u001b[0m Trial 32 finished with value: 0.9501173344711221 and parameters: {'n_estimators': 16, 'max_depth': 26.630986482249828}. Best is trial 10 with value: 0.9520861616435877.\u001b[0m\n",
      "\u001b[32m[I 2020-12-06 07:11:45,321]\u001b[0m Trial 33 finished with value: 0.94913146632533 and parameters: {'n_estimators': 16, 'max_depth': 9.685635367572804}. Best is trial 10 with value: 0.9520861616435877.\u001b[0m\n",
      "\u001b[32m[I 2020-12-06 07:11:45,747]\u001b[0m Trial 34 finished with value: 0.9511012632041685 and parameters: {'n_estimators': 19, 'max_depth': 18.107887504050343}. Best is trial 10 with value: 0.9520861616435877.\u001b[0m\n",
      "\u001b[32m[I 2020-12-06 07:11:46,141]\u001b[0m Trial 35 finished with value: 0.9501173344711221 and parameters: {'n_estimators': 17, 'max_depth': 25.824665426269434}. Best is trial 10 with value: 0.9520861616435877.\u001b[0m\n",
      "\u001b[32m[I 2020-12-06 07:11:46,540]\u001b[0m Trial 36 finished with value: 0.951429993664585 and parameters: {'n_estimators': 20, 'max_depth': 10.901773044755465}. Best is trial 10 with value: 0.9520861616435877.\u001b[0m\n",
      "\u001b[32m[I 2020-12-06 07:11:46,808]\u001b[0m Trial 37 finished with value: 0.951758400889544 and parameters: {'n_estimators': 18, 'max_depth': 6.295312949637658}. Best is trial 10 with value: 0.9520861616435877.\u001b[0m\n",
      "\u001b[32m[I 2020-12-06 07:11:47,025]\u001b[0m Trial 38 finished with value: 0.9432217524533572 and parameters: {'n_estimators': 18, 'max_depth': 4.343151103673975}. Best is trial 10 with value: 0.9520861616435877.\u001b[0m\n",
      "\u001b[32m[I 2020-12-06 07:11:47,296]\u001b[0m Trial 39 finished with value: 0.9497882807752479 and parameters: {'n_estimators': 18, 'max_depth': 6.284057810694275}. Best is trial 10 with value: 0.9520861616435877.\u001b[0m\n",
      "\u001b[32m[I 2020-12-06 07:11:47,530]\u001b[0m Trial 40 finished with value: 0.941581009270393 and parameters: {'n_estimators': 19, 'max_depth': 4.820770585632092}. Best is trial 10 with value: 0.9520861616435877.\u001b[0m\n",
      "\u001b[32m[I 2020-12-06 07:11:47,851]\u001b[0m Trial 41 finished with value: 0.9527426528580479 and parameters: {'n_estimators': 16, 'max_depth': 10.590107331000919}. Best is trial 41 with value: 0.9527426528580479.\u001b[0m\n",
      "\u001b[32m[I 2020-12-06 07:11:48,137]\u001b[0m Trial 42 finished with value: 0.9491321127962453 and parameters: {'n_estimators': 17, 'max_depth': 7.225483515236813}. Best is trial 41 with value: 0.9527426528580479.\u001b[0m\n",
      "\u001b[32m[I 2020-12-06 07:11:48,426]\u001b[0m Trial 43 finished with value: 0.9488030591003711 and parameters: {'n_estimators': 15, 'max_depth': 9.224480545068404}. Best is trial 41 with value: 0.9527426528580479.\u001b[0m\n",
      "\u001b[32m[I 2020-12-06 07:11:48,821]\u001b[0m Trial 44 finished with value: 0.9497889272461633 and parameters: {'n_estimators': 20, 'max_depth': 10.81007596467737}. Best is trial 41 with value: 0.9527426528580479.\u001b[0m\n",
      "\u001b[32m[I 2020-12-06 07:11:49,077]\u001b[0m Trial 45 finished with value: 0.9497882807752479 and parameters: {'n_estimators': 17, 'max_depth': 6.554696226707309}. Best is trial 41 with value: 0.9527426528580479.\u001b[0m\n",
      "\u001b[32m[I 2020-12-06 07:11:49,278]\u001b[0m Trial 46 finished with value: 0.9360019652715824 and parameters: {'n_estimators': 19, 'max_depth': 3.656401543557825}. Best is trial 41 with value: 0.9527426528580479.\u001b[0m\n",
      "\u001b[32m[I 2020-12-06 07:11:49,432]\u001b[0m Trial 47 finished with value: 0.9497882807752479 and parameters: {'n_estimators': 10, 'max_depth': 5.336109940028344}. Best is trial 41 with value: 0.9527426528580479.\u001b[0m\n",
      "\u001b[32m[I 2020-12-06 07:11:49,775]\u001b[0m Trial 48 finished with value: 0.9527429760935057 and parameters: {'n_estimators': 15, 'max_depth': 13.479630131534858}. Best is trial 48 with value: 0.9527429760935057.\u001b[0m\n",
      "\u001b[32m[I 2020-12-06 07:11:50,056]\u001b[0m Trial 49 finished with value: 0.9491324360317029 and parameters: {'n_estimators': 12, 'max_depth': 14.306644347892062}. Best is trial 48 with value: 0.9527429760935057.\u001b[0m\n"
     ]
    },
    {
     "name": "stdout",
     "output_type": "stream",
     "text": [
      "Accuracy: 0.9527429760935057\n",
      "Best hyperparameters: {'n_estimators': 15, 'max_depth': 13.479630131534858}\n",
      "AUC : 0.8162475822050289\n"
     ]
    },
    {
     "data": {
      "image/png": "[encoded data removed]",
      "text/plain": [
       "<Figure size 432x288 with 1 Axes>"
      ]
     },
     "metadata": {
      "needs_background": "light",
      "tags": []
     },
     "output_type": "display_data"
    }
   ],
   "source": [
    "X_train, X_test, y_train, y_test = train_test_split(removing, increased, test_size=0.33)\n",
    "\n",
    "study = opt.create_study(direction='maximize')\n",
    "study.optimize(objective, n_trials=50)\n",
    "trial = study.best_trial\n",
    "print('Accuracy: {}'.format(trial.value))\n",
    "print(\"Best hyperparameters: {}\".format(trial.params))\n",
    "\n",
    "clf = sklearn.ensemble.RandomForestClassifier(**trial.params)\n",
    "clf.fit(X_train, y_train)\n",
    "predictions = clf.predict_proba(X_test)[:,1]\n",
    "print('AUC : {}'.format(roc_auc_score(y_test, predictions)))\n",
    "plot_auc(y_test, predictions)"
   ]
  },
  {
   "cell_type": "code",
   "execution_count": 52,
   "metadata": {
    "colab": {
     "base_uri": "https://localhost:8080/"
    },
    "executionInfo": {
     "elapsed": 28178,
     "status": "ok",
     "timestamp": 1607235872825,
     "user": {
      "displayName": "Joseph Dieciedue",
      "photoUrl": "",
      "userId": "02343380692441435709"
     },
     "user_tz": 360
    },
    "id": "ecmpeuRnp0p9",
    "outputId": "ebf4063a-3d5b-4466-b4c8-42b4116fbbef"
   },
   "outputs": [
    {
     "name": "stderr",
     "output_type": "stream",
     "text": [
      "\u001b[32m[I 2020-12-06 06:24:04,927]\u001b[0m A new study created in memory with name: no-name-a31e7c67-9b46-405b-b6f6-d1dc87dd09e9\u001b[0m\n",
      "\u001b[32m[I 2020-12-06 06:24:05,131]\u001b[0m Trial 0 finished with value: 8484.392242287784 and parameters: {'max_depth': 6, 'reg_alpha': 0, 'reg_lambda': 5, 'min_child_weight': 4, 'gamma': 0, 'learning_rate': 0.3585278426131815, 'colsample_bytree': 0.64, 'colsample_bynode': 0.30000000000000004, 'colsample_bylevel': 0.43000000000000005, 'subsample': 0.6}. Best is trial 0 with value: 8484.392242287784.\u001b[0m\n"
     ]
    },
    {
     "name": "stdout",
     "output_type": "stream",
     "text": [
      "[06:24:04] WARNING: /workspace/src/objective/regression_obj.cu:152: reg:linear is now deprecated in favor of reg:squarederror.\n",
      "[06:24:05] WARNING: /workspace/src/objective/regression_obj.cu:152: reg:linear is now deprecated in favor of reg:squarederror.\n"
     ]
    },
    {
     "name": "stderr",
     "output_type": "stream",
     "text": [
      "\u001b[32m[I 2020-12-06 06:24:05,350]\u001b[0m Trial 1 finished with value: 8262.807708813229 and parameters: {'max_depth': 11, 'reg_alpha': 3, 'reg_lambda': 1, 'min_child_weight': 3, 'gamma': 5, 'learning_rate': 0.005399859518800315, 'colsample_bytree': 0.12000000000000001, 'colsample_bynode': 0.33, 'colsample_bylevel': 0.6799999999999999, 'subsample': 0.95}. Best is trial 1 with value: 8262.807708813229.\u001b[0m\n"
     ]
    },
    {
     "name": "stdout",
     "output_type": "stream",
     "text": [
      "[06:24:05] WARNING: /workspace/src/objective/regression_obj.cu:152: reg:linear is now deprecated in favor of reg:squarederror.\n"
     ]
    },
    {
     "name": "stderr",
     "output_type": "stream",
     "text": [
      "\u001b[32m[I 2020-12-06 06:24:05,606]\u001b[0m Trial 2 finished with value: 6637.409398726631 and parameters: {'max_depth': 13, 'reg_alpha': 1, 'reg_lambda': 2, 'min_child_weight': 0, 'gamma': 2, 'learning_rate': 0.022270450124237093, 'colsample_bytree': 0.27, 'colsample_bynode': 0.54, 'colsample_bylevel': 0.12000000000000001, 'subsample': 0.7}. Best is trial 2 with value: 6637.409398726631.\u001b[0m\n"
     ]
    },
    {
     "name": "stdout",
     "output_type": "stream",
     "text": [
      "[06:24:05] WARNING: /workspace/src/objective/regression_obj.cu:152: reg:linear is now deprecated in favor of reg:squarederror.\n"
     ]
    },
    {
     "name": "stderr",
     "output_type": "stream",
     "text": [
      "\u001b[32m[I 2020-12-06 06:24:06,026]\u001b[0m Trial 3 finished with value: 6579.836184715893 and parameters: {'max_depth': 21, 'reg_alpha': 4, 'reg_lambda': 0, 'min_child_weight': 5, 'gamma': 3, 'learning_rate': 0.010939960557121545, 'colsample_bytree': 0.25, 'colsample_bynode': 0.88, 'colsample_bylevel': 0.43000000000000005, 'subsample': 0.7}. Best is trial 3 with value: 6579.836184715893.\u001b[0m\n"
     ]
    },
    {
     "name": "stdout",
     "output_type": "stream",
     "text": [
      "[06:24:06] WARNING: /workspace/src/objective/regression_obj.cu:152: reg:linear is now deprecated in favor of reg:squarederror.\n"
     ]
    },
    {
     "name": "stderr",
     "output_type": "stream",
     "text": [
      "\u001b[32m[I 2020-12-06 06:24:06,391]\u001b[0m Trial 4 finished with value: 10909.834774058098 and parameters: {'max_depth': 14, 'reg_alpha': 0, 'reg_lambda': 1, 'min_child_weight': 5, 'gamma': 1, 'learning_rate': 0.20569849593808068, 'colsample_bytree': 0.19, 'colsample_bynode': 0.51, 'colsample_bylevel': 0.97, 'subsample': 0.55}. Best is trial 3 with value: 6579.836184715893.\u001b[0m\n"
     ]
    },
    {
     "name": "stdout",
     "output_type": "stream",
     "text": [
      "[06:24:06] WARNING: /workspace/src/objective/regression_obj.cu:152: reg:linear is now deprecated in favor of reg:squarederror.\n"
     ]
    },
    {
     "name": "stderr",
     "output_type": "stream",
     "text": [
      "\u001b[32m[I 2020-12-06 06:24:06,778]\u001b[0m Trial 5 finished with value: 6248.082790492306 and parameters: {'max_depth': 5, 'reg_alpha': 3, 'reg_lambda': 2, 'min_child_weight': 4, 'gamma': 4, 'learning_rate': 0.1381000703153351, 'colsample_bytree': 0.94, 'colsample_bynode': 0.86, 'colsample_bylevel': 0.73, 'subsample': 0.75}. Best is trial 5 with value: 6248.082790492306.\u001b[0m\n"
     ]
    },
    {
     "name": "stdout",
     "output_type": "stream",
     "text": [
      "[06:24:06] WARNING: /workspace/src/objective/regression_obj.cu:152: reg:linear is now deprecated in favor of reg:squarederror.\n"
     ]
    },
    {
     "name": "stderr",
     "output_type": "stream",
     "text": [
      "\u001b[32m[I 2020-12-06 06:24:07,345]\u001b[0m Trial 6 finished with value: 6698.379838764549 and parameters: {'max_depth': 15, 'reg_alpha': 4, 'reg_lambda': 3, 'min_child_weight': 5, 'gamma': 5, 'learning_rate': 0.010023038402041284, 'colsample_bytree': 0.28, 'colsample_bynode': 0.6799999999999999, 'colsample_bylevel': 0.96, 'subsample': 0.7}. Best is trial 5 with value: 6248.082790492306.\u001b[0m\n"
     ]
    },
    {
     "name": "stdout",
     "output_type": "stream",
     "text": [
      "[06:24:07] WARNING: /workspace/src/objective/regression_obj.cu:152: reg:linear is now deprecated in favor of reg:squarederror.\n"
     ]
    },
    {
     "name": "stderr",
     "output_type": "stream",
     "text": [
      "\u001b[32m[I 2020-12-06 06:24:08,140]\u001b[0m Trial 7 finished with value: 7286.962030006451 and parameters: {'max_depth': 23, 'reg_alpha': 1, 'reg_lambda': 2, 'min_child_weight': 5, 'gamma': 2, 'learning_rate': 0.006092145757174715, 'colsample_bytree': 0.96, 'colsample_bynode': 0.9, 'colsample_bylevel': 0.25, 'subsample': 0.8}. Best is trial 5 with value: 6248.082790492306.\u001b[0m\n"
     ]
    },
    {
     "name": "stdout",
     "output_type": "stream",
     "text": [
      "[06:24:08] WARNING: /workspace/src/objective/regression_obj.cu:152: reg:linear is now deprecated in favor of reg:squarederror.\n"
     ]
    },
    {
     "name": "stderr",
     "output_type": "stream",
     "text": [
      "\u001b[32m[I 2020-12-06 06:24:08,595]\u001b[0m Trial 8 finished with value: 6917.328040507395 and parameters: {'max_depth': 12, 'reg_alpha': 0, 'reg_lambda': 5, 'min_child_weight': 1, 'gamma': 5, 'learning_rate': 0.4197094335393677, 'colsample_bytree': 0.33, 'colsample_bynode': 0.84, 'colsample_bylevel': 0.61, 'subsample': 0.6}. Best is trial 5 with value: 6248.082790492306.\u001b[0m\n"
     ]
    },
    {
     "name": "stdout",
     "output_type": "stream",
     "text": [
      "[06:24:08] WARNING: /workspace/src/objective/regression_obj.cu:152: reg:linear is now deprecated in favor of reg:squarederror.\n"
     ]
    },
    {
     "name": "stderr",
     "output_type": "stream",
     "text": [
      "\u001b[32m[I 2020-12-06 06:24:09,183]\u001b[0m Trial 9 finished with value: 6374.024866210774 and parameters: {'max_depth': 17, 'reg_alpha': 5, 'reg_lambda': 0, 'min_child_weight': 1, 'gamma': 2, 'learning_rate': 0.21409344945990783, 'colsample_bytree': 0.48, 'colsample_bynode': 0.63, 'colsample_bylevel': 0.4, 'subsample': 0.7}. Best is trial 5 with value: 6248.082790492306.\u001b[0m\n"
     ]
    },
    {
     "name": "stdout",
     "output_type": "stream",
     "text": [
      "[06:24:09] WARNING: /workspace/src/objective/regression_obj.cu:152: reg:linear is now deprecated in favor of reg:squarederror.\n"
     ]
    },
    {
     "name": "stderr",
     "output_type": "stream",
     "text": [
      "\u001b[32m[I 2020-12-06 06:24:09,429]\u001b[0m Trial 10 finished with value: 9129.672393070774 and parameters: {'max_depth': 2, 'reg_alpha': 2, 'reg_lambda': 4, 'min_child_weight': 3, 'gamma': 4, 'learning_rate': 0.06238841878070611, 'colsample_bytree': 0.99, 'colsample_bynode': 1.0, 'colsample_bylevel': 0.77, 'subsample': 0.9}. Best is trial 5 with value: 6248.082790492306.\u001b[0m\n"
     ]
    },
    {
     "name": "stdout",
     "output_type": "stream",
     "text": [
      "[06:24:09] WARNING: /workspace/src/objective/regression_obj.cu:152: reg:linear is now deprecated in favor of reg:squarederror.\n"
     ]
    },
    {
     "name": "stderr",
     "output_type": "stream",
     "text": [
      "\u001b[32m[I 2020-12-06 06:24:10,629]\u001b[0m Trial 11 finished with value: 5591.528484507062 and parameters: {'max_depth': 19, 'reg_alpha': 5, 'reg_lambda': 0, 'min_child_weight': 1, 'gamma': 3, 'learning_rate': 0.11603210602515474, 'colsample_bytree': 0.58, 'colsample_bynode': 0.69, 'colsample_bylevel': 0.8, 'subsample': 0.8}. Best is trial 11 with value: 5591.528484507062.\u001b[0m\n"
     ]
    },
    {
     "name": "stdout",
     "output_type": "stream",
     "text": [
      "[06:24:10] WARNING: /workspace/src/objective/regression_obj.cu:152: reg:linear is now deprecated in favor of reg:squarederror.\n"
     ]
    },
    {
     "name": "stderr",
     "output_type": "stream",
     "text": [
      "\u001b[32m[I 2020-12-06 06:24:12,143]\u001b[0m Trial 12 finished with value: 6309.836321133032 and parameters: {'max_depth': 20, 'reg_alpha': 5, 'reg_lambda': 1, 'min_child_weight': 2, 'gamma': 4, 'learning_rate': 0.08232610364765448, 'colsample_bytree': 0.79, 'colsample_bynode': 0.75, 'colsample_bylevel': 0.85, 'subsample': 0.8500000000000001}. Best is trial 11 with value: 5591.528484507062.\u001b[0m\n"
     ]
    },
    {
     "name": "stdout",
     "output_type": "stream",
     "text": [
      "[06:24:12] WARNING: /workspace/src/objective/regression_obj.cu:152: reg:linear is now deprecated in favor of reg:squarederror.\n"
     ]
    },
    {
     "name": "stderr",
     "output_type": "stream",
     "text": [
      "\u001b[32m[I 2020-12-06 06:24:12,750]\u001b[0m Trial 13 finished with value: 4875.8439123682665 and parameters: {'max_depth': 7, 'reg_alpha': 3, 'reg_lambda': 3, 'min_child_weight': 0, 'gamma': 3, 'learning_rate': 0.1515108709639728, 'colsample_bytree': 0.8099999999999999, 'colsample_bynode': 1.0, 'colsample_bylevel': 0.79, 'subsample': 0.8}. Best is trial 13 with value: 4875.8439123682665.\u001b[0m\n"
     ]
    },
    {
     "name": "stdout",
     "output_type": "stream",
     "text": [
      "[06:24:12] WARNING: /workspace/src/objective/regression_obj.cu:152: reg:linear is now deprecated in favor of reg:squarederror.\n"
     ]
    },
    {
     "name": "stderr",
     "output_type": "stream",
     "text": [
      "\u001b[32m[I 2020-12-06 06:24:13,111]\u001b[0m Trial 14 finished with value: 5150.602870554384 and parameters: {'max_depth': 8, 'reg_alpha': 4, 'reg_lambda': 3, 'min_child_weight': 0, 'gamma': 3, 'learning_rate': 0.03410849626527029, 'colsample_bytree': 0.71, 'colsample_bynode': 0.42000000000000004, 'colsample_bylevel': 0.86, 'subsample': 1.0}. Best is trial 13 with value: 4875.8439123682665.\u001b[0m\n",
      "\u001b[32m[I 2020-12-06 06:24:13,307]\u001b[0m Trial 15 finished with value: 5889.723828325688 and parameters: {'max_depth': 7, 'reg_alpha': 4, 'reg_lambda': 4, 'min_child_weight': 0, 'gamma': 3, 'learning_rate': 0.02963072210960819, 'colsample_bytree': 0.79, 'colsample_bynode': 0.11, 'colsample_bylevel': 0.93, 'subsample': 1.0}. Best is trial 13 with value: 4875.8439123682665.\u001b[0m\n"
     ]
    },
    {
     "name": "stdout",
     "output_type": "stream",
     "text": [
      "[06:24:13] WARNING: /workspace/src/objective/regression_obj.cu:152: reg:linear is now deprecated in favor of reg:squarederror.\n",
      "[06:24:13] WARNING: /workspace/src/objective/regression_obj.cu:152: reg:linear is now deprecated in favor of reg:squarederror.\n"
     ]
    },
    {
     "name": "stderr",
     "output_type": "stream",
     "text": [
      "\u001b[32m[I 2020-12-06 06:24:13,621]\u001b[0m Trial 16 finished with value: 5297.839403084211 and parameters: {'max_depth': 8, 'reg_alpha': 2, 'reg_lambda': 3, 'min_child_weight': 0, 'gamma': 1, 'learning_rate': 0.03629053117255787, 'colsample_bytree': 0.77, 'colsample_bynode': 0.4, 'colsample_bylevel': 0.5700000000000001, 'subsample': 0.95}. Best is trial 13 with value: 4875.8439123682665.\u001b[0m\n",
      "\u001b[32m[I 2020-12-06 06:24:13,762]\u001b[0m Trial 17 finished with value: 7552.454801221965 and parameters: {'max_depth': 3, 'reg_alpha': 3, 'reg_lambda': 4, 'min_child_weight': 2, 'gamma': 4, 'learning_rate': 0.01770879441626822, 'colsample_bytree': 0.7, 'colsample_bynode': 0.14, 'colsample_bylevel': 0.87, 'subsample': 1.0}. Best is trial 13 with value: 4875.8439123682665.\u001b[0m\n"
     ]
    },
    {
     "name": "stdout",
     "output_type": "stream",
     "text": [
      "[06:24:13] WARNING: /workspace/src/objective/regression_obj.cu:152: reg:linear is now deprecated in favor of reg:squarederror.\n",
      "[06:24:13] WARNING: /workspace/src/objective/regression_obj.cu:152: reg:linear is now deprecated in favor of reg:squarederror.\n"
     ]
    },
    {
     "name": "stderr",
     "output_type": "stream",
     "text": [
      "\u001b[32m[I 2020-12-06 06:24:14,100]\u001b[0m Trial 18 finished with value: 5379.949403009168 and parameters: {'max_depth': 10, 'reg_alpha': 4, 'reg_lambda': 3, 'min_child_weight': 0, 'gamma': 3, 'learning_rate': 0.046315241335074434, 'colsample_bytree': 0.45000000000000007, 'colsample_bynode': 0.41000000000000003, 'colsample_bylevel': 0.6799999999999999, 'subsample': 0.9}. Best is trial 13 with value: 4875.8439123682665.\u001b[0m\n"
     ]
    },
    {
     "name": "stdout",
     "output_type": "stream",
     "text": [
      "[06:24:14] WARNING: /workspace/src/objective/regression_obj.cu:152: reg:linear is now deprecated in favor of reg:squarederror.\n"
     ]
    },
    {
     "name": "stderr",
     "output_type": "stream",
     "text": [
      "\u001b[32m[I 2020-12-06 06:24:14,478]\u001b[0m Trial 19 finished with value: 4935.253140158018 and parameters: {'max_depth': 9, 'reg_alpha': 3, 'reg_lambda': 4, 'min_child_weight': 1, 'gamma': 1, 'learning_rate': 0.07796276653626624, 'colsample_bytree': 0.88, 'colsample_bynode': 0.24000000000000002, 'colsample_bylevel': 1.0, 'subsample': 0.8500000000000001}. Best is trial 13 with value: 4875.8439123682665.\u001b[0m\n",
      "\u001b[32m[I 2020-12-06 06:24:14,635]\u001b[0m Trial 20 finished with value: 6261.573822711618 and parameters: {'max_depth': 3, 'reg_alpha': 2, 'reg_lambda': 4, 'min_child_weight': 1, 'gamma': 0, 'learning_rate': 0.2482242628709926, 'colsample_bytree': 0.88, 'colsample_bynode': 0.18, 'colsample_bylevel': 0.97, 'subsample': 0.8}. Best is trial 13 with value: 4875.8439123682665.\u001b[0m\n"
     ]
    },
    {
     "name": "stdout",
     "output_type": "stream",
     "text": [
      "[06:24:14] WARNING: /workspace/src/objective/regression_obj.cu:152: reg:linear is now deprecated in favor of reg:squarederror.\n",
      "[06:24:14] WARNING: /workspace/src/objective/regression_obj.cu:152: reg:linear is now deprecated in favor of reg:squarederror.\n"
     ]
    },
    {
     "name": "stderr",
     "output_type": "stream",
     "text": [
      "\u001b[32m[I 2020-12-06 06:24:14,990]\u001b[0m Trial 21 finished with value: 4785.331970356094 and parameters: {'max_depth': 9, 'reg_alpha': 3, 'reg_lambda': 3, 'min_child_weight': 0, 'gamma': 1, 'learning_rate': 0.08501381542732582, 'colsample_bytree': 0.88, 'colsample_bynode': 0.23, 'colsample_bylevel': 0.85, 'subsample': 0.8500000000000001}. Best is trial 21 with value: 4785.331970356094.\u001b[0m\n"
     ]
    },
    {
     "name": "stdout",
     "output_type": "stream",
     "text": [
      "[06:24:15] WARNING: /workspace/src/objective/regression_obj.cu:152: reg:linear is now deprecated in favor of reg:squarederror.\n"
     ]
    },
    {
     "name": "stderr",
     "output_type": "stream",
     "text": [
      "\u001b[32m[I 2020-12-06 06:24:15,372]\u001b[0m Trial 22 finished with value: 4957.999402454786 and parameters: {'max_depth': 9, 'reg_alpha': 3, 'reg_lambda': 4, 'min_child_weight': 1, 'gamma': 1, 'learning_rate': 0.1017994315199714, 'colsample_bytree': 0.87, 'colsample_bynode': 0.23, 'colsample_bylevel': 1.0, 'subsample': 0.8500000000000001}. Best is trial 21 with value: 4785.331970356094.\u001b[0m\n",
      "\u001b[32m[I 2020-12-06 06:24:15,559]\u001b[0m Trial 23 finished with value: 5991.4769568282145 and parameters: {'max_depth': 4, 'reg_alpha': 3, 'reg_lambda': 5, 'min_child_weight': 2, 'gamma': 1, 'learning_rate': 0.077557659406799, 'colsample_bytree': 0.87, 'colsample_bynode': 0.24000000000000002, 'colsample_bylevel': 0.9, 'subsample': 0.8500000000000001}. Best is trial 21 with value: 4785.331970356094.\u001b[0m\n"
     ]
    },
    {
     "name": "stdout",
     "output_type": "stream",
     "text": [
      "[06:24:15] WARNING: /workspace/src/objective/regression_obj.cu:152: reg:linear is now deprecated in favor of reg:squarederror.\n",
      "[06:24:15] WARNING: /workspace/src/objective/regression_obj.cu:152: reg:linear is now deprecated in favor of reg:squarederror.\n"
     ]
    },
    {
     "name": "stderr",
     "output_type": "stream",
     "text": [
      "\u001b[32m[I 2020-12-06 06:24:16,018]\u001b[0m Trial 24 finished with value: 5101.342172335915 and parameters: {'max_depth': 11, 'reg_alpha': 2, 'reg_lambda': 3, 'min_child_weight': 0, 'gamma': 0, 'learning_rate': 0.14211827591053497, 'colsample_bytree': 1.0, 'colsample_bynode': 0.27, 'colsample_bylevel': 0.78, 'subsample': 0.9}. Best is trial 21 with value: 4785.331970356094.\u001b[0m\n"
     ]
    },
    {
     "name": "stdout",
     "output_type": "stream",
     "text": [
      "[06:24:16] WARNING: /workspace/src/objective/regression_obj.cu:152: reg:linear is now deprecated in favor of reg:squarederror.\n"
     ]
    },
    {
     "name": "stderr",
     "output_type": "stream",
     "text": [
      "\u001b[32m[I 2020-12-06 06:24:16,255]\u001b[0m Trial 25 finished with value: 5367.927252194991 and parameters: {'max_depth': 6, 'reg_alpha': 3, 'reg_lambda': 2, 'min_child_weight': 1, 'gamma': 2, 'learning_rate': 0.048252597754825585, 'colsample_bytree': 0.89, 'colsample_bynode': 0.18, 'colsample_bylevel': 1.0, 'subsample': 0.75}. Best is trial 21 with value: 4785.331970356094.\u001b[0m\n"
     ]
    },
    {
     "name": "stdout",
     "output_type": "stream",
     "text": [
      "[06:24:16] WARNING: /workspace/src/objective/regression_obj.cu:152: reg:linear is now deprecated in favor of reg:squarederror.\n"
     ]
    },
    {
     "name": "stderr",
     "output_type": "stream",
     "text": [
      "\u001b[32m[I 2020-12-06 06:24:16,974]\u001b[0m Trial 26 finished with value: 4922.6773167595 and parameters: {'max_depth': 9, 'reg_alpha': 1, 'reg_lambda': 4, 'min_child_weight': 0, 'gamma': 1, 'learning_rate': 0.1652601205780775, 'colsample_bytree': 0.82, 'colsample_bynode': 0.99, 'colsample_bylevel': 0.6799999999999999, 'subsample': 0.8}. Best is trial 21 with value: 4785.331970356094.\u001b[0m\n"
     ]
    },
    {
     "name": "stdout",
     "output_type": "stream",
     "text": [
      "[06:24:16] WARNING: /workspace/src/objective/regression_obj.cu:152: reg:linear is now deprecated in favor of reg:squarederror.\n"
     ]
    },
    {
     "name": "stderr",
     "output_type": "stream",
     "text": [
      "\u001b[32m[I 2020-12-06 06:24:17,492]\u001b[0m Trial 27 finished with value: 4942.75093769648 and parameters: {'max_depth': 7, 'reg_alpha': 1, 'reg_lambda': 3, 'min_child_weight': 0, 'gamma': 2, 'learning_rate': 0.28059015868592274, 'colsample_bytree': 0.72, 'colsample_bynode': 0.98, 'colsample_bylevel': 0.66, 'subsample': 0.8}. Best is trial 21 with value: 4785.331970356094.\u001b[0m\n"
     ]
    },
    {
     "name": "stdout",
     "output_type": "stream",
     "text": [
      "[06:24:17] WARNING: /workspace/src/objective/regression_obj.cu:152: reg:linear is now deprecated in favor of reg:squarederror.\n"
     ]
    },
    {
     "name": "stderr",
     "output_type": "stream",
     "text": [
      "\u001b[32m[I 2020-12-06 06:24:18,598]\u001b[0m Trial 28 finished with value: 4835.119043129813 and parameters: {'max_depth': 16, 'reg_alpha': 1, 'reg_lambda': 5, 'min_child_weight': 0, 'gamma': 0, 'learning_rate': 0.16581627862811885, 'colsample_bytree': 0.8099999999999999, 'colsample_bynode': 0.95, 'colsample_bylevel': 0.54, 'subsample': 0.65}. Best is trial 21 with value: 4785.331970356094.\u001b[0m\n"
     ]
    },
    {
     "name": "stdout",
     "output_type": "stream",
     "text": [
      "[06:24:18] WARNING: /workspace/src/objective/regression_obj.cu:152: reg:linear is now deprecated in favor of reg:squarederror.\n"
     ]
    },
    {
     "name": "stderr",
     "output_type": "stream",
     "text": [
      "\u001b[32m[I 2020-12-06 06:24:19,296]\u001b[0m Trial 29 finished with value: 6652.482021815971 and parameters: {'max_depth': 17, 'reg_alpha': 2, 'reg_lambda': 5, 'min_child_weight': 2, 'gamma': 0, 'learning_rate': 0.48776863577025337, 'colsample_bytree': 0.59, 'colsample_bynode': 0.79, 'colsample_bylevel': 0.42000000000000004, 'subsample': 0.6}. Best is trial 21 with value: 4785.331970356094.\u001b[0m\n"
     ]
    },
    {
     "name": "stdout",
     "output_type": "stream",
     "text": [
      "[06:24:19] WARNING: /workspace/src/objective/regression_obj.cu:152: reg:linear is now deprecated in favor of reg:squarederror.\n"
     ]
    },
    {
     "name": "stderr",
     "output_type": "stream",
     "text": [
      "\u001b[32m[I 2020-12-06 06:24:20,249]\u001b[0m Trial 30 finished with value: 5036.826587331224 and parameters: {'max_depth': 16, 'reg_alpha': 0, 'reg_lambda': 5, 'min_child_weight': 0, 'gamma': 0, 'learning_rate': 0.1667925641014042, 'colsample_bytree': 0.64, 'colsample_bynode': 0.95, 'colsample_bylevel': 0.55, 'subsample': 0.65}. Best is trial 21 with value: 4785.331970356094.\u001b[0m\n"
     ]
    },
    {
     "name": "stdout",
     "output_type": "stream",
     "text": [
      "[06:24:20] WARNING: /workspace/src/objective/regression_obj.cu:152: reg:linear is now deprecated in favor of reg:squarederror.\n"
     ]
    },
    {
     "name": "stderr",
     "output_type": "stream",
     "text": [
      "\u001b[32m[I 2020-12-06 06:24:20,967]\u001b[0m Trial 31 finished with value: 5499.843778856706 and parameters: {'max_depth': 12, 'reg_alpha': 1, 'reg_lambda': 4, 'min_child_weight': 0, 'gamma': 0, 'learning_rate': 0.3534801092487937, 'colsample_bytree': 0.8099999999999999, 'colsample_bynode': 0.94, 'colsample_bylevel': 0.49, 'subsample': 0.5}. Best is trial 21 with value: 4785.331970356094.\u001b[0m\n"
     ]
    },
    {
     "name": "stdout",
     "output_type": "stream",
     "text": [
      "[06:24:20] WARNING: /workspace/src/objective/regression_obj.cu:152: reg:linear is now deprecated in favor of reg:squarederror.\n"
     ]
    },
    {
     "name": "stderr",
     "output_type": "stream",
     "text": [
      "\u001b[32m[I 2020-12-06 06:24:21,551]\u001b[0m Trial 32 finished with value: 5016.632508117209 and parameters: {'max_depth': 10, 'reg_alpha': 1, 'reg_lambda': 5, 'min_child_weight': 0, 'gamma': 1, 'learning_rate': 0.18189177677336954, 'colsample_bytree': 0.67, 'colsample_bynode': 0.8, 'colsample_bylevel': 0.63, 'subsample': 0.65}. Best is trial 21 with value: 4785.331970356094.\u001b[0m\n"
     ]
    },
    {
     "name": "stdout",
     "output_type": "stream",
     "text": [
      "[06:24:21] WARNING: /workspace/src/objective/regression_obj.cu:152: reg:linear is now deprecated in favor of reg:squarederror.\n"
     ]
    },
    {
     "name": "stderr",
     "output_type": "stream",
     "text": [
      "\u001b[32m[I 2020-12-06 06:24:22,663]\u001b[0m Trial 33 finished with value: 4946.6414574771 and parameters: {'max_depth': 13, 'reg_alpha': 2, 'reg_lambda': 3, 'min_child_weight': 1, 'gamma': 1, 'learning_rate': 0.11513118287830071, 'colsample_bytree': 0.83, 'colsample_bynode': 1.0, 'colsample_bylevel': 0.73, 'subsample': 0.75}. Best is trial 21 with value: 4785.331970356094.\u001b[0m\n"
     ]
    },
    {
     "name": "stdout",
     "output_type": "stream",
     "text": [
      "[06:24:22] WARNING: /workspace/src/objective/regression_obj.cu:152: reg:linear is now deprecated in favor of reg:squarederror.\n"
     ]
    },
    {
     "name": "stderr",
     "output_type": "stream",
     "text": [
      "\u001b[32m[I 2020-12-06 06:24:22,977]\u001b[0m Trial 34 finished with value: 5208.019847966568 and parameters: {'max_depth': 5, 'reg_alpha': 1, 'reg_lambda': 4, 'min_child_weight': 0, 'gamma': 0, 'learning_rate': 0.313772920934395, 'colsample_bytree': 0.75, 'colsample_bynode': 0.92, 'colsample_bylevel': 0.51, 'subsample': 0.8}. Best is trial 21 with value: 4785.331970356094.\u001b[0m\n"
     ]
    },
    {
     "name": "stdout",
     "output_type": "stream",
     "text": [
      "[06:24:22] WARNING: /workspace/src/objective/regression_obj.cu:152: reg:linear is now deprecated in favor of reg:squarederror.\n"
     ]
    },
    {
     "name": "stderr",
     "output_type": "stream",
     "text": [
      "\u001b[32m[I 2020-12-06 06:24:23,743]\u001b[0m Trial 35 finished with value: 4981.153552499727 and parameters: {'max_depth': 14, 'reg_alpha': 0, 'reg_lambda': 2, 'min_child_weight': 0, 'gamma': 2, 'learning_rate': 0.09605656722918028, 'colsample_bytree': 0.94, 'colsample_bynode': 1.0, 'colsample_bylevel': 0.33, 'subsample': 0.65}. Best is trial 21 with value: 4785.331970356094.\u001b[0m\n"
     ]
    },
    {
     "name": "stdout",
     "output_type": "stream",
     "text": [
      "[06:24:23] WARNING: /workspace/src/objective/regression_obj.cu:152: reg:linear is now deprecated in favor of reg:squarederror.\n"
     ]
    },
    {
     "name": "stderr",
     "output_type": "stream",
     "text": [
      "\u001b[32m[I 2020-12-06 06:24:24,251]\u001b[0m Trial 36 finished with value: 5200.03345969349 and parameters: {'max_depth': 11, 'reg_alpha': 1, 'reg_lambda': 5, 'min_child_weight': 1, 'gamma': 1, 'learning_rate': 0.1460592243929066, 'colsample_bytree': 0.93, 'colsample_bynode': 0.33, 'colsample_bylevel': 0.72, 'subsample': 0.75}. Best is trial 21 with value: 4785.331970356094.\u001b[0m\n"
     ]
    },
    {
     "name": "stdout",
     "output_type": "stream",
     "text": [
      "[06:24:24] WARNING: /workspace/src/objective/regression_obj.cu:152: reg:linear is now deprecated in favor of reg:squarederror.\n"
     ]
    },
    {
     "name": "stderr",
     "output_type": "stream",
     "text": [
      "\u001b[32m[I 2020-12-06 06:24:24,572]\u001b[0m Trial 37 finished with value: 6635.133342689833 and parameters: {'max_depth': 6, 'reg_alpha': 2, 'reg_lambda': 3, 'min_child_weight': 4, 'gamma': 2, 'learning_rate': 0.23136134273976905, 'colsample_bytree': 0.84, 'colsample_bynode': 0.49, 'colsample_bylevel': 0.8, 'subsample': 0.7}. Best is trial 21 with value: 4785.331970356094.\u001b[0m\n"
     ]
    },
    {
     "name": "stdout",
     "output_type": "stream",
     "text": [
      "[06:24:24] WARNING: /workspace/src/objective/regression_obj.cu:152: reg:linear is now deprecated in favor of reg:squarederror.\n"
     ]
    },
    {
     "name": "stderr",
     "output_type": "stream",
     "text": [
      "\u001b[32m[I 2020-12-06 06:24:25,324]\u001b[0m Trial 38 finished with value: 5300.572994338352 and parameters: {'max_depth': 15, 'reg_alpha': 3, 'reg_lambda': 4, 'min_child_weight': 0, 'gamma': 0, 'learning_rate': 0.06001571499541198, 'colsample_bytree': 0.75, 'colsample_bynode': 0.6, 'colsample_bylevel': 0.6, 'subsample': 0.55}. Best is trial 21 with value: 4785.331970356094.\u001b[0m\n"
     ]
    },
    {
     "name": "stdout",
     "output_type": "stream",
     "text": [
      "[06:24:25] WARNING: /workspace/src/objective/regression_obj.cu:152: reg:linear is now deprecated in favor of reg:squarederror.\n"
     ]
    },
    {
     "name": "stderr",
     "output_type": "stream",
     "text": [
      "\u001b[32m[I 2020-12-06 06:24:26,085]\u001b[0m Trial 39 finished with value: 6331.8076008171965 and parameters: {'max_depth': 18, 'reg_alpha': 4, 'reg_lambda': 2, 'min_child_weight': 3, 'gamma': 1, 'learning_rate': 0.1651117654814941, 'colsample_bytree': 0.62, 'colsample_bynode': 0.85, 'colsample_bylevel': 0.49, 'subsample': 0.9}. Best is trial 21 with value: 4785.331970356094.\u001b[0m\n"
     ]
    },
    {
     "name": "stdout",
     "output_type": "stream",
     "text": [
      "[06:24:26] WARNING: /workspace/src/objective/regression_obj.cu:152: reg:linear is now deprecated in favor of reg:squarederror.\n"
     ]
    },
    {
     "name": "stderr",
     "output_type": "stream",
     "text": [
      "\u001b[32m[I 2020-12-06 06:24:27,355]\u001b[0m Trial 40 finished with value: 5315.730403988309 and parameters: {'max_depth': 22, 'reg_alpha': 0, 'reg_lambda': 3, 'min_child_weight': 0, 'gamma': 3, 'learning_rate': 0.061637418009616335, 'colsample_bytree': 0.49, 'colsample_bynode': 0.9, 'colsample_bylevel': 0.6799999999999999, 'subsample': 0.95}. Best is trial 21 with value: 4785.331970356094.\u001b[0m\n"
     ]
    },
    {
     "name": "stdout",
     "output_type": "stream",
     "text": [
      "[06:24:27] WARNING: /workspace/src/objective/regression_obj.cu:152: reg:linear is now deprecated in favor of reg:squarederror.\n"
     ]
    },
    {
     "name": "stderr",
     "output_type": "stream",
     "text": [
      "\u001b[32m[I 2020-12-06 06:24:27,746]\u001b[0m Trial 41 finished with value: 4811.3041782951495 and parameters: {'max_depth': 9, 'reg_alpha': 3, 'reg_lambda': 4, 'min_child_weight': 1, 'gamma': 1, 'learning_rate': 0.07777110231615884, 'colsample_bytree': 0.92, 'colsample_bynode': 0.32, 'colsample_bylevel': 0.82, 'subsample': 0.8500000000000001}. Best is trial 21 with value: 4785.331970356094.\u001b[0m\n"
     ]
    },
    {
     "name": "stdout",
     "output_type": "stream",
     "text": [
      "[06:24:27] WARNING: /workspace/src/objective/regression_obj.cu:152: reg:linear is now deprecated in favor of reg:squarederror.\n"
     ]
    },
    {
     "name": "stderr",
     "output_type": "stream",
     "text": [
      "\u001b[32m[I 2020-12-06 06:24:28,176]\u001b[0m Trial 42 finished with value: 4849.717076191371 and parameters: {'max_depth': 9, 'reg_alpha': 3, 'reg_lambda': 4, 'min_child_weight': 1, 'gamma': 2, 'learning_rate': 0.11035916595205422, 'colsample_bytree': 0.93, 'colsample_bynode': 0.33, 'colsample_bylevel': 0.83, 'subsample': 0.8500000000000001}. Best is trial 21 with value: 4785.331970356094.\u001b[0m\n"
     ]
    },
    {
     "name": "stdout",
     "output_type": "stream",
     "text": [
      "[06:24:28] WARNING: /workspace/src/objective/regression_obj.cu:152: reg:linear is now deprecated in favor of reg:squarederror.\n"
     ]
    },
    {
     "name": "stderr",
     "output_type": "stream",
     "text": [
      "\u001b[32m[I 2020-12-06 06:24:28,754]\u001b[0m Trial 43 finished with value: 5055.1900515795705 and parameters: {'max_depth': 12, 'reg_alpha': 3, 'reg_lambda': 5, 'min_child_weight': 1, 'gamma': 2, 'learning_rate': 0.10610189335995729, 'colsample_bytree': 0.98, 'colsample_bynode': 0.31, 'colsample_bylevel': 0.85, 'subsample': 0.8500000000000001}. Best is trial 21 with value: 4785.331970356094.\u001b[0m\n"
     ]
    },
    {
     "name": "stdout",
     "output_type": "stream",
     "text": [
      "[06:24:28] WARNING: /workspace/src/objective/regression_obj.cu:152: reg:linear is now deprecated in favor of reg:squarederror.\n"
     ]
    },
    {
     "name": "stderr",
     "output_type": "stream",
     "text": [
      "\u001b[32m[I 2020-12-06 06:24:29,235]\u001b[0m Trial 44 finished with value: 5982.122834637909 and parameters: {'max_depth': 8, 'reg_alpha': 3, 'reg_lambda': 3, 'min_child_weight': 2, 'gamma': 2, 'learning_rate': 0.12526624328802927, 'colsample_bytree': 0.93, 'colsample_bynode': 0.49, 'colsample_bylevel': 0.92, 'subsample': 0.95}. Best is trial 21 with value: 4785.331970356094.\u001b[0m\n"
     ]
    },
    {
     "name": "stdout",
     "output_type": "stream",
     "text": [
      "[06:24:29] WARNING: /workspace/src/objective/regression_obj.cu:152: reg:linear is now deprecated in favor of reg:squarederror.\n"
     ]
    },
    {
     "name": "stderr",
     "output_type": "stream",
     "text": [
      "\u001b[32m[I 2020-12-06 06:24:29,702]\u001b[0m Trial 45 finished with value: 4785.04573895609 and parameters: {'max_depth': 10, 'reg_alpha': 4, 'reg_lambda': 4, 'min_child_weight': 1, 'gamma': 2, 'learning_rate': 0.08806171304583717, 'colsample_bytree': 0.91, 'colsample_bynode': 0.37, 'colsample_bylevel': 0.75, 'subsample': 0.8500000000000001}. Best is trial 45 with value: 4785.04573895609.\u001b[0m\n"
     ]
    },
    {
     "name": "stdout",
     "output_type": "stream",
     "text": [
      "[06:24:29] WARNING: /workspace/src/objective/regression_obj.cu:152: reg:linear is now deprecated in favor of reg:squarederror.\n"
     ]
    },
    {
     "name": "stderr",
     "output_type": "stream",
     "text": [
      "\u001b[32m[I 2020-12-06 06:24:30,335]\u001b[0m Trial 46 finished with value: 5242.415986417539 and parameters: {'max_depth': 13, 'reg_alpha': 4, 'reg_lambda': 4, 'min_child_weight': 1, 'gamma': 2, 'learning_rate': 0.09447279099949994, 'colsample_bytree': 1.0, 'colsample_bynode': 0.37, 'colsample_bylevel': 0.73, 'subsample': 0.9}. Best is trial 45 with value: 4785.04573895609.\u001b[0m\n"
     ]
    },
    {
     "name": "stdout",
     "output_type": "stream",
     "text": [
      "[06:24:30] WARNING: /workspace/src/objective/regression_obj.cu:152: reg:linear is now deprecated in favor of reg:squarederror.\n"
     ]
    },
    {
     "name": "stderr",
     "output_type": "stream",
     "text": [
      "\u001b[32m[I 2020-12-06 06:24:30,888]\u001b[0m Trial 47 finished with value: 5487.917259929668 and parameters: {'max_depth': 11, 'reg_alpha': 4, 'reg_lambda': 5, 'min_child_weight': 2, 'gamma': 1, 'learning_rate': 0.06255938342606168, 'colsample_bytree': 0.91, 'colsample_bynode': 0.37, 'colsample_bylevel': 0.88, 'subsample': 0.8500000000000001}. Best is trial 45 with value: 4785.04573895609.\u001b[0m\n"
     ]
    },
    {
     "name": "stdout",
     "output_type": "stream",
     "text": [
      "[06:24:30] WARNING: /workspace/src/objective/regression_obj.cu:152: reg:linear is now deprecated in favor of reg:squarederror.\n"
     ]
    },
    {
     "name": "stderr",
     "output_type": "stream",
     "text": [
      "\u001b[32m[I 2020-12-06 06:24:31,592]\u001b[0m Trial 48 finished with value: 5339.78750415493 and parameters: {'max_depth': 15, 'reg_alpha': 5, 'reg_lambda': 4, 'min_child_weight': 1, 'gamma': 2, 'learning_rate': 0.08567854642250226, 'colsample_bytree': 0.96, 'colsample_bynode': 0.28, 'colsample_bylevel': 0.83, 'subsample': 0.7}. Best is trial 45 with value: 4785.04573895609.\u001b[0m\n"
     ]
    },
    {
     "name": "stdout",
     "output_type": "stream",
     "text": [
      "[06:24:31] WARNING: /workspace/src/objective/regression_obj.cu:152: reg:linear is now deprecated in favor of reg:squarederror.\n"
     ]
    },
    {
     "name": "stderr",
     "output_type": "stream",
     "text": [
      "\u001b[32m[I 2020-12-06 06:24:32,829]\u001b[0m Trial 49 finished with value: 5496.173867142698 and parameters: {'max_depth': 25, 'reg_alpha': 4, 'reg_lambda': 5, 'min_child_weight': 3, 'gamma': 1, 'learning_rate': 0.06945412331812413, 'colsample_bytree': 0.85, 'colsample_bynode': 0.44000000000000006, 'colsample_bylevel': 0.75, 'subsample': 0.9}. Best is trial 45 with value: 4785.04573895609.\u001b[0m\n"
     ]
    },
    {
     "name": "stdout",
     "output_type": "stream",
     "text": [
      "Accuracy: 4785.04573895609\n",
      "Best hyperparameters: {'max_depth': 10, 'reg_alpha': 4, 'reg_lambda': 4, 'min_child_weight': 1, 'gamma': 2, 'learning_rate': 0.08806171304583717, 'colsample_bytree': 0.91, 'colsample_bynode': 0.37, 'colsample_bylevel': 0.75, 'subsample': 0.8500000000000001}\n"
     ]
    }
   ],
   "source": [
    "X_train, X_test, y_train, y_test = train_test_split(data, target, test_size=0.33)\n",
    "\n",
    "def objective(trial):\n",
    "    params ={\n",
    "        'max_depth':trial.suggest_int('max_depth', 2, 25),\n",
    "        'reg_alpha':trial.suggest_int('reg_alpha', 0, 5),\n",
    "        'reg_lambda':trial.suggest_int('reg_lambda', 0, 5),\n",
    "        'min_child_weight':trial.suggest_int('min_child_weight', 0, 5),\n",
    "        'gamma':trial.suggest_int('gamma', 0, 5),\n",
    "        'learning_rate':trial.suggest_loguniform('learning_rate', 0.005, 0.5),\n",
    "        'colsample_bytree':trial.suggest_discrete_uniform('colsample_bytree', 0.1, 1, 0.01),\n",
    "        'colsample_bynode':trial.suggest_discrete_uniform('colsample_bynode', 0.1, 1, 0.01),\n",
    "        'colsample_bylevel':trial.suggest_discrete_uniform('colsample_bylevel', 0.1, 1, 0.01),\n",
    "        'subsample':trial.suggest_discrete_uniform('subsample', 0.5, 1, 0.05),\n",
    "    }\n",
    "\n",
    "    xgboost = xgb.XGBRegressor(**params)\n",
    "    xgboost.fit(X_train, y_train)\n",
    "    return mean_absolute_error(y_test, xgboost.predict(X_test))\n",
    "\n",
    "\n",
    "study = opt.create_study(direction='minimize')\n",
    "study.optimize(objective, n_trials=50)\n",
    "trial = study.best_trial\n",
    "print('Accuracy: {}'.format(trial.value))\n",
    "print(\"Best hyperparameters: {}\".format(trial.params))"
   ]
  },
  {
   "cell_type": "code",
   "execution_count": 54,
   "metadata": {
    "executionInfo": {
     "elapsed": 509,
     "status": "ok",
     "timestamp": 1607237736621,
     "user": {
      "displayName": "Joseph Dieciedue",
      "photoUrl": "",
      "userId": "02343380692441435709"
     },
     "user_tz": 360
    },
    "id": "zGJpYCMpkz8e"
   },
   "outputs": [],
   "source": [
    "plot_df = pd.read_csv('https://raw.githubusercontent.com/jdieciedue/DataScienceLabFiles/main/county_statistics_mod.csv?token=AHQQ3CRRYBGJ7S4W6NVFK7C7ZSAJI')"
   ]
  },
  {
   "cell_type": "code",
   "execution_count": 55,
   "metadata": {
    "colab": {
     "base_uri": "https://localhost:8080/",
     "height": 308
    },
    "executionInfo": {
     "elapsed": 339,
     "status": "ok",
     "timestamp": 1607237739447,
     "user": {
      "displayName": "Joseph Dieciedue",
      "photoUrl": "",
      "userId": "02343380692441435709"
     },
     "user_tz": 360
    },
    "id": "-pY_niC6K6qx",
    "outputId": "c04306f6-3e0d-4455-d348-82f15abd6d89"
   },
   "outputs": [
    {
     "data": {
      "text/html": [
       "<div>\n",
       "<style scoped>\n",
       "    .dataframe tbody tr th:only-of-type {\n",
       "        vertical-align: middle;\n",
       "    }\n",
       "\n",
       "    .dataframe tbody tr th {\n",
       "        vertical-align: top;\n",
       "    }\n",
       "\n",
       "    .dataframe thead th {\n",
       "        text-align: right;\n",
       "    }\n",
       "</style>\n",
       "<table border=\"1\" class=\"dataframe\">\n",
       "  <thead>\n",
       "    <tr style=\"text-align: right;\">\n",
       "      <th></th>\n",
       "      <th>FIPS</th>\n",
       "      <th>CTYNAME</th>\n",
       "      <th>abbrv</th>\n",
       "      <th>state</th>\n",
       "      <th>county</th>\n",
       "      <th>ID</th>\n",
       "      <th>percentage16_Donald_Trump</th>\n",
       "      <th>percentage16_Hillary_Clinton</th>\n",
       "      <th>total_votes16</th>\n",
       "      <th>votes16_Donald_Trump</th>\n",
       "      <th>votes16_Hillary_Clinton</th>\n",
       "      <th>percentage20_Donald_Trump</th>\n",
       "      <th>percentage20_Joe_Biden</th>\n",
       "      <th>total_votes20</th>\n",
       "      <th>votes20_Donald_Trump</th>\n",
       "      <th>votes20_Joe_Biden</th>\n",
       "      <th>Unnamed: 16</th>\n",
       "      <th>Unnamed: 17</th>\n",
       "      <th>Unnamed: 18</th>\n",
       "      <th>Unnamed: 19</th>\n",
       "      <th>Unnamed: 20</th>\n",
       "      <th>Unnamed: 21</th>\n",
       "      <th>Unnamed: 22</th>\n",
       "      <th>Unnamed: 23</th>\n",
       "      <th>Unnamed: 24</th>\n",
       "      <th>Unnamed: 25</th>\n",
       "      <th>Unnamed: 26</th>\n",
       "      <th>Unnamed: 27</th>\n",
       "      <th>Unnamed: 28</th>\n",
       "      <th>Unnamed: 29</th>\n",
       "      <th>Unnamed: 30</th>\n",
       "      <th>Unnamed: 31</th>\n",
       "      <th>Unnamed: 32</th>\n",
       "      <th>Unnamed: 33</th>\n",
       "      <th>Unnamed: 34</th>\n",
       "      <th>Unnamed: 35</th>\n",
       "      <th>Unnamed: 36</th>\n",
       "      <th>Unnamed: 37</th>\n",
       "      <th>Unnamed: 38</th>\n",
       "      <th>Unnamed: 39</th>\n",
       "      <th>Unnamed: 40</th>\n",
       "      <th>Unnamed: 41</th>\n",
       "      <th>Unnamed: 42</th>\n",
       "      <th>Unnamed: 43</th>\n",
       "      <th>Unnamed: 44</th>\n",
       "      <th>Unnamed: 45</th>\n",
       "      <th>Unnamed: 46</th>\n",
       "      <th>Unnamed: 47</th>\n",
       "      <th>Unnamed: 48</th>\n",
       "      <th>Unnamed: 49</th>\n",
       "      <th>Unnamed: 50</th>\n",
       "      <th>Unnamed: 51</th>\n",
       "      <th>Unnamed: 52</th>\n",
       "      <th>Unnamed: 53</th>\n",
       "      <th>Unnamed: 54</th>\n",
       "      <th>Unnamed: 55</th>\n",
       "      <th>Unnamed: 56</th>\n",
       "      <th>Unnamed: 57</th>\n",
       "      <th>Unnamed: 58</th>\n",
       "      <th>Unnamed: 59</th>\n",
       "      <th>Unnamed: 60</th>\n",
       "      <th>Unnamed: 61</th>\n",
       "      <th>Unnamed: 62</th>\n",
       "      <th>Unnamed: 63</th>\n",
       "    </tr>\n",
       "  </thead>\n",
       "  <tbody>\n",
       "    <tr>\n",
       "      <th>3136</th>\n",
       "      <td>4027</td>\n",
       "      <td>Yuma County</td>\n",
       "      <td>AZ</td>\n",
       "      <td>AZ</td>\n",
       "      <td>Yuma</td>\n",
       "      <td>3106</td>\n",
       "      <td>0.505</td>\n",
       "      <td>0.450</td>\n",
       "      <td>40759.0</td>\n",
       "      <td>20586.0</td>\n",
       "      <td>18336.0</td>\n",
       "      <td>0.523</td>\n",
       "      <td>0.461</td>\n",
       "      <td>68427.0</td>\n",
       "      <td>35766.0</td>\n",
       "      <td>31562.0</td>\n",
       "      <td>NaN</td>\n",
       "      <td>NaN</td>\n",
       "      <td>NaN</td>\n",
       "      <td>NaN</td>\n",
       "      <td>NaN</td>\n",
       "      <td>NaN</td>\n",
       "      <td>NaN</td>\n",
       "      <td>NaN</td>\n",
       "      <td>NaN</td>\n",
       "      <td>NaN</td>\n",
       "      <td>NaN</td>\n",
       "      <td>NaN</td>\n",
       "      <td>NaN</td>\n",
       "      <td>NaN</td>\n",
       "      <td>NaN</td>\n",
       "      <td>NaN</td>\n",
       "      <td>NaN</td>\n",
       "      <td>NaN</td>\n",
       "      <td>NaN</td>\n",
       "      <td>NaN</td>\n",
       "      <td>NaN</td>\n",
       "      <td>NaN</td>\n",
       "      <td>NaN</td>\n",
       "      <td>NaN</td>\n",
       "      <td>NaN</td>\n",
       "      <td>NaN</td>\n",
       "      <td>NaN</td>\n",
       "      <td>NaN</td>\n",
       "      <td>NaN</td>\n",
       "      <td>NaN</td>\n",
       "      <td>NaN</td>\n",
       "      <td>NaN</td>\n",
       "      <td>NaN</td>\n",
       "      <td>NaN</td>\n",
       "      <td>NaN</td>\n",
       "      <td>NaN</td>\n",
       "      <td>NaN</td>\n",
       "      <td>NaN</td>\n",
       "      <td>NaN</td>\n",
       "      <td>NaN</td>\n",
       "      <td>NaN</td>\n",
       "      <td>NaN</td>\n",
       "      <td>NaN</td>\n",
       "      <td>NaN</td>\n",
       "      <td>NaN</td>\n",
       "      <td>NaN</td>\n",
       "      <td>NaN</td>\n",
       "      <td>NaN</td>\n",
       "    </tr>\n",
       "    <tr>\n",
       "      <th>3137</th>\n",
       "      <td>8125</td>\n",
       "      <td>Yuma County</td>\n",
       "      <td>CO</td>\n",
       "      <td>CO</td>\n",
       "      <td>Yuma</td>\n",
       "      <td>3107</td>\n",
       "      <td>0.805</td>\n",
       "      <td>0.150</td>\n",
       "      <td>4664.0</td>\n",
       "      <td>3755.0</td>\n",
       "      <td>701.0</td>\n",
       "      <td>0.826</td>\n",
       "      <td>0.156</td>\n",
       "      <td>4885.0</td>\n",
       "      <td>4037.0</td>\n",
       "      <td>763.0</td>\n",
       "      <td>NaN</td>\n",
       "      <td>NaN</td>\n",
       "      <td>NaN</td>\n",
       "      <td>NaN</td>\n",
       "      <td>NaN</td>\n",
       "      <td>NaN</td>\n",
       "      <td>NaN</td>\n",
       "      <td>NaN</td>\n",
       "      <td>NaN</td>\n",
       "      <td>NaN</td>\n",
       "      <td>NaN</td>\n",
       "      <td>NaN</td>\n",
       "      <td>NaN</td>\n",
       "      <td>NaN</td>\n",
       "      <td>NaN</td>\n",
       "      <td>NaN</td>\n",
       "      <td>NaN</td>\n",
       "      <td>NaN</td>\n",
       "      <td>NaN</td>\n",
       "      <td>NaN</td>\n",
       "      <td>NaN</td>\n",
       "      <td>NaN</td>\n",
       "      <td>NaN</td>\n",
       "      <td>NaN</td>\n",
       "      <td>NaN</td>\n",
       "      <td>NaN</td>\n",
       "      <td>NaN</td>\n",
       "      <td>NaN</td>\n",
       "      <td>NaN</td>\n",
       "      <td>NaN</td>\n",
       "      <td>NaN</td>\n",
       "      <td>NaN</td>\n",
       "      <td>NaN</td>\n",
       "      <td>NaN</td>\n",
       "      <td>NaN</td>\n",
       "      <td>NaN</td>\n",
       "      <td>NaN</td>\n",
       "      <td>NaN</td>\n",
       "      <td>NaN</td>\n",
       "      <td>NaN</td>\n",
       "      <td>NaN</td>\n",
       "      <td>NaN</td>\n",
       "      <td>NaN</td>\n",
       "      <td>NaN</td>\n",
       "      <td>NaN</td>\n",
       "      <td>NaN</td>\n",
       "      <td>NaN</td>\n",
       "      <td>NaN</td>\n",
       "    </tr>\n",
       "    <tr>\n",
       "      <th>3138</th>\n",
       "      <td>48505</td>\n",
       "      <td>Zapata County</td>\n",
       "      <td>TX</td>\n",
       "      <td>TX</td>\n",
       "      <td>Zapata</td>\n",
       "      <td>3108</td>\n",
       "      <td>0.328</td>\n",
       "      <td>0.656</td>\n",
       "      <td>3134.0</td>\n",
       "      <td>1028.0</td>\n",
       "      <td>2056.0</td>\n",
       "      <td>0.525</td>\n",
       "      <td>0.471</td>\n",
       "      <td>3867.0</td>\n",
       "      <td>2032.0</td>\n",
       "      <td>1820.0</td>\n",
       "      <td>NaN</td>\n",
       "      <td>NaN</td>\n",
       "      <td>NaN</td>\n",
       "      <td>NaN</td>\n",
       "      <td>NaN</td>\n",
       "      <td>NaN</td>\n",
       "      <td>NaN</td>\n",
       "      <td>NaN</td>\n",
       "      <td>NaN</td>\n",
       "      <td>NaN</td>\n",
       "      <td>NaN</td>\n",
       "      <td>NaN</td>\n",
       "      <td>NaN</td>\n",
       "      <td>NaN</td>\n",
       "      <td>NaN</td>\n",
       "      <td>NaN</td>\n",
       "      <td>NaN</td>\n",
       "      <td>NaN</td>\n",
       "      <td>NaN</td>\n",
       "      <td>NaN</td>\n",
       "      <td>NaN</td>\n",
       "      <td>NaN</td>\n",
       "      <td>NaN</td>\n",
       "      <td>NaN</td>\n",
       "      <td>NaN</td>\n",
       "      <td>NaN</td>\n",
       "      <td>NaN</td>\n",
       "      <td>NaN</td>\n",
       "      <td>NaN</td>\n",
       "      <td>NaN</td>\n",
       "      <td>NaN</td>\n",
       "      <td>NaN</td>\n",
       "      <td>NaN</td>\n",
       "      <td>NaN</td>\n",
       "      <td>NaN</td>\n",
       "      <td>NaN</td>\n",
       "      <td>NaN</td>\n",
       "      <td>NaN</td>\n",
       "      <td>NaN</td>\n",
       "      <td>NaN</td>\n",
       "      <td>NaN</td>\n",
       "      <td>NaN</td>\n",
       "      <td>NaN</td>\n",
       "      <td>NaN</td>\n",
       "      <td>NaN</td>\n",
       "      <td>NaN</td>\n",
       "      <td>NaN</td>\n",
       "      <td>NaN</td>\n",
       "    </tr>\n",
       "    <tr>\n",
       "      <th>3139</th>\n",
       "      <td>48507</td>\n",
       "      <td>Zavala County</td>\n",
       "      <td>TX</td>\n",
       "      <td>TX</td>\n",
       "      <td>Zavala</td>\n",
       "      <td>3109</td>\n",
       "      <td>0.204</td>\n",
       "      <td>0.777</td>\n",
       "      <td>3390.0</td>\n",
       "      <td>692.0</td>\n",
       "      <td>2633.0</td>\n",
       "      <td>0.340</td>\n",
       "      <td>0.654</td>\n",
       "      <td>4379.0</td>\n",
       "      <td>1490.0</td>\n",
       "      <td>2864.0</td>\n",
       "      <td>NaN</td>\n",
       "      <td>NaN</td>\n",
       "      <td>NaN</td>\n",
       "      <td>NaN</td>\n",
       "      <td>NaN</td>\n",
       "      <td>NaN</td>\n",
       "      <td>NaN</td>\n",
       "      <td>NaN</td>\n",
       "      <td>NaN</td>\n",
       "      <td>NaN</td>\n",
       "      <td>NaN</td>\n",
       "      <td>NaN</td>\n",
       "      <td>NaN</td>\n",
       "      <td>NaN</td>\n",
       "      <td>NaN</td>\n",
       "      <td>NaN</td>\n",
       "      <td>NaN</td>\n",
       "      <td>NaN</td>\n",
       "      <td>NaN</td>\n",
       "      <td>NaN</td>\n",
       "      <td>NaN</td>\n",
       "      <td>NaN</td>\n",
       "      <td>NaN</td>\n",
       "      <td>NaN</td>\n",
       "      <td>NaN</td>\n",
       "      <td>NaN</td>\n",
       "      <td>NaN</td>\n",
       "      <td>NaN</td>\n",
       "      <td>NaN</td>\n",
       "      <td>NaN</td>\n",
       "      <td>NaN</td>\n",
       "      <td>NaN</td>\n",
       "      <td>NaN</td>\n",
       "      <td>NaN</td>\n",
       "      <td>NaN</td>\n",
       "      <td>NaN</td>\n",
       "      <td>NaN</td>\n",
       "      <td>NaN</td>\n",
       "      <td>NaN</td>\n",
       "      <td>NaN</td>\n",
       "      <td>NaN</td>\n",
       "      <td>NaN</td>\n",
       "      <td>NaN</td>\n",
       "      <td>NaN</td>\n",
       "      <td>NaN</td>\n",
       "      <td>NaN</td>\n",
       "      <td>NaN</td>\n",
       "      <td>NaN</td>\n",
       "    </tr>\n",
       "    <tr>\n",
       "      <th>3140</th>\n",
       "      <td>46137</td>\n",
       "      <td>Ziebach County</td>\n",
       "      <td>SD</td>\n",
       "      <td>SD</td>\n",
       "      <td>Ziebach</td>\n",
       "      <td>3110</td>\n",
       "      <td>0.480</td>\n",
       "      <td>0.460</td>\n",
       "      <td>766.0</td>\n",
       "      <td>368.0</td>\n",
       "      <td>352.0</td>\n",
       "      <td>0.446</td>\n",
       "      <td>0.531</td>\n",
       "      <td>906.0</td>\n",
       "      <td>404.0</td>\n",
       "      <td>481.0</td>\n",
       "      <td>NaN</td>\n",
       "      <td>NaN</td>\n",
       "      <td>NaN</td>\n",
       "      <td>NaN</td>\n",
       "      <td>NaN</td>\n",
       "      <td>NaN</td>\n",
       "      <td>NaN</td>\n",
       "      <td>NaN</td>\n",
       "      <td>NaN</td>\n",
       "      <td>NaN</td>\n",
       "      <td>NaN</td>\n",
       "      <td>NaN</td>\n",
       "      <td>NaN</td>\n",
       "      <td>NaN</td>\n",
       "      <td>NaN</td>\n",
       "      <td>NaN</td>\n",
       "      <td>NaN</td>\n",
       "      <td>NaN</td>\n",
       "      <td>NaN</td>\n",
       "      <td>NaN</td>\n",
       "      <td>NaN</td>\n",
       "      <td>NaN</td>\n",
       "      <td>NaN</td>\n",
       "      <td>NaN</td>\n",
       "      <td>NaN</td>\n",
       "      <td>NaN</td>\n",
       "      <td>NaN</td>\n",
       "      <td>NaN</td>\n",
       "      <td>NaN</td>\n",
       "      <td>NaN</td>\n",
       "      <td>NaN</td>\n",
       "      <td>NaN</td>\n",
       "      <td>NaN</td>\n",
       "      <td>NaN</td>\n",
       "      <td>NaN</td>\n",
       "      <td>NaN</td>\n",
       "      <td>NaN</td>\n",
       "      <td>NaN</td>\n",
       "      <td>NaN</td>\n",
       "      <td>NaN</td>\n",
       "      <td>NaN</td>\n",
       "      <td>NaN</td>\n",
       "      <td>NaN</td>\n",
       "      <td>NaN</td>\n",
       "      <td>NaN</td>\n",
       "      <td>NaN</td>\n",
       "      <td>NaN</td>\n",
       "      <td>NaN</td>\n",
       "    </tr>\n",
       "  </tbody>\n",
       "</table>\n",
       "</div>"
      ],
      "text/plain": [
       "       FIPS         CTYNAME abbrv  ... Unnamed: 61 Unnamed: 62  Unnamed: 63\n",
       "3136   4027     Yuma County    AZ  ...         NaN         NaN          NaN\n",
       "3137   8125     Yuma County    CO  ...         NaN         NaN          NaN\n",
       "3138  48505   Zapata County    TX  ...         NaN         NaN          NaN\n",
       "3139  48507   Zavala County    TX  ...         NaN         NaN          NaN\n",
       "3140  46137  Ziebach County    SD  ...         NaN         NaN          NaN\n",
       "\n",
       "[5 rows x 64 columns]"
      ]
     },
     "execution_count": 55,
     "metadata": {
      "tags": []
     },
     "output_type": "execute_result"
    }
   ],
   "source": [
    "plot_df.tail()"
   ]
  },
  {
   "cell_type": "code",
   "execution_count": 56,
   "metadata": {
    "colab": {
     "base_uri": "https://localhost:8080/",
     "height": 191
    },
    "executionInfo": {
     "elapsed": 429,
     "status": "ok",
     "timestamp": 1607237741642,
     "user": {
      "displayName": "Joseph Dieciedue",
      "photoUrl": "",
      "userId": "02343380692441435709"
     },
     "user_tz": 360
    },
    "id": "oWLtxjq2lW3t",
    "outputId": "9d93773c-d295-41c0-c051-d69d05d6515f"
   },
   "outputs": [
    {
     "data": {
      "text/html": [
       "<div>\n",
       "<style scoped>\n",
       "    .dataframe tbody tr th:only-of-type {\n",
       "        vertical-align: middle;\n",
       "    }\n",
       "\n",
       "    .dataframe tbody tr th {\n",
       "        vertical-align: top;\n",
       "    }\n",
       "\n",
       "    .dataframe thead th {\n",
       "        text-align: right;\n",
       "    }\n",
       "</style>\n",
       "<table border=\"1\" class=\"dataframe\">\n",
       "  <thead>\n",
       "    <tr style=\"text-align: right;\">\n",
       "      <th></th>\n",
       "      <th>FIPS</th>\n",
       "      <th>CTYNAME</th>\n",
       "      <th>abbrv</th>\n",
       "      <th>ID</th>\n",
       "    </tr>\n",
       "  </thead>\n",
       "  <tbody>\n",
       "    <tr>\n",
       "      <th>3136</th>\n",
       "      <td>4027</td>\n",
       "      <td>Yuma County</td>\n",
       "      <td>AZ</td>\n",
       "      <td>3106</td>\n",
       "    </tr>\n",
       "    <tr>\n",
       "      <th>3137</th>\n",
       "      <td>8125</td>\n",
       "      <td>Yuma County</td>\n",
       "      <td>CO</td>\n",
       "      <td>3107</td>\n",
       "    </tr>\n",
       "    <tr>\n",
       "      <th>3138</th>\n",
       "      <td>48505</td>\n",
       "      <td>Zapata County</td>\n",
       "      <td>TX</td>\n",
       "      <td>3108</td>\n",
       "    </tr>\n",
       "    <tr>\n",
       "      <th>3139</th>\n",
       "      <td>48507</td>\n",
       "      <td>Zavala County</td>\n",
       "      <td>TX</td>\n",
       "      <td>3109</td>\n",
       "    </tr>\n",
       "    <tr>\n",
       "      <th>3140</th>\n",
       "      <td>46137</td>\n",
       "      <td>Ziebach County</td>\n",
       "      <td>SD</td>\n",
       "      <td>3110</td>\n",
       "    </tr>\n",
       "  </tbody>\n",
       "</table>\n",
       "</div>"
      ],
      "text/plain": [
       "       FIPS         CTYNAME abbrv    ID\n",
       "3136   4027     Yuma County    AZ  3106\n",
       "3137   8125     Yuma County    CO  3107\n",
       "3138  48505   Zapata County    TX  3108\n",
       "3139  48507   Zavala County    TX  3109\n",
       "3140  46137  Ziebach County    SD  3110"
      ]
     },
     "execution_count": 56,
     "metadata": {
      "tags": []
     },
     "output_type": "execute_result"
    }
   ],
   "source": [
    "necessary = plot_df[['FIPS', 'CTYNAME', 'abbrv', 'ID']].copy()\n",
    "necessary.tail()"
   ]
  },
  {
   "cell_type": "code",
   "execution_count": 63,
   "metadata": {
    "executionInfo": {
     "elapsed": 321,
     "status": "ok",
     "timestamp": 1607237852861,
     "user": {
      "displayName": "Joseph Dieciedue",
      "photoUrl": "",
      "userId": "02343380692441435709"
     },
     "user_tz": 360
    },
    "id": "VScry1z7mgDG"
   },
   "outputs": [],
   "source": [
    "values = plot_df['percentage20_Donald_Trump'].tolist()"
   ]
  },
  {
   "cell_type": "code",
   "execution_count": 64,
   "metadata": {
    "executionInfo": {
     "elapsed": 400,
     "status": "ok",
     "timestamp": 1607237853898,
     "user": {
      "displayName": "Joseph Dieciedue",
      "photoUrl": "",
      "userId": "02343380692441435709"
     },
     "user_tz": 360
    },
    "id": "OYW3gdsznLNg"
   },
   "outputs": [],
   "source": [
    "fips = necessary['FIPS'].tolist()"
   ]
  },
  {
   "cell_type": "code",
   "execution_count": 65,
   "metadata": {
    "colab": {
     "base_uri": "https://localhost:8080/",
     "height": 467,
     "output_embedded_package_id": "1RvsnLDDzqi4ezLh9H-KTqBor5Lz1dr_a"
    },
    "executionInfo": {
     "elapsed": 20795,
     "status": "ok",
     "timestamp": 1607237877373,
     "user": {
      "displayName": "Joseph Dieciedue",
      "photoUrl": "",
      "userId": "02343380692441435709"
     },
     "user_tz": 360
    },
    "id": "KUu3tLThKMRE",
    "outputId": "5ce5ff15-f620-4b7f-aa00-4fff05da99c0"
   },
   "outputs": [
    {
     "data": {
      "text/plain": [
       "Output hidden; open in https://colab.research.google.com to view."
      ]
     },
     "metadata": {},
     "output_type": "display_data"
    }
   ],
   "source": [
    "colorscale = [\"#0A22D3\",\"#D30A0A\"]\n",
    "endpts = [0.5]\n",
    "\n",
    "fig = ff.create_choropleth(\n",
    "    fips=fips, values=values, colorscale=colorscale, binning_endpoints = endpts,\n",
    "    county_outline={'color': 'rgb(255,255,255)', 'width': 0.2}, round_legend_values=False,\n",
    "    legend_title='Bad binding points please ignore', title='Trump Votes per Capita with horrible scale'\n",
    ")\n",
    "# Plot in offline mode and save plot in your Python script folder\n",
    "plotly.offline.plot(fig, filename='diseasechange.html')\n",
    "fig.layout.template = None\n",
    "fig.show()"
   ]
  },
  {
   "cell_type": "code",
   "execution_count": 75,
   "metadata": {
    "colab": {
     "base_uri": "https://localhost:8080/"
    },
    "executionInfo": {
     "elapsed": 353,
     "status": "ok",
     "timestamp": 1607225169314,
     "user": {
      "displayName": "Joseph Dieciedue",
      "photoUrl": "",
      "userId": "02343380692441435709"
     },
     "user_tz": 360
    },
    "id": "g7f9d6YNCEet",
    "outputId": "b7f4e990-84a1-4c9d-98ac-3fbe94e87785"
   },
   "outputs": [
    {
     "data": {
      "text/plain": [
       "[0.5]"
      ]
     },
     "execution_count": 75,
     "metadata": {
      "tags": []
     },
     "output_type": "execute_result"
    }
   ],
   "source": [
    "endpts = [0.5]\n",
    "endpts"
   ]
  }
 ],
 "metadata": {
  "colab": {
   "collapsed_sections": [],
   "name": "JosephNotebook.ipynb",
   "provenance": []
  },
  "kernelspec": {
   "display_name": "Python 3",
   "language": "python",
   "name": "python3"
  },
  "language_info": {
   "codemirror_mode": {
    "name": "ipython",
    "version": 3
   },
   "file_extension": ".py",
   "mimetype": "text/x-python",
   "name": "python",
   "nbconvert_exporter": "python",
   "pygments_lexer": "ipython3",
   "version": "3.7.7"
  }
 },
 "nbformat": 4,
 "nbformat_minor": 1
}
